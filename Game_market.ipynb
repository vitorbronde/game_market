{
 "cells": [
  {
   "cell_type": "code",
   "execution_count": 274,
   "id": "eb893ec9",
   "metadata": {},
   "outputs": [],
   "source": [
    "import pandas as pd\n",
    "import numpy as np\n",
    "import seaborn as sns\n",
    "import matplotlib.pyplot as plt\n",
    "from matplotlib.ticker import PercentFormatter\n",
    "from matplotlib.pyplot import figure\n",
    "import statsmodels.api as sm\n",
    "import scipy\n",
    "import matplotlib.pyplot as plt\n",
    "from statsmodels.graphics.gofplots import qqplot"
   ]
  },
  {
   "cell_type": "code",
   "execution_count": 199,
   "id": "8d4e4996",
   "metadata": {},
   "outputs": [
    {
     "data": {
      "text/html": [
       "<div>\n",
       "<style scoped>\n",
       "    .dataframe tbody tr th:only-of-type {\n",
       "        vertical-align: middle;\n",
       "    }\n",
       "\n",
       "    .dataframe tbody tr th {\n",
       "        vertical-align: top;\n",
       "    }\n",
       "\n",
       "    .dataframe thead th {\n",
       "        text-align: right;\n",
       "    }\n",
       "</style>\n",
       "<table border=\"1\" class=\"dataframe\">\n",
       "  <thead>\n",
       "    <tr style=\"text-align: right;\">\n",
       "      <th></th>\n",
       "      <th>Unnamed: 0</th>\n",
       "      <th>device_id</th>\n",
       "      <th>event_date</th>\n",
       "      <th>creation_date</th>\n",
       "      <th>app</th>\n",
       "      <th>platform</th>\n",
       "      <th>partner</th>\n",
       "      <th>country</th>\n",
       "      <th>iap_purchases</th>\n",
       "      <th>iap_revenue</th>\n",
       "      <th>ads_revenue</th>\n",
       "      <th>ad_impressions</th>\n",
       "    </tr>\n",
       "  </thead>\n",
       "  <tbody>\n",
       "    <tr>\n",
       "      <th>0</th>\n",
       "      <td>1</td>\n",
       "      <td>484c0f6c716b62fbdd651b48448632c6</td>\n",
       "      <td>2022-01-05</td>\n",
       "      <td>2020-12-31</td>\n",
       "      <td>Football Simulator</td>\n",
       "      <td>android</td>\n",
       "      <td>Organic</td>\n",
       "      <td>Canada</td>\n",
       "      <td>1</td>\n",
       "      <td>4,18164547135849</td>\n",
       "      <td>0,00268264452</td>\n",
       "      <td>6</td>\n",
       "    </tr>\n",
       "    <tr>\n",
       "      <th>1</th>\n",
       "      <td>2</td>\n",
       "      <td>54a09dd2892b768a6ae566e0f4ee61e1</td>\n",
       "      <td>2022-05-29</td>\n",
       "      <td>2022-05-01</td>\n",
       "      <td>Football Simulator</td>\n",
       "      <td>android</td>\n",
       "      <td>Paid</td>\n",
       "      <td>Pakistan</td>\n",
       "      <td>1</td>\n",
       "      <td>2,35950024395138</td>\n",
       "      <td>0,0652680554058738</td>\n",
       "      <td>3</td>\n",
       "    </tr>\n",
       "    <tr>\n",
       "      <th>2</th>\n",
       "      <td>3</td>\n",
       "      <td>be59fd534f61e87e6c617fa50edde27e</td>\n",
       "      <td>2022-04-02</td>\n",
       "      <td>2022-03-30</td>\n",
       "      <td>Football Simulator</td>\n",
       "      <td>ios</td>\n",
       "      <td>Organic</td>\n",
       "      <td>United States</td>\n",
       "      <td>1</td>\n",
       "      <td>2,22307474997593</td>\n",
       "      <td>0,03285518396</td>\n",
       "      <td>28</td>\n",
       "    </tr>\n",
       "    <tr>\n",
       "      <th>3</th>\n",
       "      <td>4</td>\n",
       "      <td>af4830573c2ac1d4efc538d16d645b31</td>\n",
       "      <td>2022-03-25</td>\n",
       "      <td>2022-03-25</td>\n",
       "      <td>Football Simulator</td>\n",
       "      <td>android</td>\n",
       "      <td>Organic</td>\n",
       "      <td>Argentina</td>\n",
       "      <td>1</td>\n",
       "      <td>3,93345382196093</td>\n",
       "      <td>0,00025961076</td>\n",
       "      <td>7</td>\n",
       "    </tr>\n",
       "    <tr>\n",
       "      <th>4</th>\n",
       "      <td>5</td>\n",
       "      <td>13c70063c611c94b1f5051e4eba6f5c0</td>\n",
       "      <td>2022-03-24</td>\n",
       "      <td>2022-03-12</td>\n",
       "      <td>Football Simulator</td>\n",
       "      <td>android</td>\n",
       "      <td>Paid</td>\n",
       "      <td>United States</td>\n",
       "      <td>1</td>\n",
       "      <td>3,23837452336857</td>\n",
       "      <td>0,00066344972</td>\n",
       "      <td>4</td>\n",
       "    </tr>\n",
       "  </tbody>\n",
       "</table>\n",
       "</div>"
      ],
      "text/plain": [
       "   Unnamed: 0                         device_id  event_date creation_date  \\\n",
       "0           1  484c0f6c716b62fbdd651b48448632c6  2022-01-05    2020-12-31   \n",
       "1           2  54a09dd2892b768a6ae566e0f4ee61e1  2022-05-29    2022-05-01   \n",
       "2           3  be59fd534f61e87e6c617fa50edde27e  2022-04-02    2022-03-30   \n",
       "3           4  af4830573c2ac1d4efc538d16d645b31  2022-03-25    2022-03-25   \n",
       "4           5  13c70063c611c94b1f5051e4eba6f5c0  2022-03-24    2022-03-12   \n",
       "\n",
       "                  app platform  partner        country  iap_purchases  \\\n",
       "0  Football Simulator  android  Organic         Canada              1   \n",
       "1  Football Simulator  android     Paid       Pakistan              1   \n",
       "2  Football Simulator      ios  Organic  United States              1   \n",
       "3  Football Simulator  android  Organic      Argentina              1   \n",
       "4  Football Simulator  android     Paid  United States              1   \n",
       "\n",
       "        iap_revenue         ads_revenue  ad_impressions  \n",
       "0  4,18164547135849       0,00268264452               6  \n",
       "1  2,35950024395138  0,0652680554058738               3  \n",
       "2  2,22307474997593       0,03285518396              28  \n",
       "3  3,93345382196093       0,00025961076               7  \n",
       "4  3,23837452336857       0,00066344972               4  "
      ]
     },
     "execution_count": 199,
     "metadata": {},
     "output_type": "execute_result"
    }
   ],
   "source": [
    "df_game = pd.read_csv('dados_case_sr.csv', sep=';', error_bad_lines=False)\n",
    "df_game.head()"
   ]
  },
  {
   "cell_type": "markdown",
   "id": "745a3119",
   "metadata": {},
   "source": [
    "## Verificando a necessidade de ajustes na base"
   ]
  },
  {
   "cell_type": "markdown",
   "id": "80d2784a",
   "metadata": {},
   "source": [
    "#### Analisando o shape da base:"
   ]
  },
  {
   "cell_type": "code",
   "execution_count": 202,
   "id": "d2df6266",
   "metadata": {},
   "outputs": [
    {
     "name": "stdout",
     "output_type": "stream",
     "text": [
      "9067690 X 12\n"
     ]
    }
   ],
   "source": [
    "print(df_game.shape[0], 'X' , df_game.shape[1])"
   ]
  },
  {
   "cell_type": "code",
   "execution_count": 203,
   "id": "977003dc",
   "metadata": {},
   "outputs": [
    {
     "name": "stdout",
     "output_type": "stream",
     "text": [
      "<class 'pandas.core.frame.DataFrame'>\n",
      "RangeIndex: 9067690 entries, 0 to 9067689\n",
      "Data columns (total 12 columns):\n",
      " #   Column          Dtype \n",
      "---  ------          ----- \n",
      " 0   Unnamed: 0      int64 \n",
      " 1   device_id       object\n",
      " 2   event_date      object\n",
      " 3   creation_date   object\n",
      " 4   app             object\n",
      " 5   platform        object\n",
      " 6   partner         object\n",
      " 7   country         object\n",
      " 8   iap_purchases   int64 \n",
      " 9   iap_revenue     object\n",
      " 10  ads_revenue     object\n",
      " 11  ad_impressions  int64 \n",
      "dtypes: int64(3), object(9)\n",
      "memory usage: 830.2+ MB\n"
     ]
    }
   ],
   "source": [
    "df_game.info()"
   ]
  },
  {
   "cell_type": "markdown",
   "id": "ebb6646b",
   "metadata": {},
   "source": [
    "#### Ajustes necessarios:\n",
    "* deletar primeira coluna, ela na verdade é somente um index\n",
    "* **event_date** e **creation_date** tem que ser ajustada para datetime , autalmente está sendo tratada como object\n",
    "* **iap_revenue** e **ads_revenue** estão como object , tem que deixar como float. Será necessario mudar a pontuação usada\n",
    "* deixar o resto como string"
   ]
  },
  {
   "cell_type": "markdown",
   "id": "461fa8c7",
   "metadata": {},
   "source": [
    "### Verificando a existencia de duplicadas"
   ]
  },
  {
   "cell_type": "code",
   "execution_count": 204,
   "id": "2e361fc2",
   "metadata": {},
   "outputs": [
    {
     "data": {
      "text/plain": [
       "Unnamed: 0            0\n",
       "device_id             0\n",
       "event_date            0\n",
       "creation_date         0\n",
       "app                   0\n",
       "platform              0\n",
       "partner               0\n",
       "country           20285\n",
       "iap_purchases         0\n",
       "iap_revenue           0\n",
       "ads_revenue           0\n",
       "ad_impressions        0\n",
       "dtype: int64"
      ]
     },
     "execution_count": 204,
     "metadata": {},
     "output_type": "execute_result"
    }
   ],
   "source": [
    "df_game.isna().sum()"
   ]
  },
  {
   "cell_type": "code",
   "execution_count": 205,
   "id": "a1b33ddd",
   "metadata": {},
   "outputs": [
    {
     "name": "stdout",
     "output_type": "stream",
     "text": [
      "Unnamed: 0        0.000000\n",
      "device_id         0.000000\n",
      "event_date        0.000000\n",
      "creation_date     0.000000\n",
      "app               0.000000\n",
      "platform          0.000000\n",
      "partner           0.000000\n",
      "country           0.223706\n",
      "iap_purchases     0.000000\n",
      "iap_revenue       0.000000\n",
      "ads_revenue       0.000000\n",
      "ad_impressions    0.000000\n",
      "dtype: float64\n"
     ]
    }
   ],
   "source": [
    "dados_nulos = df_game.isna().sum()\n",
    "dados_totais = df_game.shape[0]\n",
    "percentual_de_zeros = (dados_nulos / dados_totais)*100\n",
    "print(percentual_de_zeros)"
   ]
  },
  {
   "cell_type": "markdown",
   "id": "2453763c",
   "metadata": {},
   "source": [
    "Apenas a feature **Country** possui dados faltosos. Eles representam apenas 0,22% do total, logo não deverá ter tanto impacto deleta-los"
   ]
  },
  {
   "cell_type": "markdown",
   "id": "9390f2e2",
   "metadata": {},
   "source": [
    "#### Realizando ajustes "
   ]
  },
  {
   "cell_type": "code",
   "execution_count": 206,
   "id": "a2b131b4",
   "metadata": {},
   "outputs": [],
   "source": [
    "# Deletar coluna de axis\n",
    "df_game = df_game.drop('Unnamed: 0' , axis=1)"
   ]
  },
  {
   "cell_type": "code",
   "execution_count": 207,
   "id": "d3f13213",
   "metadata": {},
   "outputs": [
    {
     "data": {
      "text/html": [
       "<div>\n",
       "<style scoped>\n",
       "    .dataframe tbody tr th:only-of-type {\n",
       "        vertical-align: middle;\n",
       "    }\n",
       "\n",
       "    .dataframe tbody tr th {\n",
       "        vertical-align: top;\n",
       "    }\n",
       "\n",
       "    .dataframe thead th {\n",
       "        text-align: right;\n",
       "    }\n",
       "</style>\n",
       "<table border=\"1\" class=\"dataframe\">\n",
       "  <thead>\n",
       "    <tr style=\"text-align: right;\">\n",
       "      <th></th>\n",
       "      <th>device_id</th>\n",
       "      <th>event_date</th>\n",
       "      <th>creation_date</th>\n",
       "      <th>app</th>\n",
       "      <th>platform</th>\n",
       "      <th>partner</th>\n",
       "      <th>country</th>\n",
       "      <th>iap_purchases</th>\n",
       "      <th>iap_revenue</th>\n",
       "      <th>ads_revenue</th>\n",
       "      <th>ad_impressions</th>\n",
       "    </tr>\n",
       "  </thead>\n",
       "  <tbody>\n",
       "    <tr>\n",
       "      <th>0</th>\n",
       "      <td>484c0f6c716b62fbdd651b48448632c6</td>\n",
       "      <td>2022-01-05</td>\n",
       "      <td>2020-12-31</td>\n",
       "      <td>Football Simulator</td>\n",
       "      <td>android</td>\n",
       "      <td>Organic</td>\n",
       "      <td>Canada</td>\n",
       "      <td>1</td>\n",
       "      <td>4,18164547135849</td>\n",
       "      <td>0,00268264452</td>\n",
       "      <td>6</td>\n",
       "    </tr>\n",
       "    <tr>\n",
       "      <th>1</th>\n",
       "      <td>54a09dd2892b768a6ae566e0f4ee61e1</td>\n",
       "      <td>2022-05-29</td>\n",
       "      <td>2022-05-01</td>\n",
       "      <td>Football Simulator</td>\n",
       "      <td>android</td>\n",
       "      <td>Paid</td>\n",
       "      <td>Pakistan</td>\n",
       "      <td>1</td>\n",
       "      <td>2,35950024395138</td>\n",
       "      <td>0,0652680554058738</td>\n",
       "      <td>3</td>\n",
       "    </tr>\n",
       "    <tr>\n",
       "      <th>2</th>\n",
       "      <td>be59fd534f61e87e6c617fa50edde27e</td>\n",
       "      <td>2022-04-02</td>\n",
       "      <td>2022-03-30</td>\n",
       "      <td>Football Simulator</td>\n",
       "      <td>ios</td>\n",
       "      <td>Organic</td>\n",
       "      <td>United States</td>\n",
       "      <td>1</td>\n",
       "      <td>2,22307474997593</td>\n",
       "      <td>0,03285518396</td>\n",
       "      <td>28</td>\n",
       "    </tr>\n",
       "    <tr>\n",
       "      <th>3</th>\n",
       "      <td>af4830573c2ac1d4efc538d16d645b31</td>\n",
       "      <td>2022-03-25</td>\n",
       "      <td>2022-03-25</td>\n",
       "      <td>Football Simulator</td>\n",
       "      <td>android</td>\n",
       "      <td>Organic</td>\n",
       "      <td>Argentina</td>\n",
       "      <td>1</td>\n",
       "      <td>3,93345382196093</td>\n",
       "      <td>0,00025961076</td>\n",
       "      <td>7</td>\n",
       "    </tr>\n",
       "    <tr>\n",
       "      <th>4</th>\n",
       "      <td>13c70063c611c94b1f5051e4eba6f5c0</td>\n",
       "      <td>2022-03-24</td>\n",
       "      <td>2022-03-12</td>\n",
       "      <td>Football Simulator</td>\n",
       "      <td>android</td>\n",
       "      <td>Paid</td>\n",
       "      <td>United States</td>\n",
       "      <td>1</td>\n",
       "      <td>3,23837452336857</td>\n",
       "      <td>0,00066344972</td>\n",
       "      <td>4</td>\n",
       "    </tr>\n",
       "  </tbody>\n",
       "</table>\n",
       "</div>"
      ],
      "text/plain": [
       "                          device_id  event_date creation_date  \\\n",
       "0  484c0f6c716b62fbdd651b48448632c6  2022-01-05    2020-12-31   \n",
       "1  54a09dd2892b768a6ae566e0f4ee61e1  2022-05-29    2022-05-01   \n",
       "2  be59fd534f61e87e6c617fa50edde27e  2022-04-02    2022-03-30   \n",
       "3  af4830573c2ac1d4efc538d16d645b31  2022-03-25    2022-03-25   \n",
       "4  13c70063c611c94b1f5051e4eba6f5c0  2022-03-24    2022-03-12   \n",
       "\n",
       "                  app platform  partner        country  iap_purchases  \\\n",
       "0  Football Simulator  android  Organic         Canada              1   \n",
       "1  Football Simulator  android     Paid       Pakistan              1   \n",
       "2  Football Simulator      ios  Organic  United States              1   \n",
       "3  Football Simulator  android  Organic      Argentina              1   \n",
       "4  Football Simulator  android     Paid  United States              1   \n",
       "\n",
       "        iap_revenue         ads_revenue  ad_impressions  \n",
       "0  4,18164547135849       0,00268264452               6  \n",
       "1  2,35950024395138  0,0652680554058738               3  \n",
       "2  2,22307474997593       0,03285518396              28  \n",
       "3  3,93345382196093       0,00025961076               7  \n",
       "4  3,23837452336857       0,00066344972               4  "
      ]
     },
     "execution_count": 207,
     "metadata": {},
     "output_type": "execute_result"
    }
   ],
   "source": [
    "df_game.head()"
   ]
  },
  {
   "cell_type": "code",
   "execution_count": 208,
   "id": "55748312",
   "metadata": {},
   "outputs": [],
   "source": [
    "# Arrumando colunas de data\n",
    "df_game['event_date'] = pd.to_datetime(df_game['event_date'])\n",
    "df_game['creation_date'] = pd.to_datetime(df_game['creation_date'])"
   ]
  },
  {
   "cell_type": "code",
   "execution_count": null,
   "id": "cb2528d3",
   "metadata": {},
   "outputs": [],
   "source": []
  },
  {
   "cell_type": "code",
   "execution_count": 209,
   "id": "4645caec",
   "metadata": {},
   "outputs": [],
   "source": [
    "# Arrumando as valores iap_revenue e ads_revenue para formato de valor\n",
    "df_game['iap_revenue'] = df_game['iap_revenue'].str.replace(',' , '.').astype(float)\n",
    "df_game['ads_revenue'] = df_game['ads_revenue'].str.replace (',' , '.').astype(float)\n"
   ]
  },
  {
   "cell_type": "code",
   "execution_count": 210,
   "id": "ea40ae07",
   "metadata": {},
   "outputs": [],
   "source": [
    "# deletando linhas com country vazio\n",
    "df_game.dropna(inplace = True)"
   ]
  },
  {
   "cell_type": "code",
   "execution_count": 211,
   "id": "c5f7fb56",
   "metadata": {},
   "outputs": [],
   "source": [
    "df_game['revenue_total'] = df_game['iap_revenue'] + df_game['ads_revenue']"
   ]
  },
  {
   "cell_type": "code",
   "execution_count": null,
   "id": "ad115519",
   "metadata": {},
   "outputs": [],
   "source": []
  },
  {
   "cell_type": "markdown",
   "id": "022aeb72",
   "metadata": {},
   "source": [
    "#### Filtrando os paises com pouca participação ( usaremos pareto para filtrar)"
   ]
  },
  {
   "cell_type": "code",
   "execution_count": 212,
   "id": "018c2312",
   "metadata": {},
   "outputs": [
    {
     "data": {
      "text/html": [
       "<div>\n",
       "<style scoped>\n",
       "    .dataframe tbody tr th:only-of-type {\n",
       "        vertical-align: middle;\n",
       "    }\n",
       "\n",
       "    .dataframe tbody tr th {\n",
       "        vertical-align: top;\n",
       "    }\n",
       "\n",
       "    .dataframe thead th {\n",
       "        text-align: right;\n",
       "    }\n",
       "</style>\n",
       "<table border=\"1\" class=\"dataframe\">\n",
       "  <thead>\n",
       "    <tr style=\"text-align: right;\">\n",
       "      <th></th>\n",
       "      <th>country</th>\n",
       "      <th>device_id</th>\n",
       "    </tr>\n",
       "  </thead>\n",
       "  <tbody>\n",
       "    <tr>\n",
       "      <th>223</th>\n",
       "      <td>United States</td>\n",
       "      <td>1986595</td>\n",
       "    </tr>\n",
       "    <tr>\n",
       "      <th>29</th>\n",
       "      <td>Brazil</td>\n",
       "      <td>697561</td>\n",
       "    </tr>\n",
       "    <tr>\n",
       "      <th>78</th>\n",
       "      <td>Germany</td>\n",
       "      <td>606476</td>\n",
       "    </tr>\n",
       "    <tr>\n",
       "      <th>96</th>\n",
       "      <td>India</td>\n",
       "      <td>526984</td>\n",
       "    </tr>\n",
       "    <tr>\n",
       "      <th>222</th>\n",
       "      <td>United Kingdom</td>\n",
       "      <td>490789</td>\n",
       "    </tr>\n",
       "    <tr>\n",
       "      <th>...</th>\n",
       "      <td>...</td>\n",
       "      <td>...</td>\n",
       "    </tr>\n",
       "    <tr>\n",
       "      <th>192</th>\n",
       "      <td>Solomon Islands</td>\n",
       "      <td>3</td>\n",
       "    </tr>\n",
       "    <tr>\n",
       "      <th>141</th>\n",
       "      <td>Montserrat</td>\n",
       "      <td>2</td>\n",
       "    </tr>\n",
       "    <tr>\n",
       "      <th>110</th>\n",
       "      <td>Kiribati</td>\n",
       "      <td>2</td>\n",
       "    </tr>\n",
       "    <tr>\n",
       "      <th>174</th>\n",
       "      <td>Saint Helena</td>\n",
       "      <td>2</td>\n",
       "    </tr>\n",
       "    <tr>\n",
       "      <th>229</th>\n",
       "      <td>Wallis and Futuna</td>\n",
       "      <td>1</td>\n",
       "    </tr>\n",
       "  </tbody>\n",
       "</table>\n",
       "<p>233 rows × 2 columns</p>\n",
       "</div>"
      ],
      "text/plain": [
       "               country  device_id\n",
       "223      United States    1986595\n",
       "29              Brazil     697561\n",
       "78             Germany     606476\n",
       "96               India     526984\n",
       "222     United Kingdom     490789\n",
       "..                 ...        ...\n",
       "192    Solomon Islands          3\n",
       "141         Montserrat          2\n",
       "110           Kiribati          2\n",
       "174       Saint Helena          2\n",
       "229  Wallis and Futuna          1\n",
       "\n",
       "[233 rows x 2 columns]"
      ]
     },
     "execution_count": 212,
     "metadata": {},
     "output_type": "execute_result"
    }
   ],
   "source": [
    "df_pais_jogadores = df_game.groupby('country').device_id.count()\n",
    "df_pais_jogadores = pd.DataFrame(df_pais_jogadores).reset_index() \n",
    "df_pais_jogadores = df_pais_jogadores.sort_values(\"device_id\" , ascending=False)\n",
    "df_pais_jogadores"
   ]
  },
  {
   "cell_type": "code",
   "execution_count": 213,
   "id": "1d952103",
   "metadata": {},
   "outputs": [],
   "source": [
    "df_pais_jogadores['percent_acumulada'] = df_pais_jogadores['device_id'].cumsum() / df_pais_jogadores['device_id'].sum() *100"
   ]
  },
  {
   "cell_type": "code",
   "execution_count": 214,
   "id": "866af2de",
   "metadata": {},
   "outputs": [],
   "source": [
    "ajustar_paises = df_pais_jogadores.loc[df_pais_jogadores['percent_acumulada']>=81]\n",
    "ajustar_paises = ajustar_paises['country'].tolist()"
   ]
  },
  {
   "cell_type": "markdown",
   "id": "72c8733a",
   "metadata": {},
   "source": [
    "##### Ajustando na base base geral"
   ]
  },
  {
   "cell_type": "code",
   "execution_count": 215,
   "id": "b36b6656",
   "metadata": {},
   "outputs": [],
   "source": [
    "for n in df_game['country']:\n",
    "    if n in ajustar_paises:\n",
    "        df_game['country'] = df_game['country'].replace(n, 'outros')"
   ]
  },
  {
   "cell_type": "code",
   "execution_count": 246,
   "id": "6d0002a8",
   "metadata": {},
   "outputs": [
    {
     "data": {
      "text/html": [
       "<div>\n",
       "<style scoped>\n",
       "    .dataframe tbody tr th:only-of-type {\n",
       "        vertical-align: middle;\n",
       "    }\n",
       "\n",
       "    .dataframe tbody tr th {\n",
       "        vertical-align: top;\n",
       "    }\n",
       "\n",
       "    .dataframe thead th {\n",
       "        text-align: right;\n",
       "    }\n",
       "</style>\n",
       "<table border=\"1\" class=\"dataframe\">\n",
       "  <thead>\n",
       "    <tr style=\"text-align: right;\">\n",
       "      <th></th>\n",
       "      <th>device_id</th>\n",
       "      <th>event_date</th>\n",
       "      <th>creation_date</th>\n",
       "      <th>app</th>\n",
       "      <th>platform</th>\n",
       "      <th>partner</th>\n",
       "      <th>country</th>\n",
       "      <th>iap_purchases</th>\n",
       "      <th>iap_revenue</th>\n",
       "      <th>ads_revenue</th>\n",
       "      <th>ad_impressions</th>\n",
       "      <th>revenue_total</th>\n",
       "    </tr>\n",
       "  </thead>\n",
       "  <tbody>\n",
       "    <tr>\n",
       "      <th>0</th>\n",
       "      <td>484c0f6c716b62fbdd651b48448632c6</td>\n",
       "      <td>2022-01-05</td>\n",
       "      <td>2020-12-31</td>\n",
       "      <td>Football Simulator</td>\n",
       "      <td>android</td>\n",
       "      <td>Organic</td>\n",
       "      <td>Canada</td>\n",
       "      <td>1</td>\n",
       "      <td>4.181645</td>\n",
       "      <td>0.002683</td>\n",
       "      <td>6</td>\n",
       "      <td>4.184328</td>\n",
       "    </tr>\n",
       "    <tr>\n",
       "      <th>1</th>\n",
       "      <td>54a09dd2892b768a6ae566e0f4ee61e1</td>\n",
       "      <td>2022-05-29</td>\n",
       "      <td>2022-05-01</td>\n",
       "      <td>Football Simulator</td>\n",
       "      <td>android</td>\n",
       "      <td>Paid</td>\n",
       "      <td>outros</td>\n",
       "      <td>1</td>\n",
       "      <td>2.359500</td>\n",
       "      <td>0.065268</td>\n",
       "      <td>3</td>\n",
       "      <td>2.424768</td>\n",
       "    </tr>\n",
       "    <tr>\n",
       "      <th>2</th>\n",
       "      <td>be59fd534f61e87e6c617fa50edde27e</td>\n",
       "      <td>2022-04-02</td>\n",
       "      <td>2022-03-30</td>\n",
       "      <td>Football Simulator</td>\n",
       "      <td>ios</td>\n",
       "      <td>Organic</td>\n",
       "      <td>United States</td>\n",
       "      <td>1</td>\n",
       "      <td>2.223075</td>\n",
       "      <td>0.032855</td>\n",
       "      <td>28</td>\n",
       "      <td>2.255930</td>\n",
       "    </tr>\n",
       "    <tr>\n",
       "      <th>3</th>\n",
       "      <td>af4830573c2ac1d4efc538d16d645b31</td>\n",
       "      <td>2022-03-25</td>\n",
       "      <td>2022-03-25</td>\n",
       "      <td>Football Simulator</td>\n",
       "      <td>android</td>\n",
       "      <td>Organic</td>\n",
       "      <td>Argentina</td>\n",
       "      <td>1</td>\n",
       "      <td>3.933454</td>\n",
       "      <td>0.000260</td>\n",
       "      <td>7</td>\n",
       "      <td>3.933713</td>\n",
       "    </tr>\n",
       "    <tr>\n",
       "      <th>4</th>\n",
       "      <td>13c70063c611c94b1f5051e4eba6f5c0</td>\n",
       "      <td>2022-03-24</td>\n",
       "      <td>2022-03-12</td>\n",
       "      <td>Football Simulator</td>\n",
       "      <td>android</td>\n",
       "      <td>Paid</td>\n",
       "      <td>United States</td>\n",
       "      <td>1</td>\n",
       "      <td>3.238375</td>\n",
       "      <td>0.000663</td>\n",
       "      <td>4</td>\n",
       "      <td>3.239038</td>\n",
       "    </tr>\n",
       "  </tbody>\n",
       "</table>\n",
       "</div>"
      ],
      "text/plain": [
       "                          device_id event_date creation_date  \\\n",
       "0  484c0f6c716b62fbdd651b48448632c6 2022-01-05    2020-12-31   \n",
       "1  54a09dd2892b768a6ae566e0f4ee61e1 2022-05-29    2022-05-01   \n",
       "2  be59fd534f61e87e6c617fa50edde27e 2022-04-02    2022-03-30   \n",
       "3  af4830573c2ac1d4efc538d16d645b31 2022-03-25    2022-03-25   \n",
       "4  13c70063c611c94b1f5051e4eba6f5c0 2022-03-24    2022-03-12   \n",
       "\n",
       "                  app platform  partner        country  iap_purchases  \\\n",
       "0  Football Simulator  android  Organic         Canada              1   \n",
       "1  Football Simulator  android     Paid         outros              1   \n",
       "2  Football Simulator      ios  Organic  United States              1   \n",
       "3  Football Simulator  android  Organic      Argentina              1   \n",
       "4  Football Simulator  android     Paid  United States              1   \n",
       "\n",
       "   iap_revenue  ads_revenue  ad_impressions  revenue_total  \n",
       "0     4.181645     0.002683               6       4.184328  \n",
       "1     2.359500     0.065268               3       2.424768  \n",
       "2     2.223075     0.032855              28       2.255930  \n",
       "3     3.933454     0.000260               7       3.933713  \n",
       "4     3.238375     0.000663               4       3.239038  "
      ]
     },
     "execution_count": 246,
     "metadata": {},
     "output_type": "execute_result"
    }
   ],
   "source": [
    "df_game.head()"
   ]
  },
  {
   "cell_type": "code",
   "execution_count": null,
   "id": "cf4996a3",
   "metadata": {},
   "outputs": [],
   "source": []
  },
  {
   "cell_type": "markdown",
   "id": "21f37149",
   "metadata": {},
   "source": [
    "##### Criando a base de 2022 "
   ]
  },
  {
   "cell_type": "code",
   "execution_count": 217,
   "id": "9567b010",
   "metadata": {},
   "outputs": [],
   "source": [
    "df_game_2022 = df_game.loc[df_game['creation_date']>= '2022-01-01']"
   ]
  },
  {
   "cell_type": "markdown",
   "id": "4ca1f969",
   "metadata": {},
   "source": [
    "## Analisando os dados"
   ]
  },
  {
   "cell_type": "markdown",
   "id": "795cb0b9",
   "metadata": {},
   "source": [
    "## 1) Plataforma"
   ]
  },
  {
   "cell_type": "markdown",
   "id": "c465a1ff",
   "metadata": {},
   "source": [
    "#### Número de jogadores"
   ]
  },
  {
   "cell_type": "code",
   "execution_count": 220,
   "id": "7bf0e021",
   "metadata": {},
   "outputs": [
    {
     "data": {
      "text/plain": [
       "android    0.725771\n",
       "ios        0.274199\n",
       "amazon     0.000030\n",
       "Name: platform, dtype: float64"
      ]
     },
     "execution_count": 220,
     "metadata": {},
     "output_type": "execute_result"
    }
   ],
   "source": [
    "df_plat = df_game_2022['platform'].value_counts() / df_game_2022.shape[0]\n",
    "df_plat"
   ]
  },
  {
   "cell_type": "code",
   "execution_count": 221,
   "id": "593a9b73",
   "metadata": {},
   "outputs": [
    {
     "data": {
      "text/plain": [
       "platform\n",
       "amazon         224\n",
       "android    5347430\n",
       "ios        2020278\n",
       "Name: device_id, dtype: int64"
      ]
     },
     "execution_count": 221,
     "metadata": {},
     "output_type": "execute_result"
    }
   ],
   "source": [
    "df_plat2 = df_game_2022.groupby('platform').device_id.count()\n",
    "df_plat2"
   ]
  },
  {
   "cell_type": "markdown",
   "id": "8b44da31",
   "metadata": {},
   "source": [
    "Conclusão : Android é a sistema operacional com mais dowloads, cerca de 72% (5 Mi devices) , seguido por IOS 27% (2 Mi devices). Amazon quase não é relevante (213 devices)"
   ]
  },
  {
   "cell_type": "markdown",
   "id": "8bea3086",
   "metadata": {},
   "source": [
    "#### Número de compras"
   ]
  },
  {
   "cell_type": "code",
   "execution_count": 223,
   "id": "e8e22519",
   "metadata": {},
   "outputs": [
    {
     "data": {
      "text/plain": [
       "platform\n",
       "amazon         224\n",
       "android    5419986\n",
       "ios        2055518\n",
       "Name: iap_purchases, dtype: int64"
      ]
     },
     "execution_count": 223,
     "metadata": {},
     "output_type": "execute_result"
    }
   ],
   "source": [
    "df_plat_compras = df_game_2022.groupby('platform').iap_purchases.sum()\n",
    "df_plat_compras"
   ]
  },
  {
   "cell_type": "markdown",
   "id": "2cb337e0",
   "metadata": {},
   "source": [
    "Conclusão : Android é a sistema operacional onde os jogadores mais realizaram compras, cerca de 5.4 Mi de compras."
   ]
  },
  {
   "cell_type": "markdown",
   "id": "4f567bfb",
   "metadata": {},
   "source": [
    "#### Plataforma com maior revenue"
   ]
  },
  {
   "cell_type": "code",
   "execution_count": 224,
   "id": "662476b1",
   "metadata": {},
   "outputs": [
    {
     "data": {
      "text/plain": [
       "668.85"
      ]
     },
     "execution_count": 224,
     "metadata": {},
     "output_type": "execute_result"
    }
   ],
   "source": [
    "round(df_game_2022.loc[df_game_2022['platform'] == 'amazon'].revenue_total.sum() ,2)"
   ]
  },
  {
   "cell_type": "code",
   "execution_count": 225,
   "id": "e6e758e0",
   "metadata": {},
   "outputs": [
    {
     "data": {
      "text/plain": [
       "15906425.92"
      ]
     },
     "execution_count": 225,
     "metadata": {},
     "output_type": "execute_result"
    }
   ],
   "source": [
    "round(df_game_2022.loc[df_game_2022['platform'] == 'android'].revenue_total.sum(),2)"
   ]
  },
  {
   "cell_type": "code",
   "execution_count": 226,
   "id": "80e5ce88",
   "metadata": {},
   "outputs": [
    {
     "data": {
      "text/plain": [
       "6043605.83"
      ]
     },
     "execution_count": 226,
     "metadata": {},
     "output_type": "execute_result"
    }
   ],
   "source": [
    "round(df_game_2022.loc[df_game_2022['platform'] == 'ios'].revenue_total.sum(),2)"
   ]
  },
  {
   "cell_type": "markdown",
   "id": "3eb2d51d",
   "metadata": {},
   "source": [
    "Conclusão : Android é a sistema operacional que trouxe mais revenue , cerca de BRL 15.9 Mi , IOS trouxe BRL 6 Mi"
   ]
  },
  {
   "cell_type": "markdown",
   "id": "778bb62d",
   "metadata": {},
   "source": [
    "#### Retorno médio do jogador por plataforma"
   ]
  },
  {
   "cell_type": "code",
   "execution_count": 227,
   "id": "42d59296",
   "metadata": {},
   "outputs": [
    {
     "data": {
      "text/plain": [
       "2.9745926398288525"
      ]
     },
     "execution_count": 227,
     "metadata": {},
     "output_type": "execute_result"
    }
   ],
   "source": [
    "round(df_game_2022.loc[df_game_2022['platform'] == 'android'].revenue_total.sum(),2) / df_game_2022.loc[df_game_2022['platform'] == 'android'].device_id.count()"
   ]
  },
  {
   "cell_type": "code",
   "execution_count": 228,
   "id": "8fb69962",
   "metadata": {},
   "outputs": [
    {
     "data": {
      "text/plain": [
       "2.9914723765739173"
      ]
     },
     "execution_count": 228,
     "metadata": {},
     "output_type": "execute_result"
    }
   ],
   "source": [
    "round(df_game_2022.loc[df_game_2022['platform'] == 'ios'].revenue_total.sum(),2) / df_game_2022.loc[df_game_2022['platform'] == 'ios'].device_id.count()"
   ]
  },
  {
   "cell_type": "markdown",
   "id": "9c5570d1",
   "metadata": {},
   "source": [
    "Conclusão : o ganho médio com IOS é levente maior que com Android"
   ]
  },
  {
   "cell_type": "markdown",
   "id": "eaaf2605",
   "metadata": {},
   "source": [
    "#### Ticket médio do jogador"
   ]
  },
  {
   "cell_type": "code",
   "execution_count": 229,
   "id": "bf715199",
   "metadata": {},
   "outputs": [
    {
     "data": {
      "text/plain": [
       "1.01356838705696"
      ]
     },
     "execution_count": 229,
     "metadata": {},
     "output_type": "execute_result"
    }
   ],
   "source": [
    "round(df_game_2022.loc[df_game_2022['platform'] == 'android'].iap_purchases.sum(),2) / df_game_2022.loc[df_game_2022['platform'] == 'android'].device_id.count()"
   ]
  },
  {
   "cell_type": "code",
   "execution_count": 230,
   "id": "c6b159f8",
   "metadata": {},
   "outputs": [
    {
     "data": {
      "text/plain": [
       "1.0174431439633556"
      ]
     },
     "execution_count": 230,
     "metadata": {},
     "output_type": "execute_result"
    }
   ],
   "source": [
    "round(df_game_2022.loc[df_game_2022['platform'] == 'ios'].iap_purchases.sum(),2) / df_game_2022.loc[df_game_2022['platform'] == 'ios'].device_id.count()"
   ]
  },
  {
   "cell_type": "code",
   "execution_count": 231,
   "id": "900514c8",
   "metadata": {},
   "outputs": [
    {
     "data": {
      "text/plain": [
       "1.0"
      ]
     },
     "execution_count": 231,
     "metadata": {},
     "output_type": "execute_result"
    }
   ],
   "source": [
    "round(df_game_2022.loc[df_game_2022['platform'] == 'amazon'].iap_purchases.sum(),2) / df_game_2022.loc[df_game_2022['platform'] == 'amazon'].device_id.count()"
   ]
  },
  {
   "cell_type": "markdown",
   "id": "29b033d1",
   "metadata": {},
   "source": [
    "Conclusão : o ticket médio dé praticamente o mesmo independente da plataforma "
   ]
  },
  {
   "cell_type": "markdown",
   "id": "3035b3c1",
   "metadata": {},
   "source": [
    "#### Impressoes de anuncio por jogador em cada plataforma"
   ]
  },
  {
   "cell_type": "code",
   "execution_count": 232,
   "id": "8f6c590e",
   "metadata": {},
   "outputs": [
    {
     "data": {
      "text/plain": [
       "13.333372292858439"
      ]
     },
     "execution_count": 232,
     "metadata": {},
     "output_type": "execute_result"
    }
   ],
   "source": [
    "round(df_game_2022.loc[df_game_2022['platform'] == 'android'].ad_impressions.sum(),2) / df_game_2022.loc[df_game_2022['platform'] == 'android'].device_id.count()"
   ]
  },
  {
   "cell_type": "code",
   "execution_count": 233,
   "id": "d304fc48",
   "metadata": {},
   "outputs": [
    {
     "data": {
      "text/plain": [
       "10.64888545041821"
      ]
     },
     "execution_count": 233,
     "metadata": {},
     "output_type": "execute_result"
    }
   ],
   "source": [
    "round(df_game_2022.loc[df_game_2022['platform'] == 'ios'].ad_impressions.sum(),2) / df_game_2022.loc[df_game_2022['platform'] == 'ios'].device_id.count()"
   ]
  },
  {
   "cell_type": "code",
   "execution_count": 234,
   "id": "905f225d",
   "metadata": {},
   "outputs": [
    {
     "data": {
      "text/plain": [
       "3.0"
      ]
     },
     "execution_count": 234,
     "metadata": {},
     "output_type": "execute_result"
    }
   ],
   "source": [
    "round(df_game_2022.loc[df_game_2022['platform'] == 'amazon'].ad_impressions.sum(),2) / df_game_2022.loc[df_game_2022['platform'] == 'amazon'].device_id.count()"
   ]
  },
  {
   "cell_type": "markdown",
   "id": "695f6d4d",
   "metadata": {},
   "source": [
    "Conclusão : Jogadores que utilziam como plataforma o android são mais impactados por anuncios"
   ]
  },
  {
   "cell_type": "code",
   "execution_count": 159,
   "id": "e2884516",
   "metadata": {},
   "outputs": [],
   "source": [
    "# quem fica mais tempo jogando ?"
   ]
  },
  {
   "cell_type": "markdown",
   "id": "df8fed56",
   "metadata": {},
   "source": [
    "## 2) Country "
   ]
  },
  {
   "cell_type": "markdown",
   "id": "36e53b80",
   "metadata": {},
   "source": [
    "#### País com maior número de dowloads"
   ]
  },
  {
   "cell_type": "code",
   "execution_count": 235,
   "id": "cc5472fd",
   "metadata": {},
   "outputs": [
    {
     "data": {
      "text/html": [
       "<div>\n",
       "<style scoped>\n",
       "    .dataframe tbody tr th:only-of-type {\n",
       "        vertical-align: middle;\n",
       "    }\n",
       "\n",
       "    .dataframe tbody tr th {\n",
       "        vertical-align: top;\n",
       "    }\n",
       "\n",
       "    .dataframe thead th {\n",
       "        text-align: right;\n",
       "    }\n",
       "</style>\n",
       "<table border=\"1\" class=\"dataframe\">\n",
       "  <thead>\n",
       "    <tr style=\"text-align: right;\">\n",
       "      <th></th>\n",
       "      <th>country</th>\n",
       "      <th>device_id</th>\n",
       "    </tr>\n",
       "  </thead>\n",
       "  <tbody>\n",
       "    <tr>\n",
       "      <th>18</th>\n",
       "      <td>United States</td>\n",
       "      <td>1564465</td>\n",
       "    </tr>\n",
       "    <tr>\n",
       "      <th>19</th>\n",
       "      <td>outros</td>\n",
       "      <td>1513875</td>\n",
       "    </tr>\n",
       "    <tr>\n",
       "      <th>2</th>\n",
       "      <td>Brazil</td>\n",
       "      <td>609061</td>\n",
       "    </tr>\n",
       "    <tr>\n",
       "      <th>7</th>\n",
       "      <td>India</td>\n",
       "      <td>483780</td>\n",
       "    </tr>\n",
       "    <tr>\n",
       "      <th>6</th>\n",
       "      <td>Germany</td>\n",
       "      <td>455712</td>\n",
       "    </tr>\n",
       "    <tr>\n",
       "      <th>17</th>\n",
       "      <td>United Kingdom</td>\n",
       "      <td>358499</td>\n",
       "    </tr>\n",
       "    <tr>\n",
       "      <th>9</th>\n",
       "      <td>Mexico</td>\n",
       "      <td>299765</td>\n",
       "    </tr>\n",
       "    <tr>\n",
       "      <th>8</th>\n",
       "      <td>Italy</td>\n",
       "      <td>265196</td>\n",
       "    </tr>\n",
       "    <tr>\n",
       "      <th>5</th>\n",
       "      <td>France</td>\n",
       "      <td>264786</td>\n",
       "    </tr>\n",
       "    <tr>\n",
       "      <th>12</th>\n",
       "      <td>Poland</td>\n",
       "      <td>223249</td>\n",
       "    </tr>\n",
       "    <tr>\n",
       "      <th>0</th>\n",
       "      <td>Argentina</td>\n",
       "      <td>178530</td>\n",
       "    </tr>\n",
       "    <tr>\n",
       "      <th>4</th>\n",
       "      <td>Colombia</td>\n",
       "      <td>168556</td>\n",
       "    </tr>\n",
       "    <tr>\n",
       "      <th>16</th>\n",
       "      <td>Turkey</td>\n",
       "      <td>153164</td>\n",
       "    </tr>\n",
       "    <tr>\n",
       "      <th>3</th>\n",
       "      <td>Canada</td>\n",
       "      <td>152092</td>\n",
       "    </tr>\n",
       "    <tr>\n",
       "      <th>14</th>\n",
       "      <td>Spain</td>\n",
       "      <td>147452</td>\n",
       "    </tr>\n",
       "    <tr>\n",
       "      <th>1</th>\n",
       "      <td>Australia</td>\n",
       "      <td>136625</td>\n",
       "    </tr>\n",
       "    <tr>\n",
       "      <th>11</th>\n",
       "      <td>Philippines</td>\n",
       "      <td>122303</td>\n",
       "    </tr>\n",
       "    <tr>\n",
       "      <th>15</th>\n",
       "      <td>Thailand</td>\n",
       "      <td>101211</td>\n",
       "    </tr>\n",
       "    <tr>\n",
       "      <th>13</th>\n",
       "      <td>Russian Federation</td>\n",
       "      <td>89249</td>\n",
       "    </tr>\n",
       "    <tr>\n",
       "      <th>10</th>\n",
       "      <td>Netherlands</td>\n",
       "      <td>80362</td>\n",
       "    </tr>\n",
       "  </tbody>\n",
       "</table>\n",
       "</div>"
      ],
      "text/plain": [
       "               country  device_id\n",
       "18       United States    1564465\n",
       "19              outros    1513875\n",
       "2               Brazil     609061\n",
       "7                India     483780\n",
       "6              Germany     455712\n",
       "17      United Kingdom     358499\n",
       "9               Mexico     299765\n",
       "8                Italy     265196\n",
       "5               France     264786\n",
       "12              Poland     223249\n",
       "0            Argentina     178530\n",
       "4             Colombia     168556\n",
       "16              Turkey     153164\n",
       "3               Canada     152092\n",
       "14               Spain     147452\n",
       "1            Australia     136625\n",
       "11         Philippines     122303\n",
       "15            Thailand     101211\n",
       "13  Russian Federation      89249\n",
       "10         Netherlands      80362"
      ]
     },
     "execution_count": 235,
     "metadata": {},
     "output_type": "execute_result"
    }
   ],
   "source": [
    "df_pais_jogadores = df_game_2022.groupby('country').device_id.count()\n",
    "df_pais_jogadores = pd.DataFrame(df_pais_jogadores).reset_index() \n",
    "df_pais_jogadores = df_pais_jogadores.sort_values(\"device_id\" , ascending=False)\n",
    "df_pais_jogadores"
   ]
  },
  {
   "cell_type": "markdown",
   "id": "30406eff",
   "metadata": {},
   "source": [
    "Conclusão: EUA lideram em número de downloads, ficando acima do que a soma de 230 paises. O Brasil fica em 3 lugar, com um pouco menos que a metade do numero dos EUA"
   ]
  },
  {
   "cell_type": "code",
   "execution_count": 237,
   "id": "40c16fb1",
   "metadata": {},
   "outputs": [
    {
     "data": {
      "text/html": [
       "<div>\n",
       "<style scoped>\n",
       "    .dataframe tbody tr th:only-of-type {\n",
       "        vertical-align: middle;\n",
       "    }\n",
       "\n",
       "    .dataframe tbody tr th {\n",
       "        vertical-align: top;\n",
       "    }\n",
       "\n",
       "    .dataframe thead th {\n",
       "        text-align: right;\n",
       "    }\n",
       "</style>\n",
       "<table border=\"1\" class=\"dataframe\">\n",
       "  <thead>\n",
       "    <tr style=\"text-align: right;\">\n",
       "      <th></th>\n",
       "      <th>country</th>\n",
       "      <th>revenue_total</th>\n",
       "    </tr>\n",
       "  </thead>\n",
       "  <tbody>\n",
       "    <tr>\n",
       "      <th>18</th>\n",
       "      <td>United States</td>\n",
       "      <td>4.751085e+06</td>\n",
       "    </tr>\n",
       "    <tr>\n",
       "      <th>19</th>\n",
       "      <td>outros</td>\n",
       "      <td>4.496616e+06</td>\n",
       "    </tr>\n",
       "    <tr>\n",
       "      <th>2</th>\n",
       "      <td>Brazil</td>\n",
       "      <td>1.787848e+06</td>\n",
       "    </tr>\n",
       "    <tr>\n",
       "      <th>7</th>\n",
       "      <td>India</td>\n",
       "      <td>1.419299e+06</td>\n",
       "    </tr>\n",
       "    <tr>\n",
       "      <th>6</th>\n",
       "      <td>Germany</td>\n",
       "      <td>1.365076e+06</td>\n",
       "    </tr>\n",
       "    <tr>\n",
       "      <th>17</th>\n",
       "      <td>United Kingdom</td>\n",
       "      <td>1.070884e+06</td>\n",
       "    </tr>\n",
       "    <tr>\n",
       "      <th>9</th>\n",
       "      <td>Mexico</td>\n",
       "      <td>8.816270e+05</td>\n",
       "    </tr>\n",
       "    <tr>\n",
       "      <th>5</th>\n",
       "      <td>France</td>\n",
       "      <td>7.885887e+05</td>\n",
       "    </tr>\n",
       "    <tr>\n",
       "      <th>8</th>\n",
       "      <td>Italy</td>\n",
       "      <td>7.858190e+05</td>\n",
       "    </tr>\n",
       "    <tr>\n",
       "      <th>12</th>\n",
       "      <td>Poland</td>\n",
       "      <td>6.595693e+05</td>\n",
       "    </tr>\n",
       "    <tr>\n",
       "      <th>0</th>\n",
       "      <td>Argentina</td>\n",
       "      <td>5.282170e+05</td>\n",
       "    </tr>\n",
       "    <tr>\n",
       "      <th>4</th>\n",
       "      <td>Colombia</td>\n",
       "      <td>4.984701e+05</td>\n",
       "    </tr>\n",
       "    <tr>\n",
       "      <th>3</th>\n",
       "      <td>Canada</td>\n",
       "      <td>4.557622e+05</td>\n",
       "    </tr>\n",
       "    <tr>\n",
       "      <th>16</th>\n",
       "      <td>Turkey</td>\n",
       "      <td>4.492851e+05</td>\n",
       "    </tr>\n",
       "    <tr>\n",
       "      <th>14</th>\n",
       "      <td>Spain</td>\n",
       "      <td>4.366242e+05</td>\n",
       "    </tr>\n",
       "    <tr>\n",
       "      <th>1</th>\n",
       "      <td>Australia</td>\n",
       "      <td>4.130623e+05</td>\n",
       "    </tr>\n",
       "    <tr>\n",
       "      <th>11</th>\n",
       "      <td>Philippines</td>\n",
       "      <td>3.615578e+05</td>\n",
       "    </tr>\n",
       "    <tr>\n",
       "      <th>15</th>\n",
       "      <td>Thailand</td>\n",
       "      <td>2.974146e+05</td>\n",
       "    </tr>\n",
       "    <tr>\n",
       "      <th>13</th>\n",
       "      <td>Russian Federation</td>\n",
       "      <td>2.648827e+05</td>\n",
       "    </tr>\n",
       "    <tr>\n",
       "      <th>10</th>\n",
       "      <td>Netherlands</td>\n",
       "      <td>2.390127e+05</td>\n",
       "    </tr>\n",
       "  </tbody>\n",
       "</table>\n",
       "</div>"
      ],
      "text/plain": [
       "               country  revenue_total\n",
       "18       United States   4.751085e+06\n",
       "19              outros   4.496616e+06\n",
       "2               Brazil   1.787848e+06\n",
       "7                India   1.419299e+06\n",
       "6              Germany   1.365076e+06\n",
       "17      United Kingdom   1.070884e+06\n",
       "9               Mexico   8.816270e+05\n",
       "5               France   7.885887e+05\n",
       "8                Italy   7.858190e+05\n",
       "12              Poland   6.595693e+05\n",
       "0            Argentina   5.282170e+05\n",
       "4             Colombia   4.984701e+05\n",
       "3               Canada   4.557622e+05\n",
       "16              Turkey   4.492851e+05\n",
       "14               Spain   4.366242e+05\n",
       "1            Australia   4.130623e+05\n",
       "11         Philippines   3.615578e+05\n",
       "15            Thailand   2.974146e+05\n",
       "13  Russian Federation   2.648827e+05\n",
       "10         Netherlands   2.390127e+05"
      ]
     },
     "execution_count": 237,
     "metadata": {},
     "output_type": "execute_result"
    }
   ],
   "source": [
    "df_pais_valor = df_game_2022.groupby('country').revenue_total.sum()\n",
    "df_pais_valor = pd.DataFrame(df_pais_valor).reset_index() \n",
    "df_pais_valor = df_pais_valor.sort_values(\"revenue_total\" , ascending=False)\n",
    "df_pais_valor"
   ]
  },
  {
   "cell_type": "markdown",
   "id": "03e1993c",
   "metadata": {},
   "source": [
    "Conclusão: EUA lideram em revenue"
   ]
  },
  {
   "cell_type": "markdown",
   "id": "aa2dcb30",
   "metadata": {},
   "source": [
    "## 3)Partner"
   ]
  },
  {
   "cell_type": "markdown",
   "id": "affd2d6f",
   "metadata": {},
   "source": [
    "#### Qual partner trouxe mais jogadores ?"
   ]
  },
  {
   "cell_type": "code",
   "execution_count": 238,
   "id": "bc7475a6",
   "metadata": {},
   "outputs": [
    {
     "data": {
      "text/plain": [
       "Paid       0.571598\n",
       "Organic    0.428402\n",
       "Name: partner, dtype: float64"
      ]
     },
     "execution_count": 238,
     "metadata": {},
     "output_type": "execute_result"
    }
   ],
   "source": [
    "df_partner = df_game_2022['partner'].value_counts() / df_game_2022.shape[0]\n",
    "df_partner"
   ]
  },
  {
   "cell_type": "markdown",
   "id": "b4cafe6c",
   "metadata": {},
   "source": [
    "Conclusão: Há mais jogadores de origem paga"
   ]
  },
  {
   "cell_type": "markdown",
   "id": "9d40bc61",
   "metadata": {},
   "source": [
    "#### Qual partner traz mais revenue ?"
   ]
  },
  {
   "cell_type": "code",
   "execution_count": 239,
   "id": "ec674f77",
   "metadata": {},
   "outputs": [
    {
     "data": {
      "text/plain": [
       "12553804.26"
      ]
     },
     "execution_count": 239,
     "metadata": {},
     "output_type": "execute_result"
    }
   ],
   "source": [
    "round(df_game_2022.loc[df_game_2022['partner'] == 'Paid'].revenue_total.sum(),2)"
   ]
  },
  {
   "cell_type": "code",
   "execution_count": 240,
   "id": "bde28189",
   "metadata": {},
   "outputs": [
    {
     "data": {
      "text/plain": [
       "9396896.34"
      ]
     },
     "execution_count": 240,
     "metadata": {},
     "output_type": "execute_result"
    }
   ],
   "source": [
    "round(df_game_2022.loc[df_game_2022['partner'] == 'Organic'].revenue_total.sum(),2)"
   ]
  },
  {
   "cell_type": "markdown",
   "id": "fe141e2a",
   "metadata": {},
   "source": [
    "Conclusão : Jogadores que vieram via **user acquisition** gastam mais"
   ]
  },
  {
   "cell_type": "markdown",
   "id": "a68c8133",
   "metadata": {},
   "source": [
    "#### Qual retorno médio por jogador trazido por cada partner?"
   ]
  },
  {
   "cell_type": "code",
   "execution_count": 241,
   "id": "5072896e",
   "metadata": {},
   "outputs": [
    {
     "data": {
      "text/plain": [
       "2.980844147194356"
      ]
     },
     "execution_count": 241,
     "metadata": {},
     "output_type": "execute_result"
    }
   ],
   "source": [
    "round(df_game_2022.loc[df_game_2022['partner'] == 'Paid'].revenue_total.sum(),2) / df_game_2022.loc[df_game_2022['partner'] == 'Paid'].device_id.count()"
   ]
  },
  {
   "cell_type": "code",
   "execution_count": 242,
   "id": "fd4bac41",
   "metadata": {},
   "outputs": [
    {
     "data": {
      "text/plain": [
       "2.9770562142971873"
      ]
     },
     "execution_count": 242,
     "metadata": {},
     "output_type": "execute_result"
    }
   ],
   "source": [
    "round(df_game_2022.loc[df_game_2022['partner'] == 'Organic'].revenue_total.sum(),2) / df_game_2022.loc[df_game_2022['partner'] == 'Organic'].device_id.count()"
   ]
  },
  {
   "cell_type": "markdown",
   "id": "07c80a2c",
   "metadata": {},
   "source": [
    "Conclusão : O retorno médio por jogador é praticamente igual, idependente da origem dele"
   ]
  },
  {
   "cell_type": "code",
   "execution_count": null,
   "id": "d05cef7c",
   "metadata": {},
   "outputs": [],
   "source": []
  },
  {
   "cell_type": "code",
   "execution_count": null,
   "id": "33d765ac",
   "metadata": {},
   "outputs": [],
   "source": [
    "##### Criando bases com dummies"
   ]
  },
  {
   "cell_type": "code",
   "execution_count": 244,
   "id": "55619396",
   "metadata": {},
   "outputs": [],
   "source": [
    "\n",
    "# com dummies para categoricas\n",
    "df_game2 = pd.get_dummies(df_game , columns=['platform' , 'partner' , 'country'])\n",
    "\n",
    "# deixar no formato mes\n",
    "df_game2['event_date'] = pd.to_datetime(df_game2['event_date'],format=\"%Y-%m-%D\")\n",
    "df_game2['event_date'] = [i.strftime('%Y-%m') for i in df_game2['event_date']]\n",
    "df_game2['creation_date'] = pd.to_datetime(df_game2['creation_date'],format=\"%Y-%m-%D\")\n",
    "df_game2['creation_date'] = [i.strftime('%Y-%m') for i in df_game2['creation_date']]\n",
    "\n",
    "#criando base 2022\n",
    "df_game2_2022 = df_game2.loc[df_game2['creation_date']>= '2022-01']\n",
    "\n",
    "# criando novas bases\n",
    "df_game2.to_csv('game_mes.csv', index=False)\n",
    "df_game2_2022.to_csv('game_mes22.csv', index=False)"
   ]
  },
  {
   "cell_type": "code",
   "execution_count": 247,
   "id": "fd381898",
   "metadata": {},
   "outputs": [
    {
     "data": {
      "text/html": [
       "<div>\n",
       "<style scoped>\n",
       "    .dataframe tbody tr th:only-of-type {\n",
       "        vertical-align: middle;\n",
       "    }\n",
       "\n",
       "    .dataframe tbody tr th {\n",
       "        vertical-align: top;\n",
       "    }\n",
       "\n",
       "    .dataframe thead th {\n",
       "        text-align: right;\n",
       "    }\n",
       "</style>\n",
       "<table border=\"1\" class=\"dataframe\">\n",
       "  <thead>\n",
       "    <tr style=\"text-align: right;\">\n",
       "      <th></th>\n",
       "      <th>device_id</th>\n",
       "      <th>event_date</th>\n",
       "      <th>creation_date</th>\n",
       "      <th>app</th>\n",
       "      <th>iap_purchases</th>\n",
       "      <th>iap_revenue</th>\n",
       "      <th>ads_revenue</th>\n",
       "      <th>ad_impressions</th>\n",
       "      <th>revenue_total</th>\n",
       "      <th>platform_amazon</th>\n",
       "      <th>...</th>\n",
       "      <th>country_Netherlands</th>\n",
       "      <th>country_Philippines</th>\n",
       "      <th>country_Poland</th>\n",
       "      <th>country_Russian Federation</th>\n",
       "      <th>country_Spain</th>\n",
       "      <th>country_Thailand</th>\n",
       "      <th>country_Turkey</th>\n",
       "      <th>country_United Kingdom</th>\n",
       "      <th>country_United States</th>\n",
       "      <th>country_outros</th>\n",
       "    </tr>\n",
       "  </thead>\n",
       "  <tbody>\n",
       "    <tr>\n",
       "      <th>0</th>\n",
       "      <td>484c0f6c716b62fbdd651b48448632c6</td>\n",
       "      <td>2022-01</td>\n",
       "      <td>2020-12</td>\n",
       "      <td>Football Simulator</td>\n",
       "      <td>1</td>\n",
       "      <td>4.181645</td>\n",
       "      <td>0.002683</td>\n",
       "      <td>6</td>\n",
       "      <td>4.184328</td>\n",
       "      <td>0</td>\n",
       "      <td>...</td>\n",
       "      <td>0</td>\n",
       "      <td>0</td>\n",
       "      <td>0</td>\n",
       "      <td>0</td>\n",
       "      <td>0</td>\n",
       "      <td>0</td>\n",
       "      <td>0</td>\n",
       "      <td>0</td>\n",
       "      <td>0</td>\n",
       "      <td>0</td>\n",
       "    </tr>\n",
       "    <tr>\n",
       "      <th>1</th>\n",
       "      <td>54a09dd2892b768a6ae566e0f4ee61e1</td>\n",
       "      <td>2022-05</td>\n",
       "      <td>2022-05</td>\n",
       "      <td>Football Simulator</td>\n",
       "      <td>1</td>\n",
       "      <td>2.359500</td>\n",
       "      <td>0.065268</td>\n",
       "      <td>3</td>\n",
       "      <td>2.424768</td>\n",
       "      <td>0</td>\n",
       "      <td>...</td>\n",
       "      <td>0</td>\n",
       "      <td>0</td>\n",
       "      <td>0</td>\n",
       "      <td>0</td>\n",
       "      <td>0</td>\n",
       "      <td>0</td>\n",
       "      <td>0</td>\n",
       "      <td>0</td>\n",
       "      <td>0</td>\n",
       "      <td>1</td>\n",
       "    </tr>\n",
       "    <tr>\n",
       "      <th>2</th>\n",
       "      <td>be59fd534f61e87e6c617fa50edde27e</td>\n",
       "      <td>2022-04</td>\n",
       "      <td>2022-03</td>\n",
       "      <td>Football Simulator</td>\n",
       "      <td>1</td>\n",
       "      <td>2.223075</td>\n",
       "      <td>0.032855</td>\n",
       "      <td>28</td>\n",
       "      <td>2.255930</td>\n",
       "      <td>0</td>\n",
       "      <td>...</td>\n",
       "      <td>0</td>\n",
       "      <td>0</td>\n",
       "      <td>0</td>\n",
       "      <td>0</td>\n",
       "      <td>0</td>\n",
       "      <td>0</td>\n",
       "      <td>0</td>\n",
       "      <td>0</td>\n",
       "      <td>1</td>\n",
       "      <td>0</td>\n",
       "    </tr>\n",
       "    <tr>\n",
       "      <th>3</th>\n",
       "      <td>af4830573c2ac1d4efc538d16d645b31</td>\n",
       "      <td>2022-03</td>\n",
       "      <td>2022-03</td>\n",
       "      <td>Football Simulator</td>\n",
       "      <td>1</td>\n",
       "      <td>3.933454</td>\n",
       "      <td>0.000260</td>\n",
       "      <td>7</td>\n",
       "      <td>3.933713</td>\n",
       "      <td>0</td>\n",
       "      <td>...</td>\n",
       "      <td>0</td>\n",
       "      <td>0</td>\n",
       "      <td>0</td>\n",
       "      <td>0</td>\n",
       "      <td>0</td>\n",
       "      <td>0</td>\n",
       "      <td>0</td>\n",
       "      <td>0</td>\n",
       "      <td>0</td>\n",
       "      <td>0</td>\n",
       "    </tr>\n",
       "    <tr>\n",
       "      <th>4</th>\n",
       "      <td>13c70063c611c94b1f5051e4eba6f5c0</td>\n",
       "      <td>2022-03</td>\n",
       "      <td>2022-03</td>\n",
       "      <td>Football Simulator</td>\n",
       "      <td>1</td>\n",
       "      <td>3.238375</td>\n",
       "      <td>0.000663</td>\n",
       "      <td>4</td>\n",
       "      <td>3.239038</td>\n",
       "      <td>0</td>\n",
       "      <td>...</td>\n",
       "      <td>0</td>\n",
       "      <td>0</td>\n",
       "      <td>0</td>\n",
       "      <td>0</td>\n",
       "      <td>0</td>\n",
       "      <td>0</td>\n",
       "      <td>0</td>\n",
       "      <td>0</td>\n",
       "      <td>1</td>\n",
       "      <td>0</td>\n",
       "    </tr>\n",
       "  </tbody>\n",
       "</table>\n",
       "<p>5 rows × 34 columns</p>\n",
       "</div>"
      ],
      "text/plain": [
       "                          device_id event_date creation_date  \\\n",
       "0  484c0f6c716b62fbdd651b48448632c6    2022-01       2020-12   \n",
       "1  54a09dd2892b768a6ae566e0f4ee61e1    2022-05       2022-05   \n",
       "2  be59fd534f61e87e6c617fa50edde27e    2022-04       2022-03   \n",
       "3  af4830573c2ac1d4efc538d16d645b31    2022-03       2022-03   \n",
       "4  13c70063c611c94b1f5051e4eba6f5c0    2022-03       2022-03   \n",
       "\n",
       "                  app  iap_purchases  iap_revenue  ads_revenue  \\\n",
       "0  Football Simulator              1     4.181645     0.002683   \n",
       "1  Football Simulator              1     2.359500     0.065268   \n",
       "2  Football Simulator              1     2.223075     0.032855   \n",
       "3  Football Simulator              1     3.933454     0.000260   \n",
       "4  Football Simulator              1     3.238375     0.000663   \n",
       "\n",
       "   ad_impressions  revenue_total  platform_amazon  ...  country_Netherlands  \\\n",
       "0               6       4.184328                0  ...                    0   \n",
       "1               3       2.424768                0  ...                    0   \n",
       "2              28       2.255930                0  ...                    0   \n",
       "3               7       3.933713                0  ...                    0   \n",
       "4               4       3.239038                0  ...                    0   \n",
       "\n",
       "   country_Philippines  country_Poland  country_Russian Federation  \\\n",
       "0                    0               0                           0   \n",
       "1                    0               0                           0   \n",
       "2                    0               0                           0   \n",
       "3                    0               0                           0   \n",
       "4                    0               0                           0   \n",
       "\n",
       "   country_Spain  country_Thailand  country_Turkey  country_United Kingdom  \\\n",
       "0              0                 0               0                       0   \n",
       "1              0                 0               0                       0   \n",
       "2              0                 0               0                       0   \n",
       "3              0                 0               0                       0   \n",
       "4              0                 0               0                       0   \n",
       "\n",
       "   country_United States  country_outros  \n",
       "0                      0               0  \n",
       "1                      0               1  \n",
       "2                      1               0  \n",
       "3                      0               0  \n",
       "4                      1               0  \n",
       "\n",
       "[5 rows x 34 columns]"
      ]
     },
     "execution_count": 247,
     "metadata": {},
     "output_type": "execute_result"
    }
   ],
   "source": [
    "df_game2.head()"
   ]
  },
  {
   "cell_type": "code",
   "execution_count": 40,
   "id": "927d142b",
   "metadata": {},
   "outputs": [],
   "source": [
    "# agrupar por data de primeiro login\n",
    "#df_dt_login = df_game_.groupby('creation_date').sum()\n",
    "#df_dt_login"
   ]
  },
  {
   "cell_type": "markdown",
   "id": "e8bb3990",
   "metadata": {},
   "source": [
    "- agrupar resultados por mes\n",
    "- fazer alguns graficos para analisar o movimento\n",
    "- analise distribuições \n",
    "- modelo de 3 meses    \n"
   ]
  },
  {
   "cell_type": "code",
   "execution_count": null,
   "id": "369e1299",
   "metadata": {},
   "outputs": [],
   "source": []
  },
  {
   "cell_type": "markdown",
   "id": "a41f44bd",
   "metadata": {},
   "source": [
    "### Criando base final que será usada para analise gráfica"
   ]
  },
  {
   "cell_type": "code",
   "execution_count": 248,
   "id": "787f9c5f",
   "metadata": {},
   "outputs": [
    {
     "data": {
      "text/html": [
       "<div>\n",
       "<style scoped>\n",
       "    .dataframe tbody tr th:only-of-type {\n",
       "        vertical-align: middle;\n",
       "    }\n",
       "\n",
       "    .dataframe tbody tr th {\n",
       "        vertical-align: top;\n",
       "    }\n",
       "\n",
       "    .dataframe thead th {\n",
       "        text-align: right;\n",
       "    }\n",
       "</style>\n",
       "<table border=\"1\" class=\"dataframe\">\n",
       "  <thead>\n",
       "    <tr style=\"text-align: right;\">\n",
       "      <th></th>\n",
       "      <th>device_id</th>\n",
       "      <th>event_date</th>\n",
       "      <th>creation_date</th>\n",
       "      <th>app</th>\n",
       "      <th>iap_purchases</th>\n",
       "      <th>iap_revenue</th>\n",
       "      <th>ads_revenue</th>\n",
       "      <th>ad_impressions</th>\n",
       "      <th>revenue_total</th>\n",
       "      <th>platform_amazon</th>\n",
       "      <th>...</th>\n",
       "      <th>country_Netherlands</th>\n",
       "      <th>country_Philippines</th>\n",
       "      <th>country_Poland</th>\n",
       "      <th>country_Russian Federation</th>\n",
       "      <th>country_Spain</th>\n",
       "      <th>country_Thailand</th>\n",
       "      <th>country_Turkey</th>\n",
       "      <th>country_United Kingdom</th>\n",
       "      <th>country_United States</th>\n",
       "      <th>country_outros</th>\n",
       "    </tr>\n",
       "  </thead>\n",
       "  <tbody>\n",
       "    <tr>\n",
       "      <th>0</th>\n",
       "      <td>54a09dd2892b768a6ae566e0f4ee61e1</td>\n",
       "      <td>2022-05</td>\n",
       "      <td>2022-05</td>\n",
       "      <td>Football Simulator</td>\n",
       "      <td>1</td>\n",
       "      <td>2.359500</td>\n",
       "      <td>0.065268</td>\n",
       "      <td>3</td>\n",
       "      <td>2.424768</td>\n",
       "      <td>0</td>\n",
       "      <td>...</td>\n",
       "      <td>0</td>\n",
       "      <td>0</td>\n",
       "      <td>0</td>\n",
       "      <td>0</td>\n",
       "      <td>0</td>\n",
       "      <td>0</td>\n",
       "      <td>0</td>\n",
       "      <td>0</td>\n",
       "      <td>0</td>\n",
       "      <td>1</td>\n",
       "    </tr>\n",
       "    <tr>\n",
       "      <th>1</th>\n",
       "      <td>be59fd534f61e87e6c617fa50edde27e</td>\n",
       "      <td>2022-04</td>\n",
       "      <td>2022-03</td>\n",
       "      <td>Football Simulator</td>\n",
       "      <td>1</td>\n",
       "      <td>2.223075</td>\n",
       "      <td>0.032855</td>\n",
       "      <td>28</td>\n",
       "      <td>2.255930</td>\n",
       "      <td>0</td>\n",
       "      <td>...</td>\n",
       "      <td>0</td>\n",
       "      <td>0</td>\n",
       "      <td>0</td>\n",
       "      <td>0</td>\n",
       "      <td>0</td>\n",
       "      <td>0</td>\n",
       "      <td>0</td>\n",
       "      <td>0</td>\n",
       "      <td>1</td>\n",
       "      <td>0</td>\n",
       "    </tr>\n",
       "    <tr>\n",
       "      <th>2</th>\n",
       "      <td>af4830573c2ac1d4efc538d16d645b31</td>\n",
       "      <td>2022-03</td>\n",
       "      <td>2022-03</td>\n",
       "      <td>Football Simulator</td>\n",
       "      <td>1</td>\n",
       "      <td>3.933454</td>\n",
       "      <td>0.000260</td>\n",
       "      <td>7</td>\n",
       "      <td>3.933713</td>\n",
       "      <td>0</td>\n",
       "      <td>...</td>\n",
       "      <td>0</td>\n",
       "      <td>0</td>\n",
       "      <td>0</td>\n",
       "      <td>0</td>\n",
       "      <td>0</td>\n",
       "      <td>0</td>\n",
       "      <td>0</td>\n",
       "      <td>0</td>\n",
       "      <td>0</td>\n",
       "      <td>0</td>\n",
       "    </tr>\n",
       "    <tr>\n",
       "      <th>3</th>\n",
       "      <td>13c70063c611c94b1f5051e4eba6f5c0</td>\n",
       "      <td>2022-03</td>\n",
       "      <td>2022-03</td>\n",
       "      <td>Football Simulator</td>\n",
       "      <td>1</td>\n",
       "      <td>3.238375</td>\n",
       "      <td>0.000663</td>\n",
       "      <td>4</td>\n",
       "      <td>3.239038</td>\n",
       "      <td>0</td>\n",
       "      <td>...</td>\n",
       "      <td>0</td>\n",
       "      <td>0</td>\n",
       "      <td>0</td>\n",
       "      <td>0</td>\n",
       "      <td>0</td>\n",
       "      <td>0</td>\n",
       "      <td>0</td>\n",
       "      <td>0</td>\n",
       "      <td>1</td>\n",
       "      <td>0</td>\n",
       "    </tr>\n",
       "    <tr>\n",
       "      <th>4</th>\n",
       "      <td>9910918abee08a5d5156c3f49e1d1cdb</td>\n",
       "      <td>2022-04</td>\n",
       "      <td>2022-03</td>\n",
       "      <td>Football Simulator</td>\n",
       "      <td>1</td>\n",
       "      <td>1.545516</td>\n",
       "      <td>0.006923</td>\n",
       "      <td>12</td>\n",
       "      <td>1.552438</td>\n",
       "      <td>0</td>\n",
       "      <td>...</td>\n",
       "      <td>0</td>\n",
       "      <td>0</td>\n",
       "      <td>0</td>\n",
       "      <td>0</td>\n",
       "      <td>0</td>\n",
       "      <td>0</td>\n",
       "      <td>0</td>\n",
       "      <td>0</td>\n",
       "      <td>1</td>\n",
       "      <td>0</td>\n",
       "    </tr>\n",
       "  </tbody>\n",
       "</table>\n",
       "<p>5 rows × 34 columns</p>\n",
       "</div>"
      ],
      "text/plain": [
       "                          device_id event_date creation_date  \\\n",
       "0  54a09dd2892b768a6ae566e0f4ee61e1    2022-05       2022-05   \n",
       "1  be59fd534f61e87e6c617fa50edde27e    2022-04       2022-03   \n",
       "2  af4830573c2ac1d4efc538d16d645b31    2022-03       2022-03   \n",
       "3  13c70063c611c94b1f5051e4eba6f5c0    2022-03       2022-03   \n",
       "4  9910918abee08a5d5156c3f49e1d1cdb    2022-04       2022-03   \n",
       "\n",
       "                  app  iap_purchases  iap_revenue  ads_revenue  \\\n",
       "0  Football Simulator              1     2.359500     0.065268   \n",
       "1  Football Simulator              1     2.223075     0.032855   \n",
       "2  Football Simulator              1     3.933454     0.000260   \n",
       "3  Football Simulator              1     3.238375     0.000663   \n",
       "4  Football Simulator              1     1.545516     0.006923   \n",
       "\n",
       "   ad_impressions  revenue_total  platform_amazon  ...  country_Netherlands  \\\n",
       "0               3       2.424768                0  ...                    0   \n",
       "1              28       2.255930                0  ...                    0   \n",
       "2               7       3.933713                0  ...                    0   \n",
       "3               4       3.239038                0  ...                    0   \n",
       "4              12       1.552438                0  ...                    0   \n",
       "\n",
       "   country_Philippines  country_Poland  country_Russian Federation  \\\n",
       "0                    0               0                           0   \n",
       "1                    0               0                           0   \n",
       "2                    0               0                           0   \n",
       "3                    0               0                           0   \n",
       "4                    0               0                           0   \n",
       "\n",
       "   country_Spain  country_Thailand  country_Turkey  country_United Kingdom  \\\n",
       "0              0                 0               0                       0   \n",
       "1              0                 0               0                       0   \n",
       "2              0                 0               0                       0   \n",
       "3              0                 0               0                       0   \n",
       "4              0                 0               0                       0   \n",
       "\n",
       "   country_United States  country_outros  \n",
       "0                      0               1  \n",
       "1                      1               0  \n",
       "2                      0               0  \n",
       "3                      1               0  \n",
       "4                      1               0  \n",
       "\n",
       "[5 rows x 34 columns]"
      ]
     },
     "execution_count": 248,
     "metadata": {},
     "output_type": "execute_result"
    }
   ],
   "source": [
    "df_game_mes22 = pd.read_csv('game_mes22.csv', sep=',', error_bad_lines=False)\n",
    "df_game_mes22.head()"
   ]
  },
  {
   "cell_type": "code",
   "execution_count": 250,
   "id": "5fbf36a6",
   "metadata": {},
   "outputs": [
    {
     "data": {
      "text/html": [
       "<div>\n",
       "<style scoped>\n",
       "    .dataframe tbody tr th:only-of-type {\n",
       "        vertical-align: middle;\n",
       "    }\n",
       "\n",
       "    .dataframe tbody tr th {\n",
       "        vertical-align: top;\n",
       "    }\n",
       "\n",
       "    .dataframe thead th {\n",
       "        text-align: right;\n",
       "    }\n",
       "</style>\n",
       "<table border=\"1\" class=\"dataframe\">\n",
       "  <thead>\n",
       "    <tr style=\"text-align: right;\">\n",
       "      <th></th>\n",
       "      <th>creation_date</th>\n",
       "      <th>iap_purchases</th>\n",
       "      <th>iap_revenue</th>\n",
       "      <th>ads_revenue</th>\n",
       "      <th>ad_impressions</th>\n",
       "      <th>revenue_total</th>\n",
       "      <th>platform_amazon</th>\n",
       "      <th>platform_android</th>\n",
       "      <th>platform_ios</th>\n",
       "      <th>partner_Organic</th>\n",
       "      <th>...</th>\n",
       "      <th>country_Netherlands</th>\n",
       "      <th>country_Philippines</th>\n",
       "      <th>country_Poland</th>\n",
       "      <th>country_Russian Federation</th>\n",
       "      <th>country_Spain</th>\n",
       "      <th>country_Thailand</th>\n",
       "      <th>country_Turkey</th>\n",
       "      <th>country_United Kingdom</th>\n",
       "      <th>country_United States</th>\n",
       "      <th>country_outros</th>\n",
       "    </tr>\n",
       "  </thead>\n",
       "  <tbody>\n",
       "    <tr>\n",
       "      <th>0</th>\n",
       "      <td>2022-01</td>\n",
       "      <td>1408630</td>\n",
       "      <td>4.122853e+06</td>\n",
       "      <td>30608.768073</td>\n",
       "      <td>18370403</td>\n",
       "      <td>4.153461e+06</td>\n",
       "      <td>55</td>\n",
       "      <td>912991</td>\n",
       "      <td>478084</td>\n",
       "      <td>531397</td>\n",
       "      <td>...</td>\n",
       "      <td>13183</td>\n",
       "      <td>18422</td>\n",
       "      <td>76621</td>\n",
       "      <td>15337</td>\n",
       "      <td>14846</td>\n",
       "      <td>2567</td>\n",
       "      <td>20254</td>\n",
       "      <td>70087</td>\n",
       "      <td>443600</td>\n",
       "      <td>218259</td>\n",
       "    </tr>\n",
       "    <tr>\n",
       "      <th>1</th>\n",
       "      <td>2022-02</td>\n",
       "      <td>1119581</td>\n",
       "      <td>3.267063e+06</td>\n",
       "      <td>24682.290490</td>\n",
       "      <td>14060658</td>\n",
       "      <td>3.291745e+06</td>\n",
       "      <td>39</td>\n",
       "      <td>697277</td>\n",
       "      <td>405702</td>\n",
       "      <td>521808</td>\n",
       "      <td>...</td>\n",
       "      <td>14043</td>\n",
       "      <td>30529</td>\n",
       "      <td>24726</td>\n",
       "      <td>10464</td>\n",
       "      <td>18726</td>\n",
       "      <td>7356</td>\n",
       "      <td>15330</td>\n",
       "      <td>66071</td>\n",
       "      <td>339244</td>\n",
       "      <td>173739</td>\n",
       "    </tr>\n",
       "    <tr>\n",
       "      <th>2</th>\n",
       "      <td>2022-03</td>\n",
       "      <td>962517</td>\n",
       "      <td>2.812541e+06</td>\n",
       "      <td>20849.912890</td>\n",
       "      <td>11927006</td>\n",
       "      <td>2.833391e+06</td>\n",
       "      <td>37</td>\n",
       "      <td>596970</td>\n",
       "      <td>350317</td>\n",
       "      <td>413177</td>\n",
       "      <td>...</td>\n",
       "      <td>7899</td>\n",
       "      <td>18019</td>\n",
       "      <td>28053</td>\n",
       "      <td>5425</td>\n",
       "      <td>16579</td>\n",
       "      <td>17394</td>\n",
       "      <td>29538</td>\n",
       "      <td>45753</td>\n",
       "      <td>251548</td>\n",
       "      <td>153760</td>\n",
       "    </tr>\n",
       "    <tr>\n",
       "      <th>3</th>\n",
       "      <td>2022-04</td>\n",
       "      <td>1182976</td>\n",
       "      <td>3.453614e+06</td>\n",
       "      <td>25493.219229</td>\n",
       "      <td>14731968</td>\n",
       "      <td>3.479107e+06</td>\n",
       "      <td>38</td>\n",
       "      <td>880721</td>\n",
       "      <td>286345</td>\n",
       "      <td>488970</td>\n",
       "      <td>...</td>\n",
       "      <td>8939</td>\n",
       "      <td>9386</td>\n",
       "      <td>43799</td>\n",
       "      <td>11292</td>\n",
       "      <td>27027</td>\n",
       "      <td>7479</td>\n",
       "      <td>23869</td>\n",
       "      <td>70410</td>\n",
       "      <td>224815</td>\n",
       "      <td>222468</td>\n",
       "    </tr>\n",
       "    <tr>\n",
       "      <th>4</th>\n",
       "      <td>2022-05</td>\n",
       "      <td>1686198</td>\n",
       "      <td>4.896385e+06</td>\n",
       "      <td>35542.362185</td>\n",
       "      <td>20902034</td>\n",
       "      <td>4.931927e+06</td>\n",
       "      <td>30</td>\n",
       "      <td>1444270</td>\n",
       "      <td>217815</td>\n",
       "      <td>670565</td>\n",
       "      <td>...</td>\n",
       "      <td>20563</td>\n",
       "      <td>30373</td>\n",
       "      <td>35964</td>\n",
       "      <td>26222</td>\n",
       "      <td>37674</td>\n",
       "      <td>32404</td>\n",
       "      <td>41492</td>\n",
       "      <td>66215</td>\n",
       "      <td>179192</td>\n",
       "      <td>383214</td>\n",
       "    </tr>\n",
       "    <tr>\n",
       "      <th>5</th>\n",
       "      <td>2022-06</td>\n",
       "      <td>1115826</td>\n",
       "      <td>3.234011e+06</td>\n",
       "      <td>27056.806060</td>\n",
       "      <td>12821587</td>\n",
       "      <td>3.261068e+06</td>\n",
       "      <td>25</td>\n",
       "      <td>815201</td>\n",
       "      <td>282015</td>\n",
       "      <td>530522</td>\n",
       "      <td>...</td>\n",
       "      <td>15735</td>\n",
       "      <td>15574</td>\n",
       "      <td>14086</td>\n",
       "      <td>20509</td>\n",
       "      <td>32600</td>\n",
       "      <td>34011</td>\n",
       "      <td>22681</td>\n",
       "      <td>39963</td>\n",
       "      <td>126066</td>\n",
       "      <td>362435</td>\n",
       "    </tr>\n",
       "  </tbody>\n",
       "</table>\n",
       "<p>6 rows × 31 columns</p>\n",
       "</div>"
      ],
      "text/plain": [
       "  creation_date  iap_purchases   iap_revenue   ads_revenue  ad_impressions  \\\n",
       "0       2022-01        1408630  4.122853e+06  30608.768073        18370403   \n",
       "1       2022-02        1119581  3.267063e+06  24682.290490        14060658   \n",
       "2       2022-03         962517  2.812541e+06  20849.912890        11927006   \n",
       "3       2022-04        1182976  3.453614e+06  25493.219229        14731968   \n",
       "4       2022-05        1686198  4.896385e+06  35542.362185        20902034   \n",
       "5       2022-06        1115826  3.234011e+06  27056.806060        12821587   \n",
       "\n",
       "   revenue_total  platform_amazon  platform_android  platform_ios  \\\n",
       "0   4.153461e+06               55            912991        478084   \n",
       "1   3.291745e+06               39            697277        405702   \n",
       "2   2.833391e+06               37            596970        350317   \n",
       "3   3.479107e+06               38            880721        286345   \n",
       "4   4.931927e+06               30           1444270        217815   \n",
       "5   3.261068e+06               25            815201        282015   \n",
       "\n",
       "   partner_Organic  ...  country_Netherlands  country_Philippines  \\\n",
       "0           531397  ...                13183                18422   \n",
       "1           521808  ...                14043                30529   \n",
       "2           413177  ...                 7899                18019   \n",
       "3           488970  ...                 8939                 9386   \n",
       "4           670565  ...                20563                30373   \n",
       "5           530522  ...                15735                15574   \n",
       "\n",
       "   country_Poland  country_Russian Federation  country_Spain  \\\n",
       "0           76621                       15337          14846   \n",
       "1           24726                       10464          18726   \n",
       "2           28053                        5425          16579   \n",
       "3           43799                       11292          27027   \n",
       "4           35964                       26222          37674   \n",
       "5           14086                       20509          32600   \n",
       "\n",
       "   country_Thailand  country_Turkey  country_United Kingdom  \\\n",
       "0              2567           20254                   70087   \n",
       "1              7356           15330                   66071   \n",
       "2             17394           29538                   45753   \n",
       "3              7479           23869                   70410   \n",
       "4             32404           41492                   66215   \n",
       "5             34011           22681                   39963   \n",
       "\n",
       "   country_United States  country_outros  \n",
       "0                 443600          218259  \n",
       "1                 339244          173739  \n",
       "2                 251548          153760  \n",
       "3                 224815          222468  \n",
       "4                 179192          383214  \n",
       "5                 126066          362435  \n",
       "\n",
       "[6 rows x 31 columns]"
      ]
     },
     "execution_count": 250,
     "metadata": {},
     "output_type": "execute_result"
    }
   ],
   "source": [
    "df_dt_login = df_game_mes22.groupby('creation_date').sum().reset_index()\n",
    "df_dt_login"
   ]
  },
  {
   "cell_type": "code",
   "execution_count": 253,
   "id": "aac6240d",
   "metadata": {},
   "outputs": [
    {
     "data": {
      "text/html": [
       "<div>\n",
       "<style scoped>\n",
       "    .dataframe tbody tr th:only-of-type {\n",
       "        vertical-align: middle;\n",
       "    }\n",
       "\n",
       "    .dataframe tbody tr th {\n",
       "        vertical-align: top;\n",
       "    }\n",
       "\n",
       "    .dataframe thead th {\n",
       "        text-align: right;\n",
       "    }\n",
       "</style>\n",
       "<table border=\"1\" class=\"dataframe\">\n",
       "  <thead>\n",
       "    <tr style=\"text-align: right;\">\n",
       "      <th></th>\n",
       "      <th>device_id</th>\n",
       "      <th>event_date</th>\n",
       "      <th>creation_date</th>\n",
       "      <th>app</th>\n",
       "      <th>iap_purchases</th>\n",
       "      <th>iap_revenue</th>\n",
       "      <th>ads_revenue</th>\n",
       "      <th>ad_impressions</th>\n",
       "      <th>revenue_total</th>\n",
       "      <th>platform_amazon</th>\n",
       "      <th>...</th>\n",
       "      <th>country_Netherlands</th>\n",
       "      <th>country_Philippines</th>\n",
       "      <th>country_Poland</th>\n",
       "      <th>country_Russian Federation</th>\n",
       "      <th>country_Spain</th>\n",
       "      <th>country_Thailand</th>\n",
       "      <th>country_Turkey</th>\n",
       "      <th>country_United Kingdom</th>\n",
       "      <th>country_United States</th>\n",
       "      <th>country_outros</th>\n",
       "    </tr>\n",
       "  </thead>\n",
       "  <tbody>\n",
       "    <tr>\n",
       "      <th>0</th>\n",
       "      <td>54a09dd2892b768a6ae566e0f4ee61e1</td>\n",
       "      <td>2022-05</td>\n",
       "      <td>2022-05</td>\n",
       "      <td>Football Simulator</td>\n",
       "      <td>1</td>\n",
       "      <td>2.359500</td>\n",
       "      <td>0.065268</td>\n",
       "      <td>3</td>\n",
       "      <td>2.424768</td>\n",
       "      <td>0</td>\n",
       "      <td>...</td>\n",
       "      <td>0</td>\n",
       "      <td>0</td>\n",
       "      <td>0</td>\n",
       "      <td>0</td>\n",
       "      <td>0</td>\n",
       "      <td>0</td>\n",
       "      <td>0</td>\n",
       "      <td>0</td>\n",
       "      <td>0</td>\n",
       "      <td>1</td>\n",
       "    </tr>\n",
       "    <tr>\n",
       "      <th>1</th>\n",
       "      <td>be59fd534f61e87e6c617fa50edde27e</td>\n",
       "      <td>2022-04</td>\n",
       "      <td>2022-03</td>\n",
       "      <td>Football Simulator</td>\n",
       "      <td>1</td>\n",
       "      <td>2.223075</td>\n",
       "      <td>0.032855</td>\n",
       "      <td>28</td>\n",
       "      <td>2.255930</td>\n",
       "      <td>0</td>\n",
       "      <td>...</td>\n",
       "      <td>0</td>\n",
       "      <td>0</td>\n",
       "      <td>0</td>\n",
       "      <td>0</td>\n",
       "      <td>0</td>\n",
       "      <td>0</td>\n",
       "      <td>0</td>\n",
       "      <td>0</td>\n",
       "      <td>1</td>\n",
       "      <td>0</td>\n",
       "    </tr>\n",
       "    <tr>\n",
       "      <th>2</th>\n",
       "      <td>af4830573c2ac1d4efc538d16d645b31</td>\n",
       "      <td>2022-03</td>\n",
       "      <td>2022-03</td>\n",
       "      <td>Football Simulator</td>\n",
       "      <td>1</td>\n",
       "      <td>3.933454</td>\n",
       "      <td>0.000260</td>\n",
       "      <td>7</td>\n",
       "      <td>3.933713</td>\n",
       "      <td>0</td>\n",
       "      <td>...</td>\n",
       "      <td>0</td>\n",
       "      <td>0</td>\n",
       "      <td>0</td>\n",
       "      <td>0</td>\n",
       "      <td>0</td>\n",
       "      <td>0</td>\n",
       "      <td>0</td>\n",
       "      <td>0</td>\n",
       "      <td>0</td>\n",
       "      <td>0</td>\n",
       "    </tr>\n",
       "    <tr>\n",
       "      <th>3</th>\n",
       "      <td>13c70063c611c94b1f5051e4eba6f5c0</td>\n",
       "      <td>2022-03</td>\n",
       "      <td>2022-03</td>\n",
       "      <td>Football Simulator</td>\n",
       "      <td>1</td>\n",
       "      <td>3.238375</td>\n",
       "      <td>0.000663</td>\n",
       "      <td>4</td>\n",
       "      <td>3.239038</td>\n",
       "      <td>0</td>\n",
       "      <td>...</td>\n",
       "      <td>0</td>\n",
       "      <td>0</td>\n",
       "      <td>0</td>\n",
       "      <td>0</td>\n",
       "      <td>0</td>\n",
       "      <td>0</td>\n",
       "      <td>0</td>\n",
       "      <td>0</td>\n",
       "      <td>1</td>\n",
       "      <td>0</td>\n",
       "    </tr>\n",
       "    <tr>\n",
       "      <th>4</th>\n",
       "      <td>9910918abee08a5d5156c3f49e1d1cdb</td>\n",
       "      <td>2022-04</td>\n",
       "      <td>2022-03</td>\n",
       "      <td>Football Simulator</td>\n",
       "      <td>1</td>\n",
       "      <td>1.545516</td>\n",
       "      <td>0.006923</td>\n",
       "      <td>12</td>\n",
       "      <td>1.552438</td>\n",
       "      <td>0</td>\n",
       "      <td>...</td>\n",
       "      <td>0</td>\n",
       "      <td>0</td>\n",
       "      <td>0</td>\n",
       "      <td>0</td>\n",
       "      <td>0</td>\n",
       "      <td>0</td>\n",
       "      <td>0</td>\n",
       "      <td>0</td>\n",
       "      <td>1</td>\n",
       "      <td>0</td>\n",
       "    </tr>\n",
       "  </tbody>\n",
       "</table>\n",
       "<p>5 rows × 34 columns</p>\n",
       "</div>"
      ],
      "text/plain": [
       "                          device_id event_date creation_date  \\\n",
       "0  54a09dd2892b768a6ae566e0f4ee61e1    2022-05       2022-05   \n",
       "1  be59fd534f61e87e6c617fa50edde27e    2022-04       2022-03   \n",
       "2  af4830573c2ac1d4efc538d16d645b31    2022-03       2022-03   \n",
       "3  13c70063c611c94b1f5051e4eba6f5c0    2022-03       2022-03   \n",
       "4  9910918abee08a5d5156c3f49e1d1cdb    2022-04       2022-03   \n",
       "\n",
       "                  app  iap_purchases  iap_revenue  ads_revenue  \\\n",
       "0  Football Simulator              1     2.359500     0.065268   \n",
       "1  Football Simulator              1     2.223075     0.032855   \n",
       "2  Football Simulator              1     3.933454     0.000260   \n",
       "3  Football Simulator              1     3.238375     0.000663   \n",
       "4  Football Simulator              1     1.545516     0.006923   \n",
       "\n",
       "   ad_impressions  revenue_total  platform_amazon  ...  country_Netherlands  \\\n",
       "0               3       2.424768                0  ...                    0   \n",
       "1              28       2.255930                0  ...                    0   \n",
       "2               7       3.933713                0  ...                    0   \n",
       "3               4       3.239038                0  ...                    0   \n",
       "4              12       1.552438                0  ...                    0   \n",
       "\n",
       "   country_Philippines  country_Poland  country_Russian Federation  \\\n",
       "0                    0               0                           0   \n",
       "1                    0               0                           0   \n",
       "2                    0               0                           0   \n",
       "3                    0               0                           0   \n",
       "4                    0               0                           0   \n",
       "\n",
       "   country_Spain  country_Thailand  country_Turkey  country_United Kingdom  \\\n",
       "0              0                 0               0                       0   \n",
       "1              0                 0               0                       0   \n",
       "2              0                 0               0                       0   \n",
       "3              0                 0               0                       0   \n",
       "4              0                 0               0                       0   \n",
       "\n",
       "   country_United States  country_outros  \n",
       "0                      0               1  \n",
       "1                      1               0  \n",
       "2                      0               0  \n",
       "3                      1               0  \n",
       "4                      1               0  \n",
       "\n",
       "[5 rows x 34 columns]"
      ]
     },
     "execution_count": 253,
     "metadata": {},
     "output_type": "execute_result"
    }
   ],
   "source": [
    "df_game_mes22.head()"
   ]
  },
  {
   "cell_type": "code",
   "execution_count": 256,
   "id": "e2cd7f5c",
   "metadata": {},
   "outputs": [
    {
     "data": {
      "text/html": [
       "<div>\n",
       "<style scoped>\n",
       "    .dataframe tbody tr th:only-of-type {\n",
       "        vertical-align: middle;\n",
       "    }\n",
       "\n",
       "    .dataframe tbody tr th {\n",
       "        vertical-align: top;\n",
       "    }\n",
       "\n",
       "    .dataframe thead th {\n",
       "        text-align: right;\n",
       "    }\n",
       "</style>\n",
       "<table border=\"1\" class=\"dataframe\">\n",
       "  <thead>\n",
       "    <tr style=\"text-align: right;\">\n",
       "      <th></th>\n",
       "      <th>creation_date</th>\n",
       "      <th>device_id</th>\n",
       "    </tr>\n",
       "  </thead>\n",
       "  <tbody>\n",
       "    <tr>\n",
       "      <th>0</th>\n",
       "      <td>2022-01</td>\n",
       "      <td>445821</td>\n",
       "    </tr>\n",
       "    <tr>\n",
       "      <th>1</th>\n",
       "      <td>2022-02</td>\n",
       "      <td>371096</td>\n",
       "    </tr>\n",
       "    <tr>\n",
       "      <th>2</th>\n",
       "      <td>2022-03</td>\n",
       "      <td>337759</td>\n",
       "    </tr>\n",
       "    <tr>\n",
       "      <th>3</th>\n",
       "      <td>2022-04</td>\n",
       "      <td>452764</td>\n",
       "    </tr>\n",
       "    <tr>\n",
       "      <th>4</th>\n",
       "      <td>2022-05</td>\n",
       "      <td>739105</td>\n",
       "    </tr>\n",
       "    <tr>\n",
       "      <th>5</th>\n",
       "      <td>2022-06</td>\n",
       "      <td>643294</td>\n",
       "    </tr>\n",
       "  </tbody>\n",
       "</table>\n",
       "</div>"
      ],
      "text/plain": [
       "  creation_date  device_id\n",
       "0       2022-01     445821\n",
       "1       2022-02     371096\n",
       "2       2022-03     337759\n",
       "3       2022-04     452764\n",
       "4       2022-05     739105\n",
       "5       2022-06     643294"
      ]
     },
     "execution_count": 256,
     "metadata": {},
     "output_type": "execute_result"
    }
   ],
   "source": [
    "df_dt_cadastros = df_game_mes22.groupby('creation_date').device_id.nunique().reset_index()\n",
    "df_dt_cadastros"
   ]
  },
  {
   "cell_type": "code",
   "execution_count": 257,
   "id": "7b4d9e28",
   "metadata": {},
   "outputs": [],
   "source": [
    "df_games_22_final = pd.merge(df_dt_login ,df_dt_cadastros , how=\"left\", on=[\"creation_date\"])"
   ]
  },
  {
   "cell_type": "code",
   "execution_count": 258,
   "id": "dca88149",
   "metadata": {},
   "outputs": [
    {
     "data": {
      "text/html": [
       "<div>\n",
       "<style scoped>\n",
       "    .dataframe tbody tr th:only-of-type {\n",
       "        vertical-align: middle;\n",
       "    }\n",
       "\n",
       "    .dataframe tbody tr th {\n",
       "        vertical-align: top;\n",
       "    }\n",
       "\n",
       "    .dataframe thead th {\n",
       "        text-align: right;\n",
       "    }\n",
       "</style>\n",
       "<table border=\"1\" class=\"dataframe\">\n",
       "  <thead>\n",
       "    <tr style=\"text-align: right;\">\n",
       "      <th></th>\n",
       "      <th>creation_date</th>\n",
       "      <th>iap_purchases</th>\n",
       "      <th>iap_revenue</th>\n",
       "      <th>ads_revenue</th>\n",
       "      <th>ad_impressions</th>\n",
       "      <th>revenue_total</th>\n",
       "      <th>platform_amazon</th>\n",
       "      <th>platform_android</th>\n",
       "      <th>platform_ios</th>\n",
       "      <th>partner_Organic</th>\n",
       "      <th>...</th>\n",
       "      <th>country_Philippines</th>\n",
       "      <th>country_Poland</th>\n",
       "      <th>country_Russian Federation</th>\n",
       "      <th>country_Spain</th>\n",
       "      <th>country_Thailand</th>\n",
       "      <th>country_Turkey</th>\n",
       "      <th>country_United Kingdom</th>\n",
       "      <th>country_United States</th>\n",
       "      <th>country_outros</th>\n",
       "      <th>device_id</th>\n",
       "    </tr>\n",
       "  </thead>\n",
       "  <tbody>\n",
       "    <tr>\n",
       "      <th>0</th>\n",
       "      <td>2022-01</td>\n",
       "      <td>1408630</td>\n",
       "      <td>4.122853e+06</td>\n",
       "      <td>30608.768073</td>\n",
       "      <td>18370403</td>\n",
       "      <td>4.153461e+06</td>\n",
       "      <td>55</td>\n",
       "      <td>912991</td>\n",
       "      <td>478084</td>\n",
       "      <td>531397</td>\n",
       "      <td>...</td>\n",
       "      <td>18422</td>\n",
       "      <td>76621</td>\n",
       "      <td>15337</td>\n",
       "      <td>14846</td>\n",
       "      <td>2567</td>\n",
       "      <td>20254</td>\n",
       "      <td>70087</td>\n",
       "      <td>443600</td>\n",
       "      <td>218259</td>\n",
       "      <td>445821</td>\n",
       "    </tr>\n",
       "    <tr>\n",
       "      <th>1</th>\n",
       "      <td>2022-02</td>\n",
       "      <td>1119581</td>\n",
       "      <td>3.267063e+06</td>\n",
       "      <td>24682.290490</td>\n",
       "      <td>14060658</td>\n",
       "      <td>3.291745e+06</td>\n",
       "      <td>39</td>\n",
       "      <td>697277</td>\n",
       "      <td>405702</td>\n",
       "      <td>521808</td>\n",
       "      <td>...</td>\n",
       "      <td>30529</td>\n",
       "      <td>24726</td>\n",
       "      <td>10464</td>\n",
       "      <td>18726</td>\n",
       "      <td>7356</td>\n",
       "      <td>15330</td>\n",
       "      <td>66071</td>\n",
       "      <td>339244</td>\n",
       "      <td>173739</td>\n",
       "      <td>371096</td>\n",
       "    </tr>\n",
       "    <tr>\n",
       "      <th>2</th>\n",
       "      <td>2022-03</td>\n",
       "      <td>962517</td>\n",
       "      <td>2.812541e+06</td>\n",
       "      <td>20849.912890</td>\n",
       "      <td>11927006</td>\n",
       "      <td>2.833391e+06</td>\n",
       "      <td>37</td>\n",
       "      <td>596970</td>\n",
       "      <td>350317</td>\n",
       "      <td>413177</td>\n",
       "      <td>...</td>\n",
       "      <td>18019</td>\n",
       "      <td>28053</td>\n",
       "      <td>5425</td>\n",
       "      <td>16579</td>\n",
       "      <td>17394</td>\n",
       "      <td>29538</td>\n",
       "      <td>45753</td>\n",
       "      <td>251548</td>\n",
       "      <td>153760</td>\n",
       "      <td>337759</td>\n",
       "    </tr>\n",
       "    <tr>\n",
       "      <th>3</th>\n",
       "      <td>2022-04</td>\n",
       "      <td>1182976</td>\n",
       "      <td>3.453614e+06</td>\n",
       "      <td>25493.219229</td>\n",
       "      <td>14731968</td>\n",
       "      <td>3.479107e+06</td>\n",
       "      <td>38</td>\n",
       "      <td>880721</td>\n",
       "      <td>286345</td>\n",
       "      <td>488970</td>\n",
       "      <td>...</td>\n",
       "      <td>9386</td>\n",
       "      <td>43799</td>\n",
       "      <td>11292</td>\n",
       "      <td>27027</td>\n",
       "      <td>7479</td>\n",
       "      <td>23869</td>\n",
       "      <td>70410</td>\n",
       "      <td>224815</td>\n",
       "      <td>222468</td>\n",
       "      <td>452764</td>\n",
       "    </tr>\n",
       "    <tr>\n",
       "      <th>4</th>\n",
       "      <td>2022-05</td>\n",
       "      <td>1686198</td>\n",
       "      <td>4.896385e+06</td>\n",
       "      <td>35542.362185</td>\n",
       "      <td>20902034</td>\n",
       "      <td>4.931927e+06</td>\n",
       "      <td>30</td>\n",
       "      <td>1444270</td>\n",
       "      <td>217815</td>\n",
       "      <td>670565</td>\n",
       "      <td>...</td>\n",
       "      <td>30373</td>\n",
       "      <td>35964</td>\n",
       "      <td>26222</td>\n",
       "      <td>37674</td>\n",
       "      <td>32404</td>\n",
       "      <td>41492</td>\n",
       "      <td>66215</td>\n",
       "      <td>179192</td>\n",
       "      <td>383214</td>\n",
       "      <td>739105</td>\n",
       "    </tr>\n",
       "  </tbody>\n",
       "</table>\n",
       "<p>5 rows × 32 columns</p>\n",
       "</div>"
      ],
      "text/plain": [
       "  creation_date  iap_purchases   iap_revenue   ads_revenue  ad_impressions  \\\n",
       "0       2022-01        1408630  4.122853e+06  30608.768073        18370403   \n",
       "1       2022-02        1119581  3.267063e+06  24682.290490        14060658   \n",
       "2       2022-03         962517  2.812541e+06  20849.912890        11927006   \n",
       "3       2022-04        1182976  3.453614e+06  25493.219229        14731968   \n",
       "4       2022-05        1686198  4.896385e+06  35542.362185        20902034   \n",
       "\n",
       "   revenue_total  platform_amazon  platform_android  platform_ios  \\\n",
       "0   4.153461e+06               55            912991        478084   \n",
       "1   3.291745e+06               39            697277        405702   \n",
       "2   2.833391e+06               37            596970        350317   \n",
       "3   3.479107e+06               38            880721        286345   \n",
       "4   4.931927e+06               30           1444270        217815   \n",
       "\n",
       "   partner_Organic  ...  country_Philippines  country_Poland  \\\n",
       "0           531397  ...                18422           76621   \n",
       "1           521808  ...                30529           24726   \n",
       "2           413177  ...                18019           28053   \n",
       "3           488970  ...                 9386           43799   \n",
       "4           670565  ...                30373           35964   \n",
       "\n",
       "   country_Russian Federation  country_Spain  country_Thailand  \\\n",
       "0                       15337          14846              2567   \n",
       "1                       10464          18726              7356   \n",
       "2                        5425          16579             17394   \n",
       "3                       11292          27027              7479   \n",
       "4                       26222          37674             32404   \n",
       "\n",
       "   country_Turkey  country_United Kingdom  country_United States  \\\n",
       "0           20254                   70087                 443600   \n",
       "1           15330                   66071                 339244   \n",
       "2           29538                   45753                 251548   \n",
       "3           23869                   70410                 224815   \n",
       "4           41492                   66215                 179192   \n",
       "\n",
       "   country_outros  device_id  \n",
       "0          218259     445821  \n",
       "1          173739     371096  \n",
       "2          153760     337759  \n",
       "3          222468     452764  \n",
       "4          383214     739105  \n",
       "\n",
       "[5 rows x 32 columns]"
      ]
     },
     "execution_count": 258,
     "metadata": {},
     "output_type": "execute_result"
    }
   ],
   "source": [
    "df_games_22_final.head()"
   ]
  },
  {
   "cell_type": "code",
   "execution_count": 264,
   "id": "b823fa83",
   "metadata": {},
   "outputs": [
    {
     "data": {
      "image/png": "[encoded data removed]",
      "text/plain": [
       "<Figure size 640x480 with 1 Axes>"
      ]
     },
     "metadata": {
      "needs_background": "light"
     },
     "output_type": "display_data"
    }
   ],
   "source": [
    "figure(figsize=(8, 6), dpi=80)\n",
    "x = df_games_22_final['creation_date']\n",
    "y = df_games_22_final['device_id']\n",
    "plt.plot(x, y ) \n",
    "plt.xlabel(\"meses\")  \n",
    "plt.ylabel(\"numero de Users\")  \n",
    "plt.title(\"Evolução Users por mês\")  \n",
    "plt.show() "
   ]
  },
  {
   "cell_type": "code",
   "execution_count": 266,
   "id": "3b4691a5",
   "metadata": {},
   "outputs": [
    {
     "data": {
      "image/png": "[encoded data removed]",
      "text/plain": [
       "<Figure size 640x480 with 1 Axes>"
      ]
     },
     "metadata": {
      "needs_background": "light"
     },
     "output_type": "display_data"
    }
   ],
   "source": [
    "figure(figsize=(8, 6), dpi=80)\n",
    "x = df_games_22_final['creation_date']\n",
    "y = df_games_22_final['revenue_total']\n",
    "plt.plot(x, y ) \n",
    "plt.xlabel(\"meses\")  \n",
    "plt.ylabel(\"revenue total\")  \n",
    "plt.title(\"Evolução revenue total por mês\")  \n",
    "plt.show() "
   ]
  },
  {
   "cell_type": "code",
   "execution_count": 269,
   "id": "c2a351d7",
   "metadata": {},
   "outputs": [
    {
     "data": {
      "image/png": "[encoded data removed]",
      "text/plain": [
       "<Figure size 640x480 with 1 Axes>"
      ]
     },
     "metadata": {
      "needs_background": "light"
     },
     "output_type": "display_data"
    }
   ],
   "source": [
    "figure(figsize=(8, 6), dpi=80)\n",
    "x = df_games_22_final['creation_date']\n",
    "y = df_games_22_final['iap_purchases']\n",
    "plt.plot(x, y ) \n",
    "plt.xlabel(\"meses\")  \n",
    "plt.ylabel(\"numero de compras\")  \n",
    "plt.title(\"Evolução número de compras por jogador por mês\")  \n",
    "plt.show() "
   ]
  },
  {
   "cell_type": "code",
   "execution_count": 271,
   "id": "88df3823",
   "metadata": {},
   "outputs": [
    {
     "data": {
      "image/png": "[encoded data removed]",
      "text/plain": [
       "<Figure size 640x480 with 1 Axes>"
      ]
     },
     "metadata": {
      "needs_background": "light"
     },
     "output_type": "display_data"
    }
   ],
   "source": [
    "figure(figsize=(8, 6), dpi=80)\n",
    "x = df_games_22_final['creation_date']\n",
    "y = df_games_22_final['ad_impressions']\n",
    "plt.plot(x, y ) \n",
    "plt.xlabel(\"meses\")  \n",
    "plt.ylabel(\"numero impressões por anúncio\")  \n",
    "plt.title(\"Evolução número de compras por jogador por mês\")  \n",
    "plt.show() "
   ]
  },
  {
   "cell_type": "markdown",
   "id": "26608a9c",
   "metadata": {},
   "source": [
    "### Projeção 3 meses"
   ]
  },
  {
   "cell_type": "code",
   "execution_count": 279,
   "id": "56b3cd13",
   "metadata": {},
   "outputs": [
    {
     "ename": "MemoryError",
     "evalue": "Unable to allocate 69.0 MiB for an array with shape (9047405,) and data type int64",
     "output_type": "error",
     "traceback": [
      "\u001b[1;31m---------------------------------------------------------------------------\u001b[0m",
      "\u001b[1;31mMemoryError\u001b[0m                               Traceback (most recent call last)",
      "\u001b[1;32m<ipython-input-279-bb46644924d2>\u001b[0m in \u001b[0;36m<module>\u001b[1;34m\u001b[0m\n\u001b[0;32m      1\u001b[0m \u001b[1;31m#criando base final com todo historico\u001b[0m\u001b[1;33m\u001b[0m\u001b[1;33m\u001b[0m\u001b[1;33m\u001b[0m\u001b[0m\n\u001b[1;32m----> 2\u001b[1;33m \u001b[0mdf_game_mes\u001b[0m \u001b[1;33m=\u001b[0m \u001b[0mpd\u001b[0m\u001b[1;33m.\u001b[0m\u001b[0mread_csv\u001b[0m\u001b[1;33m(\u001b[0m\u001b[1;34m'game_mes.csv'\u001b[0m\u001b[1;33m,\u001b[0m \u001b[0msep\u001b[0m\u001b[1;33m=\u001b[0m\u001b[1;34m','\u001b[0m\u001b[1;33m,\u001b[0m \u001b[0merror_bad_lines\u001b[0m\u001b[1;33m=\u001b[0m\u001b[1;32mFalse\u001b[0m\u001b[1;33m)\u001b[0m\u001b[1;33m\u001b[0m\u001b[1;33m\u001b[0m\u001b[0m\n\u001b[0m",
      "\u001b[1;32m~\\anaconda3\\lib\\site-packages\\pandas\\io\\parsers.py\u001b[0m in \u001b[0;36mread_csv\u001b[1;34m(filepath_or_buffer, sep, delimiter, header, names, index_col, usecols, squeeze, prefix, mangle_dupe_cols, dtype, engine, converters, true_values, false_values, skipinitialspace, skiprows, skipfooter, nrows, na_values, keep_default_na, na_filter, verbose, skip_blank_lines, parse_dates, infer_datetime_format, keep_date_col, date_parser, dayfirst, cache_dates, iterator, chunksize, compression, thousands, decimal, lineterminator, quotechar, quoting, doublequote, escapechar, comment, encoding, dialect, error_bad_lines, warn_bad_lines, delim_whitespace, low_memory, memory_map, float_precision, storage_options)\u001b[0m\n\u001b[0;32m    608\u001b[0m     \u001b[0mkwds\u001b[0m\u001b[1;33m.\u001b[0m\u001b[0mupdate\u001b[0m\u001b[1;33m(\u001b[0m\u001b[0mkwds_defaults\u001b[0m\u001b[1;33m)\u001b[0m\u001b[1;33m\u001b[0m\u001b[1;33m\u001b[0m\u001b[0m\n\u001b[0;32m    609\u001b[0m \u001b[1;33m\u001b[0m\u001b[0m\n\u001b[1;32m--> 610\u001b[1;33m     \u001b[1;32mreturn\u001b[0m \u001b[0m_read\u001b[0m\u001b[1;33m(\u001b[0m\u001b[0mfilepath_or_buffer\u001b[0m\u001b[1;33m,\u001b[0m \u001b[0mkwds\u001b[0m\u001b[1;33m)\u001b[0m\u001b[1;33m\u001b[0m\u001b[1;33m\u001b[0m\u001b[0m\n\u001b[0m\u001b[0;32m    611\u001b[0m \u001b[1;33m\u001b[0m\u001b[0m\n\u001b[0;32m    612\u001b[0m \u001b[1;33m\u001b[0m\u001b[0m\n",
      "\u001b[1;32m~\\anaconda3\\lib\\site-packages\\pandas\\io\\parsers.py\u001b[0m in \u001b[0;36m_read\u001b[1;34m(filepath_or_buffer, kwds)\u001b[0m\n\u001b[0;32m    466\u001b[0m \u001b[1;33m\u001b[0m\u001b[0m\n\u001b[0;32m    467\u001b[0m     \u001b[1;32mwith\u001b[0m \u001b[0mparser\u001b[0m\u001b[1;33m:\u001b[0m\u001b[1;33m\u001b[0m\u001b[1;33m\u001b[0m\u001b[0m\n\u001b[1;32m--> 468\u001b[1;33m         \u001b[1;32mreturn\u001b[0m \u001b[0mparser\u001b[0m\u001b[1;33m.\u001b[0m\u001b[0mread\u001b[0m\u001b[1;33m(\u001b[0m\u001b[0mnrows\u001b[0m\u001b[1;33m)\u001b[0m\u001b[1;33m\u001b[0m\u001b[1;33m\u001b[0m\u001b[0m\n\u001b[0m\u001b[0;32m    469\u001b[0m \u001b[1;33m\u001b[0m\u001b[0m\n\u001b[0;32m    470\u001b[0m \u001b[1;33m\u001b[0m\u001b[0m\n",
      "\u001b[1;32m~\\anaconda3\\lib\\site-packages\\pandas\\io\\parsers.py\u001b[0m in \u001b[0;36mread\u001b[1;34m(self, nrows)\u001b[0m\n\u001b[0;32m   1055\u001b[0m     \u001b[1;32mdef\u001b[0m \u001b[0mread\u001b[0m\u001b[1;33m(\u001b[0m\u001b[0mself\u001b[0m\u001b[1;33m,\u001b[0m \u001b[0mnrows\u001b[0m\u001b[1;33m=\u001b[0m\u001b[1;32mNone\u001b[0m\u001b[1;33m)\u001b[0m\u001b[1;33m:\u001b[0m\u001b[1;33m\u001b[0m\u001b[1;33m\u001b[0m\u001b[0m\n\u001b[0;32m   1056\u001b[0m         \u001b[0mnrows\u001b[0m \u001b[1;33m=\u001b[0m \u001b[0mvalidate_integer\u001b[0m\u001b[1;33m(\u001b[0m\u001b[1;34m\"nrows\"\u001b[0m\u001b[1;33m,\u001b[0m \u001b[0mnrows\u001b[0m\u001b[1;33m)\u001b[0m\u001b[1;33m\u001b[0m\u001b[1;33m\u001b[0m\u001b[0m\n\u001b[1;32m-> 1057\u001b[1;33m         \u001b[0mindex\u001b[0m\u001b[1;33m,\u001b[0m \u001b[0mcolumns\u001b[0m\u001b[1;33m,\u001b[0m \u001b[0mcol_dict\u001b[0m \u001b[1;33m=\u001b[0m \u001b[0mself\u001b[0m\u001b[1;33m.\u001b[0m\u001b[0m_engine\u001b[0m\u001b[1;33m.\u001b[0m\u001b[0mread\u001b[0m\u001b[1;33m(\u001b[0m\u001b[0mnrows\u001b[0m\u001b[1;33m)\u001b[0m\u001b[1;33m\u001b[0m\u001b[1;33m\u001b[0m\u001b[0m\n\u001b[0m\u001b[0;32m   1058\u001b[0m \u001b[1;33m\u001b[0m\u001b[0m\n\u001b[0;32m   1059\u001b[0m         \u001b[1;32mif\u001b[0m \u001b[0mindex\u001b[0m \u001b[1;32mis\u001b[0m \u001b[1;32mNone\u001b[0m\u001b[1;33m:\u001b[0m\u001b[1;33m\u001b[0m\u001b[1;33m\u001b[0m\u001b[0m\n",
      "\u001b[1;32m~\\anaconda3\\lib\\site-packages\\pandas\\io\\parsers.py\u001b[0m in \u001b[0;36mread\u001b[1;34m(self, nrows)\u001b[0m\n\u001b[0;32m   2059\u001b[0m     \u001b[1;32mdef\u001b[0m \u001b[0mread\u001b[0m\u001b[1;33m(\u001b[0m\u001b[0mself\u001b[0m\u001b[1;33m,\u001b[0m \u001b[0mnrows\u001b[0m\u001b[1;33m=\u001b[0m\u001b[1;32mNone\u001b[0m\u001b[1;33m)\u001b[0m\u001b[1;33m:\u001b[0m\u001b[1;33m\u001b[0m\u001b[1;33m\u001b[0m\u001b[0m\n\u001b[0;32m   2060\u001b[0m         \u001b[1;32mtry\u001b[0m\u001b[1;33m:\u001b[0m\u001b[1;33m\u001b[0m\u001b[1;33m\u001b[0m\u001b[0m\n\u001b[1;32m-> 2061\u001b[1;33m             \u001b[0mdata\u001b[0m \u001b[1;33m=\u001b[0m \u001b[0mself\u001b[0m\u001b[1;33m.\u001b[0m\u001b[0m_reader\u001b[0m\u001b[1;33m.\u001b[0m\u001b[0mread\u001b[0m\u001b[1;33m(\u001b[0m\u001b[0mnrows\u001b[0m\u001b[1;33m)\u001b[0m\u001b[1;33m\u001b[0m\u001b[1;33m\u001b[0m\u001b[0m\n\u001b[0m\u001b[0;32m   2062\u001b[0m         \u001b[1;32mexcept\u001b[0m \u001b[0mStopIteration\u001b[0m\u001b[1;33m:\u001b[0m\u001b[1;33m\u001b[0m\u001b[1;33m\u001b[0m\u001b[0m\n\u001b[0;32m   2063\u001b[0m             \u001b[1;32mif\u001b[0m \u001b[0mself\u001b[0m\u001b[1;33m.\u001b[0m\u001b[0m_first_chunk\u001b[0m\u001b[1;33m:\u001b[0m\u001b[1;33m\u001b[0m\u001b[1;33m\u001b[0m\u001b[0m\n",
      "\u001b[1;32mpandas\\_libs\\parsers.pyx\u001b[0m in \u001b[0;36mpandas._libs.parsers.TextReader.read\u001b[1;34m()\u001b[0m\n",
      "\u001b[1;32mpandas\\_libs\\parsers.pyx\u001b[0m in \u001b[0;36mpandas._libs.parsers.TextReader._read_low_memory\u001b[1;34m()\u001b[0m\n",
      "\u001b[1;32mpandas\\_libs\\parsers.pyx\u001b[0m in \u001b[0;36mpandas._libs.parsers._concatenate_chunks\u001b[1;34m()\u001b[0m\n",
      "\u001b[1;32m<__array_function__ internals>\u001b[0m in \u001b[0;36mconcatenate\u001b[1;34m(*args, **kwargs)\u001b[0m\n",
      "\u001b[1;31mMemoryError\u001b[0m: Unable to allocate 69.0 MiB for an array with shape (9047405,) and data type int64"
     ]
    }
   ],
   "source": [
    "#criando base final com todo historico\n",
    "df_game_mes = pd.read_csv('game_mes.csv', sep=',', error_bad_lines=False)"
   ]
  },
  {
   "cell_type": "code",
   "execution_count": 277,
   "id": "57d9843c",
   "metadata": {},
   "outputs": [
    {
     "ename": "MemoryError",
     "evalue": "Unable to allocate 69.0 MiB for an array with shape (9047405,) and data type int64",
     "output_type": "error",
     "traceback": [
      "\u001b[1;31m---------------------------------------------------------------------------\u001b[0m",
      "\u001b[1;31mMemoryError\u001b[0m                               Traceback (most recent call last)",
      "\u001b[1;32m<ipython-input-277-e992e0cdb80b>\u001b[0m in \u001b[0;36m<module>\u001b[1;34m\u001b[0m\n\u001b[0;32m      1\u001b[0m \u001b[1;31m#criando base final com todo historico\u001b[0m\u001b[1;33m\u001b[0m\u001b[1;33m\u001b[0m\u001b[1;33m\u001b[0m\u001b[0m\n\u001b[1;32m----> 2\u001b[1;33m \u001b[0mdf_game_mes\u001b[0m \u001b[1;33m=\u001b[0m \u001b[0mpd\u001b[0m\u001b[1;33m.\u001b[0m\u001b[0mread_csv\u001b[0m\u001b[1;33m(\u001b[0m\u001b[1;34m'game_mes.csv'\u001b[0m\u001b[1;33m,\u001b[0m \u001b[0msep\u001b[0m\u001b[1;33m=\u001b[0m\u001b[1;34m','\u001b[0m\u001b[1;33m,\u001b[0m \u001b[0merror_bad_lines\u001b[0m\u001b[1;33m=\u001b[0m\u001b[1;32mFalse\u001b[0m\u001b[1;33m)\u001b[0m\u001b[1;33m\u001b[0m\u001b[1;33m\u001b[0m\u001b[0m\n\u001b[0m\u001b[0;32m      3\u001b[0m \u001b[0mdf_dt_login\u001b[0m \u001b[1;33m=\u001b[0m \u001b[0mdf_game_mes\u001b[0m\u001b[1;33m.\u001b[0m\u001b[0mgroupby\u001b[0m\u001b[1;33m(\u001b[0m\u001b[1;34m'creation_date'\u001b[0m\u001b[1;33m)\u001b[0m\u001b[1;33m.\u001b[0m\u001b[0msum\u001b[0m\u001b[1;33m(\u001b[0m\u001b[1;33m)\u001b[0m\u001b[1;33m.\u001b[0m\u001b[0mreset_index\u001b[0m\u001b[1;33m(\u001b[0m\u001b[1;33m)\u001b[0m\u001b[1;33m\u001b[0m\u001b[1;33m\u001b[0m\u001b[0m\n\u001b[0;32m      4\u001b[0m \u001b[0mdf_dt_cadastros\u001b[0m \u001b[1;33m=\u001b[0m \u001b[0mdf_game_mes\u001b[0m\u001b[1;33m.\u001b[0m\u001b[0mgroupby\u001b[0m\u001b[1;33m(\u001b[0m\u001b[1;34m'creation_date'\u001b[0m\u001b[1;33m)\u001b[0m\u001b[1;33m.\u001b[0m\u001b[0mdevice_id\u001b[0m\u001b[1;33m.\u001b[0m\u001b[0mnunique\u001b[0m\u001b[1;33m(\u001b[0m\u001b[1;33m)\u001b[0m\u001b[1;33m.\u001b[0m\u001b[0mreset_index\u001b[0m\u001b[1;33m(\u001b[0m\u001b[1;33m)\u001b[0m\u001b[1;33m\u001b[0m\u001b[1;33m\u001b[0m\u001b[0m\n\u001b[0;32m      5\u001b[0m \u001b[0mdf_games_final\u001b[0m \u001b[1;33m=\u001b[0m \u001b[0mpd\u001b[0m\u001b[1;33m.\u001b[0m\u001b[0mmerge\u001b[0m\u001b[1;33m(\u001b[0m\u001b[0mdf_dt_login\u001b[0m \u001b[1;33m,\u001b[0m\u001b[0mdf_dt_cadastros\u001b[0m \u001b[1;33m,\u001b[0m \u001b[0mhow\u001b[0m\u001b[1;33m=\u001b[0m\u001b[1;34m\"left\"\u001b[0m\u001b[1;33m,\u001b[0m \u001b[0mon\u001b[0m\u001b[1;33m=\u001b[0m\u001b[1;33m[\u001b[0m\u001b[1;34m\"creation_date\"\u001b[0m\u001b[1;33m]\u001b[0m\u001b[1;33m)\u001b[0m\u001b[1;33m\u001b[0m\u001b[1;33m\u001b[0m\u001b[0m\n",
      "\u001b[1;32m~\\anaconda3\\lib\\site-packages\\pandas\\io\\parsers.py\u001b[0m in \u001b[0;36mread_csv\u001b[1;34m(filepath_or_buffer, sep, delimiter, header, names, index_col, usecols, squeeze, prefix, mangle_dupe_cols, dtype, engine, converters, true_values, false_values, skipinitialspace, skiprows, skipfooter, nrows, na_values, keep_default_na, na_filter, verbose, skip_blank_lines, parse_dates, infer_datetime_format, keep_date_col, date_parser, dayfirst, cache_dates, iterator, chunksize, compression, thousands, decimal, lineterminator, quotechar, quoting, doublequote, escapechar, comment, encoding, dialect, error_bad_lines, warn_bad_lines, delim_whitespace, low_memory, memory_map, float_precision, storage_options)\u001b[0m\n\u001b[0;32m    608\u001b[0m     \u001b[0mkwds\u001b[0m\u001b[1;33m.\u001b[0m\u001b[0mupdate\u001b[0m\u001b[1;33m(\u001b[0m\u001b[0mkwds_defaults\u001b[0m\u001b[1;33m)\u001b[0m\u001b[1;33m\u001b[0m\u001b[1;33m\u001b[0m\u001b[0m\n\u001b[0;32m    609\u001b[0m \u001b[1;33m\u001b[0m\u001b[0m\n\u001b[1;32m--> 610\u001b[1;33m     \u001b[1;32mreturn\u001b[0m \u001b[0m_read\u001b[0m\u001b[1;33m(\u001b[0m\u001b[0mfilepath_or_buffer\u001b[0m\u001b[1;33m,\u001b[0m \u001b[0mkwds\u001b[0m\u001b[1;33m)\u001b[0m\u001b[1;33m\u001b[0m\u001b[1;33m\u001b[0m\u001b[0m\n\u001b[0m\u001b[0;32m    611\u001b[0m \u001b[1;33m\u001b[0m\u001b[0m\n\u001b[0;32m    612\u001b[0m \u001b[1;33m\u001b[0m\u001b[0m\n",
      "\u001b[1;32m~\\anaconda3\\lib\\site-packages\\pandas\\io\\parsers.py\u001b[0m in \u001b[0;36m_read\u001b[1;34m(filepath_or_buffer, kwds)\u001b[0m\n\u001b[0;32m    466\u001b[0m \u001b[1;33m\u001b[0m\u001b[0m\n\u001b[0;32m    467\u001b[0m     \u001b[1;32mwith\u001b[0m \u001b[0mparser\u001b[0m\u001b[1;33m:\u001b[0m\u001b[1;33m\u001b[0m\u001b[1;33m\u001b[0m\u001b[0m\n\u001b[1;32m--> 468\u001b[1;33m         \u001b[1;32mreturn\u001b[0m \u001b[0mparser\u001b[0m\u001b[1;33m.\u001b[0m\u001b[0mread\u001b[0m\u001b[1;33m(\u001b[0m\u001b[0mnrows\u001b[0m\u001b[1;33m)\u001b[0m\u001b[1;33m\u001b[0m\u001b[1;33m\u001b[0m\u001b[0m\n\u001b[0m\u001b[0;32m    469\u001b[0m \u001b[1;33m\u001b[0m\u001b[0m\n\u001b[0;32m    470\u001b[0m \u001b[1;33m\u001b[0m\u001b[0m\n",
      "\u001b[1;32m~\\anaconda3\\lib\\site-packages\\pandas\\io\\parsers.py\u001b[0m in \u001b[0;36mread\u001b[1;34m(self, nrows)\u001b[0m\n\u001b[0;32m   1055\u001b[0m     \u001b[1;32mdef\u001b[0m \u001b[0mread\u001b[0m\u001b[1;33m(\u001b[0m\u001b[0mself\u001b[0m\u001b[1;33m,\u001b[0m \u001b[0mnrows\u001b[0m\u001b[1;33m=\u001b[0m\u001b[1;32mNone\u001b[0m\u001b[1;33m)\u001b[0m\u001b[1;33m:\u001b[0m\u001b[1;33m\u001b[0m\u001b[1;33m\u001b[0m\u001b[0m\n\u001b[0;32m   1056\u001b[0m         \u001b[0mnrows\u001b[0m \u001b[1;33m=\u001b[0m \u001b[0mvalidate_integer\u001b[0m\u001b[1;33m(\u001b[0m\u001b[1;34m\"nrows\"\u001b[0m\u001b[1;33m,\u001b[0m \u001b[0mnrows\u001b[0m\u001b[1;33m)\u001b[0m\u001b[1;33m\u001b[0m\u001b[1;33m\u001b[0m\u001b[0m\n\u001b[1;32m-> 1057\u001b[1;33m         \u001b[0mindex\u001b[0m\u001b[1;33m,\u001b[0m \u001b[0mcolumns\u001b[0m\u001b[1;33m,\u001b[0m \u001b[0mcol_dict\u001b[0m \u001b[1;33m=\u001b[0m \u001b[0mself\u001b[0m\u001b[1;33m.\u001b[0m\u001b[0m_engine\u001b[0m\u001b[1;33m.\u001b[0m\u001b[0mread\u001b[0m\u001b[1;33m(\u001b[0m\u001b[0mnrows\u001b[0m\u001b[1;33m)\u001b[0m\u001b[1;33m\u001b[0m\u001b[1;33m\u001b[0m\u001b[0m\n\u001b[0m\u001b[0;32m   1058\u001b[0m \u001b[1;33m\u001b[0m\u001b[0m\n\u001b[0;32m   1059\u001b[0m         \u001b[1;32mif\u001b[0m \u001b[0mindex\u001b[0m \u001b[1;32mis\u001b[0m \u001b[1;32mNone\u001b[0m\u001b[1;33m:\u001b[0m\u001b[1;33m\u001b[0m\u001b[1;33m\u001b[0m\u001b[0m\n",
      "\u001b[1;32m~\\anaconda3\\lib\\site-packages\\pandas\\io\\parsers.py\u001b[0m in \u001b[0;36mread\u001b[1;34m(self, nrows)\u001b[0m\n\u001b[0;32m   2059\u001b[0m     \u001b[1;32mdef\u001b[0m \u001b[0mread\u001b[0m\u001b[1;33m(\u001b[0m\u001b[0mself\u001b[0m\u001b[1;33m,\u001b[0m \u001b[0mnrows\u001b[0m\u001b[1;33m=\u001b[0m\u001b[1;32mNone\u001b[0m\u001b[1;33m)\u001b[0m\u001b[1;33m:\u001b[0m\u001b[1;33m\u001b[0m\u001b[1;33m\u001b[0m\u001b[0m\n\u001b[0;32m   2060\u001b[0m         \u001b[1;32mtry\u001b[0m\u001b[1;33m:\u001b[0m\u001b[1;33m\u001b[0m\u001b[1;33m\u001b[0m\u001b[0m\n\u001b[1;32m-> 2061\u001b[1;33m             \u001b[0mdata\u001b[0m \u001b[1;33m=\u001b[0m \u001b[0mself\u001b[0m\u001b[1;33m.\u001b[0m\u001b[0m_reader\u001b[0m\u001b[1;33m.\u001b[0m\u001b[0mread\u001b[0m\u001b[1;33m(\u001b[0m\u001b[0mnrows\u001b[0m\u001b[1;33m)\u001b[0m\u001b[1;33m\u001b[0m\u001b[1;33m\u001b[0m\u001b[0m\n\u001b[0m\u001b[0;32m   2062\u001b[0m         \u001b[1;32mexcept\u001b[0m \u001b[0mStopIteration\u001b[0m\u001b[1;33m:\u001b[0m\u001b[1;33m\u001b[0m\u001b[1;33m\u001b[0m\u001b[0m\n\u001b[0;32m   2063\u001b[0m             \u001b[1;32mif\u001b[0m \u001b[0mself\u001b[0m\u001b[1;33m.\u001b[0m\u001b[0m_first_chunk\u001b[0m\u001b[1;33m:\u001b[0m\u001b[1;33m\u001b[0m\u001b[1;33m\u001b[0m\u001b[0m\n",
      "\u001b[1;32mpandas\\_libs\\parsers.pyx\u001b[0m in \u001b[0;36mpandas._libs.parsers.TextReader.read\u001b[1;34m()\u001b[0m\n",
      "\u001b[1;32mpandas\\_libs\\parsers.pyx\u001b[0m in \u001b[0;36mpandas._libs.parsers.TextReader._read_low_memory\u001b[1;34m()\u001b[0m\n",
      "\u001b[1;32mpandas\\_libs\\parsers.pyx\u001b[0m in \u001b[0;36mpandas._libs.parsers._concatenate_chunks\u001b[1;34m()\u001b[0m\n",
      "\u001b[1;32m<__array_function__ internals>\u001b[0m in \u001b[0;36mconcatenate\u001b[1;34m(*args, **kwargs)\u001b[0m\n",
      "\u001b[1;31mMemoryError\u001b[0m: Unable to allocate 69.0 MiB for an array with shape (9047405,) and data type int64"
     ]
    }
   ],
   "source": [
    "\n",
    "df_dt_login = df_game_mes.groupby('creation_date').sum().reset_index()"
   ]
  },
  {
   "cell_type": "code",
   "execution_count": null,
   "id": "24cc1943",
   "metadata": {},
   "outputs": [],
   "source": [
    "df_dt_cadastros = df_game_mes.groupby('creation_date').device_id.nunique().reset_index()\n",
    "df_games_final = pd.merge(df_dt_login ,df_dt_cadastros , how=\"left\", on=[\"creation_date\"])"
   ]
  },
  {
   "cell_type": "code",
   "execution_count": null,
   "id": "61b350f8",
   "metadata": {},
   "outputs": [],
   "source": []
  },
  {
   "cell_type": "code",
   "execution_count": 273,
   "id": "97fe2689",
   "metadata": {},
   "outputs": [
    {
     "data": {
      "image/png": "[encoded data removed]",
      "text/plain": [
       "<Figure size 1080x1080 with 2 Axes>"
      ]
     },
     "metadata": {
      "needs_background": "light"
     },
     "output_type": "display_data"
    }
   ],
   "source": [
    "corr = df_games_22_final.corr()\n",
    "f, ax = plt.subplots(figsize=(15, 15))\n",
    "ax = sns.heatmap(corr, \n",
    "            xticklabels=corr.columns.values,\n",
    "            yticklabels=corr.columns.values)"
   ]
  },
  {
   "cell_type": "code",
   "execution_count": 275,
   "id": "faa3fbbf",
   "metadata": {},
   "outputs": [
    {
     "data": {
      "image/png": "[encoded data removed]",
      "text/plain": [
       "<Figure size 432x288 with 1 Axes>"
      ]
     },
     "metadata": {
      "needs_background": "light"
     },
     "output_type": "display_data"
    }
   ],
   "source": [
    "data= df_games_22_final['device_id']\n",
    "qqplot(data, line='s')\n",
    "plt.show()"
   ]
  },
  {
   "cell_type": "code",
   "execution_count": null,
   "id": "859f452b",
   "metadata": {},
   "outputs": [],
   "source": []
  },
  {
   "cell_type": "code",
   "execution_count": null,
   "id": "f9f3b939",
   "metadata": {},
   "outputs": [],
   "source": []
  },
  {
   "cell_type": "code",
   "execution_count": null,
   "id": "c03ce397",
   "metadata": {},
   "outputs": [],
   "source": []
  },
  {
   "cell_type": "code",
   "execution_count": null,
   "id": "b4d3ccd1",
   "metadata": {},
   "outputs": [],
   "source": []
  }
 ],
 "metadata": {
  "kernelspec": {
   "display_name": "Python 3",
   "language": "python",
   "name": "python3"
  },
  "language_info": {
   "codemirror_mode": {
    "name": "ipython",
    "version": 3
   },
   "file_extension": ".py",
   "mimetype": "text/x-python",
   "name": "python",
   "nbconvert_exporter": "python",
   "pygments_lexer": "ipython3",
   "version": "3.8.8"
  }
 },
 "nbformat": 4,
 "nbformat_minor": 5
}
