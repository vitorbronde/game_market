{
 "cells": [
  {
   "cell_type": "code",
   "execution_count": 1,
   "id": "eb893ec9",
   "metadata": {},
   "outputs": [],
   "source": [
    "import pandas as pd\n",
    "import numpy as np\n",
    "import seaborn as sns\n",
    "import matplotlib.pyplot as plt\n",
    "import plotly.graph_objects as go\n",
    "import plotly.express as px"
   ]
  },
  {
   "cell_type": "code",
   "execution_count": 2,
   "id": "8d4e4996",
   "metadata": {},
   "outputs": [
    {
     "data": {
      "text/html": [
       "<div>\n",
       "<style scoped>\n",
       "    .dataframe tbody tr th:only-of-type {\n",
       "        vertical-align: middle;\n",
       "    }\n",
       "\n",
       "    .dataframe tbody tr th {\n",
       "        vertical-align: top;\n",
       "    }\n",
       "\n",
       "    .dataframe thead th {\n",
       "        text-align: right;\n",
       "    }\n",
       "</style>\n",
       "<table border=\"1\" class=\"dataframe\">\n",
       "  <thead>\n",
       "    <tr style=\"text-align: right;\">\n",
       "      <th></th>\n",
       "      <th>Unnamed: 0</th>\n",
       "      <th>device_id</th>\n",
       "      <th>event_date</th>\n",
       "      <th>creation_date</th>\n",
       "      <th>app</th>\n",
       "      <th>platform</th>\n",
       "      <th>partner</th>\n",
       "      <th>country</th>\n",
       "      <th>iap_purchases</th>\n",
       "      <th>iap_revenue</th>\n",
       "      <th>ads_revenue</th>\n",
       "      <th>ad_impressions</th>\n",
       "    </tr>\n",
       "  </thead>\n",
       "  <tbody>\n",
       "    <tr>\n",
       "      <th>0</th>\n",
       "      <td>1</td>\n",
       "      <td>484c0f6c716b62fbdd651b48448632c6</td>\n",
       "      <td>2022-01-05</td>\n",
       "      <td>2020-12-31</td>\n",
       "      <td>Football Simulator</td>\n",
       "      <td>android</td>\n",
       "      <td>Organic</td>\n",
       "      <td>Canada</td>\n",
       "      <td>1</td>\n",
       "      <td>4,18164547135849</td>\n",
       "      <td>0,00268264452</td>\n",
       "      <td>6</td>\n",
       "    </tr>\n",
       "    <tr>\n",
       "      <th>1</th>\n",
       "      <td>2</td>\n",
       "      <td>54a09dd2892b768a6ae566e0f4ee61e1</td>\n",
       "      <td>2022-05-29</td>\n",
       "      <td>2022-05-01</td>\n",
       "      <td>Football Simulator</td>\n",
       "      <td>android</td>\n",
       "      <td>Paid</td>\n",
       "      <td>Pakistan</td>\n",
       "      <td>1</td>\n",
       "      <td>2,35950024395138</td>\n",
       "      <td>0,0652680554058738</td>\n",
       "      <td>3</td>\n",
       "    </tr>\n",
       "    <tr>\n",
       "      <th>2</th>\n",
       "      <td>3</td>\n",
       "      <td>be59fd534f61e87e6c617fa50edde27e</td>\n",
       "      <td>2022-04-02</td>\n",
       "      <td>2022-03-30</td>\n",
       "      <td>Football Simulator</td>\n",
       "      <td>ios</td>\n",
       "      <td>Organic</td>\n",
       "      <td>United States</td>\n",
       "      <td>1</td>\n",
       "      <td>2,22307474997593</td>\n",
       "      <td>0,03285518396</td>\n",
       "      <td>28</td>\n",
       "    </tr>\n",
       "    <tr>\n",
       "      <th>3</th>\n",
       "      <td>4</td>\n",
       "      <td>af4830573c2ac1d4efc538d16d645b31</td>\n",
       "      <td>2022-03-25</td>\n",
       "      <td>2022-03-25</td>\n",
       "      <td>Football Simulator</td>\n",
       "      <td>android</td>\n",
       "      <td>Organic</td>\n",
       "      <td>Argentina</td>\n",
       "      <td>1</td>\n",
       "      <td>3,93345382196093</td>\n",
       "      <td>0,00025961076</td>\n",
       "      <td>7</td>\n",
       "    </tr>\n",
       "    <tr>\n",
       "      <th>4</th>\n",
       "      <td>5</td>\n",
       "      <td>13c70063c611c94b1f5051e4eba6f5c0</td>\n",
       "      <td>2022-03-24</td>\n",
       "      <td>2022-03-12</td>\n",
       "      <td>Football Simulator</td>\n",
       "      <td>android</td>\n",
       "      <td>Paid</td>\n",
       "      <td>United States</td>\n",
       "      <td>1</td>\n",
       "      <td>3,23837452336857</td>\n",
       "      <td>0,00066344972</td>\n",
       "      <td>4</td>\n",
       "    </tr>\n",
       "  </tbody>\n",
       "</table>\n",
       "</div>"
      ],
      "text/plain": [
       "   Unnamed: 0                         device_id  event_date creation_date  \\\n",
       "0           1  484c0f6c716b62fbdd651b48448632c6  2022-01-05    2020-12-31   \n",
       "1           2  54a09dd2892b768a6ae566e0f4ee61e1  2022-05-29    2022-05-01   \n",
       "2           3  be59fd534f61e87e6c617fa50edde27e  2022-04-02    2022-03-30   \n",
       "3           4  af4830573c2ac1d4efc538d16d645b31  2022-03-25    2022-03-25   \n",
       "4           5  13c70063c611c94b1f5051e4eba6f5c0  2022-03-24    2022-03-12   \n",
       "\n",
       "                  app platform  partner        country  iap_purchases  \\\n",
       "0  Football Simulator  android  Organic         Canada              1   \n",
       "1  Football Simulator  android     Paid       Pakistan              1   \n",
       "2  Football Simulator      ios  Organic  United States              1   \n",
       "3  Football Simulator  android  Organic      Argentina              1   \n",
       "4  Football Simulator  android     Paid  United States              1   \n",
       "\n",
       "        iap_revenue         ads_revenue  ad_impressions  \n",
       "0  4,18164547135849       0,00268264452               6  \n",
       "1  2,35950024395138  0,0652680554058738               3  \n",
       "2  2,22307474997593       0,03285518396              28  \n",
       "3  3,93345382196093       0,00025961076               7  \n",
       "4  3,23837452336857       0,00066344972               4  "
      ]
     },
     "execution_count": 2,
     "metadata": {},
     "output_type": "execute_result"
    }
   ],
   "source": [
    "df_game = pd.read_csv('dados_case_sr.csv', sep=';', error_bad_lines=False)\n",
    "df_game.head()"
   ]
  },
  {
   "cell_type": "markdown",
   "id": "745a3119",
   "metadata": {},
   "source": [
    "## Verificando a necessidade de ajustes na base"
   ]
  },
  {
   "cell_type": "markdown",
   "id": "80d2784a",
   "metadata": {},
   "source": [
    "#### Analisando o shape da base:"
   ]
  },
  {
   "cell_type": "code",
   "execution_count": 3,
   "id": "d2df6266",
   "metadata": {},
   "outputs": [
    {
     "name": "stdout",
     "output_type": "stream",
     "text": [
      "9067690 X 12\n"
     ]
    }
   ],
   "source": [
    "print(df_game.shape[0], 'X' , df_game.shape[1])"
   ]
  },
  {
   "cell_type": "code",
   "execution_count": 4,
   "id": "977003dc",
   "metadata": {},
   "outputs": [
    {
     "name": "stdout",
     "output_type": "stream",
     "text": [
      "<class 'pandas.core.frame.DataFrame'>\n",
      "RangeIndex: 9067690 entries, 0 to 9067689\n",
      "Data columns (total 12 columns):\n",
      " #   Column          Dtype \n",
      "---  ------          ----- \n",
      " 0   Unnamed: 0      int64 \n",
      " 1   device_id       object\n",
      " 2   event_date      object\n",
      " 3   creation_date   object\n",
      " 4   app             object\n",
      " 5   platform        object\n",
      " 6   partner         object\n",
      " 7   country         object\n",
      " 8   iap_purchases   int64 \n",
      " 9   iap_revenue     object\n",
      " 10  ads_revenue     object\n",
      " 11  ad_impressions  int64 \n",
      "dtypes: int64(3), object(9)\n",
      "memory usage: 830.2+ MB\n"
     ]
    }
   ],
   "source": [
    "df_game.info()"
   ]
  },
  {
   "cell_type": "markdown",
   "id": "ebb6646b",
   "metadata": {},
   "source": [
    "#### Ajustes necessarios:\n",
    "* deletar primeira coluna, ela na verdade é somente um index\n",
    "* **event_date** e **creation_date** tem que ser ajustada para datetime , autalmente está sendo tratada como object\n",
    "* **iap_revenue** e **ads_revenue** estão como object , tem que deixar como float. Será necessario mudar a pontuação usada\n",
    "* deixar o resto como string"
   ]
  },
  {
   "cell_type": "markdown",
   "id": "461fa8c7",
   "metadata": {},
   "source": [
    "### Verificando a existencia de duplicadas"
   ]
  },
  {
   "cell_type": "code",
   "execution_count": 5,
   "id": "2e361fc2",
   "metadata": {},
   "outputs": [
    {
     "data": {
      "text/plain": [
       "Unnamed: 0            0\n",
       "device_id             0\n",
       "event_date            0\n",
       "creation_date         0\n",
       "app                   0\n",
       "platform              0\n",
       "partner               0\n",
       "country           20285\n",
       "iap_purchases         0\n",
       "iap_revenue           0\n",
       "ads_revenue           0\n",
       "ad_impressions        0\n",
       "dtype: int64"
      ]
     },
     "execution_count": 5,
     "metadata": {},
     "output_type": "execute_result"
    }
   ],
   "source": [
    "df_game.isna().sum()"
   ]
  },
  {
   "cell_type": "code",
   "execution_count": 6,
   "id": "a1b33ddd",
   "metadata": {},
   "outputs": [
    {
     "name": "stdout",
     "output_type": "stream",
     "text": [
      "Unnamed: 0        0.000000\n",
      "device_id         0.000000\n",
      "event_date        0.000000\n",
      "creation_date     0.000000\n",
      "app               0.000000\n",
      "platform          0.000000\n",
      "partner           0.000000\n",
      "country           0.223706\n",
      "iap_purchases     0.000000\n",
      "iap_revenue       0.000000\n",
      "ads_revenue       0.000000\n",
      "ad_impressions    0.000000\n",
      "dtype: float64\n"
     ]
    }
   ],
   "source": [
    "dados_nulos = df_game.isna().sum()\n",
    "dados_totais = df_game.shape[0]\n",
    "percentual_de_zeros = (dados_nulos / dados_totais)*100\n",
    "print(percentual_de_zeros)"
   ]
  },
  {
   "cell_type": "markdown",
   "id": "2453763c",
   "metadata": {},
   "source": [
    "Apenas a feature **Country** possui dados faltosos. Eles representam apenas 0,22% do total, logo não deverá ter tanto impacto deleta-los"
   ]
  },
  {
   "cell_type": "markdown",
   "id": "9390f2e2",
   "metadata": {},
   "source": [
    "#### Realizando ajustes "
   ]
  },
  {
   "cell_type": "code",
   "execution_count": 7,
   "id": "a2b131b4",
   "metadata": {},
   "outputs": [],
   "source": [
    "# Deletar coluna de axis\n",
    "df_game = df_game.drop('Unnamed: 0' , axis=1)"
   ]
  },
  {
   "cell_type": "code",
   "execution_count": 8,
   "id": "d3f13213",
   "metadata": {},
   "outputs": [
    {
     "data": {
      "text/html": [
       "<div>\n",
       "<style scoped>\n",
       "    .dataframe tbody tr th:only-of-type {\n",
       "        vertical-align: middle;\n",
       "    }\n",
       "\n",
       "    .dataframe tbody tr th {\n",
       "        vertical-align: top;\n",
       "    }\n",
       "\n",
       "    .dataframe thead th {\n",
       "        text-align: right;\n",
       "    }\n",
       "</style>\n",
       "<table border=\"1\" class=\"dataframe\">\n",
       "  <thead>\n",
       "    <tr style=\"text-align: right;\">\n",
       "      <th></th>\n",
       "      <th>device_id</th>\n",
       "      <th>event_date</th>\n",
       "      <th>creation_date</th>\n",
       "      <th>app</th>\n",
       "      <th>platform</th>\n",
       "      <th>partner</th>\n",
       "      <th>country</th>\n",
       "      <th>iap_purchases</th>\n",
       "      <th>iap_revenue</th>\n",
       "      <th>ads_revenue</th>\n",
       "      <th>ad_impressions</th>\n",
       "    </tr>\n",
       "  </thead>\n",
       "  <tbody>\n",
       "    <tr>\n",
       "      <th>0</th>\n",
       "      <td>484c0f6c716b62fbdd651b48448632c6</td>\n",
       "      <td>2022-01-05</td>\n",
       "      <td>2020-12-31</td>\n",
       "      <td>Football Simulator</td>\n",
       "      <td>android</td>\n",
       "      <td>Organic</td>\n",
       "      <td>Canada</td>\n",
       "      <td>1</td>\n",
       "      <td>4,18164547135849</td>\n",
       "      <td>0,00268264452</td>\n",
       "      <td>6</td>\n",
       "    </tr>\n",
       "    <tr>\n",
       "      <th>1</th>\n",
       "      <td>54a09dd2892b768a6ae566e0f4ee61e1</td>\n",
       "      <td>2022-05-29</td>\n",
       "      <td>2022-05-01</td>\n",
       "      <td>Football Simulator</td>\n",
       "      <td>android</td>\n",
       "      <td>Paid</td>\n",
       "      <td>Pakistan</td>\n",
       "      <td>1</td>\n",
       "      <td>2,35950024395138</td>\n",
       "      <td>0,0652680554058738</td>\n",
       "      <td>3</td>\n",
       "    </tr>\n",
       "    <tr>\n",
       "      <th>2</th>\n",
       "      <td>be59fd534f61e87e6c617fa50edde27e</td>\n",
       "      <td>2022-04-02</td>\n",
       "      <td>2022-03-30</td>\n",
       "      <td>Football Simulator</td>\n",
       "      <td>ios</td>\n",
       "      <td>Organic</td>\n",
       "      <td>United States</td>\n",
       "      <td>1</td>\n",
       "      <td>2,22307474997593</td>\n",
       "      <td>0,03285518396</td>\n",
       "      <td>28</td>\n",
       "    </tr>\n",
       "    <tr>\n",
       "      <th>3</th>\n",
       "      <td>af4830573c2ac1d4efc538d16d645b31</td>\n",
       "      <td>2022-03-25</td>\n",
       "      <td>2022-03-25</td>\n",
       "      <td>Football Simulator</td>\n",
       "      <td>android</td>\n",
       "      <td>Organic</td>\n",
       "      <td>Argentina</td>\n",
       "      <td>1</td>\n",
       "      <td>3,93345382196093</td>\n",
       "      <td>0,00025961076</td>\n",
       "      <td>7</td>\n",
       "    </tr>\n",
       "    <tr>\n",
       "      <th>4</th>\n",
       "      <td>13c70063c611c94b1f5051e4eba6f5c0</td>\n",
       "      <td>2022-03-24</td>\n",
       "      <td>2022-03-12</td>\n",
       "      <td>Football Simulator</td>\n",
       "      <td>android</td>\n",
       "      <td>Paid</td>\n",
       "      <td>United States</td>\n",
       "      <td>1</td>\n",
       "      <td>3,23837452336857</td>\n",
       "      <td>0,00066344972</td>\n",
       "      <td>4</td>\n",
       "    </tr>\n",
       "  </tbody>\n",
       "</table>\n",
       "</div>"
      ],
      "text/plain": [
       "                          device_id  event_date creation_date  \\\n",
       "0  484c0f6c716b62fbdd651b48448632c6  2022-01-05    2020-12-31   \n",
       "1  54a09dd2892b768a6ae566e0f4ee61e1  2022-05-29    2022-05-01   \n",
       "2  be59fd534f61e87e6c617fa50edde27e  2022-04-02    2022-03-30   \n",
       "3  af4830573c2ac1d4efc538d16d645b31  2022-03-25    2022-03-25   \n",
       "4  13c70063c611c94b1f5051e4eba6f5c0  2022-03-24    2022-03-12   \n",
       "\n",
       "                  app platform  partner        country  iap_purchases  \\\n",
       "0  Football Simulator  android  Organic         Canada              1   \n",
       "1  Football Simulator  android     Paid       Pakistan              1   \n",
       "2  Football Simulator      ios  Organic  United States              1   \n",
       "3  Football Simulator  android  Organic      Argentina              1   \n",
       "4  Football Simulator  android     Paid  United States              1   \n",
       "\n",
       "        iap_revenue         ads_revenue  ad_impressions  \n",
       "0  4,18164547135849       0,00268264452               6  \n",
       "1  2,35950024395138  0,0652680554058738               3  \n",
       "2  2,22307474997593       0,03285518396              28  \n",
       "3  3,93345382196093       0,00025961076               7  \n",
       "4  3,23837452336857       0,00066344972               4  "
      ]
     },
     "execution_count": 8,
     "metadata": {},
     "output_type": "execute_result"
    }
   ],
   "source": [
    "df_game.head()"
   ]
  },
  {
   "cell_type": "code",
   "execution_count": 9,
   "id": "55748312",
   "metadata": {},
   "outputs": [],
   "source": [
    "# Arrumando colunas de data\n",
    "df_game['event_date'] = pd.to_datetime(df_game['event_date'])\n",
    "df_game['creation_date'] = pd.to_datetime(df_game['creation_date'])"
   ]
  },
  {
   "cell_type": "code",
   "execution_count": null,
   "id": "cb2528d3",
   "metadata": {},
   "outputs": [],
   "source": []
  },
  {
   "cell_type": "code",
   "execution_count": 10,
   "id": "4645caec",
   "metadata": {},
   "outputs": [],
   "source": [
    "# Arrumando as valores iap_revenue e ads_revenue para formato de valor\n",
    "df_game['iap_revenue'] = df_game['iap_revenue'].str.replace(',' , '.').astype(float)\n",
    "df_game['ads_revenue'] = df_game['ads_revenue'].str.replace (',' , '.').astype(float)\n"
   ]
  },
  {
   "cell_type": "code",
   "execution_count": 11,
   "id": "4b9d6bce",
   "metadata": {},
   "outputs": [
    {
     "data": {
      "text/plain": [
       "\"lista_edicoes=['app' , 'platform' , 'partner' , 'country']\\nfor n in lista_edicoes:\\n    df_game[n] = str(df_game[n])\""
      ]
     },
     "execution_count": 11,
     "metadata": {},
     "output_type": "execute_result"
    }
   ],
   "source": [
    "'''lista_edicoes=['app' , 'platform' , 'partner' , 'country']\n",
    "for n in lista_edicoes:\n",
    "    df_game[n] = str(df_game[n])'''"
   ]
  },
  {
   "cell_type": "code",
   "execution_count": 12,
   "id": "ea40ae07",
   "metadata": {},
   "outputs": [],
   "source": [
    "# deletando linhas com country vazio\n",
    "df_game.dropna(inplace = True)"
   ]
  },
  {
   "cell_type": "code",
   "execution_count": 13,
   "id": "e479672d",
   "metadata": {},
   "outputs": [
    {
     "data": {
      "text/html": [
       "<div>\n",
       "<style scoped>\n",
       "    .dataframe tbody tr th:only-of-type {\n",
       "        vertical-align: middle;\n",
       "    }\n",
       "\n",
       "    .dataframe tbody tr th {\n",
       "        vertical-align: top;\n",
       "    }\n",
       "\n",
       "    .dataframe thead th {\n",
       "        text-align: right;\n",
       "    }\n",
       "</style>\n",
       "<table border=\"1\" class=\"dataframe\">\n",
       "  <thead>\n",
       "    <tr style=\"text-align: right;\">\n",
       "      <th></th>\n",
       "      <th>device_id</th>\n",
       "      <th>event_date</th>\n",
       "      <th>creation_date</th>\n",
       "      <th>app</th>\n",
       "      <th>platform</th>\n",
       "      <th>partner</th>\n",
       "      <th>country</th>\n",
       "      <th>iap_purchases</th>\n",
       "      <th>iap_revenue</th>\n",
       "      <th>ads_revenue</th>\n",
       "      <th>ad_impressions</th>\n",
       "    </tr>\n",
       "  </thead>\n",
       "  <tbody>\n",
       "    <tr>\n",
       "      <th>0</th>\n",
       "      <td>484c0f6c716b62fbdd651b48448632c6</td>\n",
       "      <td>2022-01-05</td>\n",
       "      <td>2020-12-31</td>\n",
       "      <td>Football Simulator</td>\n",
       "      <td>android</td>\n",
       "      <td>Organic</td>\n",
       "      <td>Canada</td>\n",
       "      <td>1</td>\n",
       "      <td>4.181645</td>\n",
       "      <td>0.002683</td>\n",
       "      <td>6</td>\n",
       "    </tr>\n",
       "    <tr>\n",
       "      <th>1</th>\n",
       "      <td>54a09dd2892b768a6ae566e0f4ee61e1</td>\n",
       "      <td>2022-05-29</td>\n",
       "      <td>2022-05-01</td>\n",
       "      <td>Football Simulator</td>\n",
       "      <td>android</td>\n",
       "      <td>Paid</td>\n",
       "      <td>Pakistan</td>\n",
       "      <td>1</td>\n",
       "      <td>2.359500</td>\n",
       "      <td>0.065268</td>\n",
       "      <td>3</td>\n",
       "    </tr>\n",
       "    <tr>\n",
       "      <th>2</th>\n",
       "      <td>be59fd534f61e87e6c617fa50edde27e</td>\n",
       "      <td>2022-04-02</td>\n",
       "      <td>2022-03-30</td>\n",
       "      <td>Football Simulator</td>\n",
       "      <td>ios</td>\n",
       "      <td>Organic</td>\n",
       "      <td>United States</td>\n",
       "      <td>1</td>\n",
       "      <td>2.223075</td>\n",
       "      <td>0.032855</td>\n",
       "      <td>28</td>\n",
       "    </tr>\n",
       "    <tr>\n",
       "      <th>3</th>\n",
       "      <td>af4830573c2ac1d4efc538d16d645b31</td>\n",
       "      <td>2022-03-25</td>\n",
       "      <td>2022-03-25</td>\n",
       "      <td>Football Simulator</td>\n",
       "      <td>android</td>\n",
       "      <td>Organic</td>\n",
       "      <td>Argentina</td>\n",
       "      <td>1</td>\n",
       "      <td>3.933454</td>\n",
       "      <td>0.000260</td>\n",
       "      <td>7</td>\n",
       "    </tr>\n",
       "    <tr>\n",
       "      <th>4</th>\n",
       "      <td>13c70063c611c94b1f5051e4eba6f5c0</td>\n",
       "      <td>2022-03-24</td>\n",
       "      <td>2022-03-12</td>\n",
       "      <td>Football Simulator</td>\n",
       "      <td>android</td>\n",
       "      <td>Paid</td>\n",
       "      <td>United States</td>\n",
       "      <td>1</td>\n",
       "      <td>3.238375</td>\n",
       "      <td>0.000663</td>\n",
       "      <td>4</td>\n",
       "    </tr>\n",
       "  </tbody>\n",
       "</table>\n",
       "</div>"
      ],
      "text/plain": [
       "                          device_id event_date creation_date  \\\n",
       "0  484c0f6c716b62fbdd651b48448632c6 2022-01-05    2020-12-31   \n",
       "1  54a09dd2892b768a6ae566e0f4ee61e1 2022-05-29    2022-05-01   \n",
       "2  be59fd534f61e87e6c617fa50edde27e 2022-04-02    2022-03-30   \n",
       "3  af4830573c2ac1d4efc538d16d645b31 2022-03-25    2022-03-25   \n",
       "4  13c70063c611c94b1f5051e4eba6f5c0 2022-03-24    2022-03-12   \n",
       "\n",
       "                  app platform  partner        country  iap_purchases  \\\n",
       "0  Football Simulator  android  Organic         Canada              1   \n",
       "1  Football Simulator  android     Paid       Pakistan              1   \n",
       "2  Football Simulator      ios  Organic  United States              1   \n",
       "3  Football Simulator  android  Organic      Argentina              1   \n",
       "4  Football Simulator  android     Paid  United States              1   \n",
       "\n",
       "   iap_revenue  ads_revenue  ad_impressions  \n",
       "0     4.181645     0.002683               6  \n",
       "1     2.359500     0.065268               3  \n",
       "2     2.223075     0.032855              28  \n",
       "3     3.933454     0.000260               7  \n",
       "4     3.238375     0.000663               4  "
      ]
     },
     "execution_count": 13,
     "metadata": {},
     "output_type": "execute_result"
    }
   ],
   "source": [
    "df_game.head()"
   ]
  },
  {
   "cell_type": "code",
   "execution_count": 14,
   "id": "2029542e",
   "metadata": {},
   "outputs": [],
   "source": [
    "df_game_2022 = df_game.loc[df_game['creation_date']>= '2022-01-01']"
   ]
  },
  {
   "cell_type": "markdown",
   "id": "4ca1f969",
   "metadata": {},
   "source": [
    "## Analisando os dados"
   ]
  },
  {
   "cell_type": "markdown",
   "id": "795cb0b9",
   "metadata": {},
   "source": [
    "## 1) Plataforma"
   ]
  },
  {
   "cell_type": "markdown",
   "id": "c465a1ff",
   "metadata": {},
   "source": [
    "#### Número de jogadores"
   ]
  },
  {
   "cell_type": "code",
   "execution_count": 15,
   "id": "7bf0e021",
   "metadata": {},
   "outputs": [
    {
     "data": {
      "text/plain": [
       "android    0.725771\n",
       "ios        0.274199\n",
       "amazon     0.000030\n",
       "Name: platform, dtype: float64"
      ]
     },
     "execution_count": 15,
     "metadata": {},
     "output_type": "execute_result"
    }
   ],
   "source": [
    "df_plat = df_game_2022['platform'].value_counts() / df_game_2022.shape[0]\n",
    "df_plat"
   ]
  },
  {
   "cell_type": "code",
   "execution_count": 16,
   "id": "593a9b73",
   "metadata": {},
   "outputs": [
    {
     "data": {
      "text/plain": [
       "platform\n",
       "amazon         224\n",
       "android    5347430\n",
       "ios        2020278\n",
       "Name: device_id, dtype: int64"
      ]
     },
     "execution_count": 16,
     "metadata": {},
     "output_type": "execute_result"
    }
   ],
   "source": [
    "df_plat2 = df_game_2022.groupby('platform').device_id.count()\n",
    "df_plat2"
   ]
  },
  {
   "cell_type": "markdown",
   "id": "8b44da31",
   "metadata": {},
   "source": [
    "Conclusão : Android é a sistema operacional com mais dowloads, cerca de 72,7% (5 Mi devices) , seguido por IOS 27,2% (1.9 Mi devices). Amazon quase não é relevante (213 devices)"
   ]
  },
  {
   "cell_type": "markdown",
   "id": "8bea3086",
   "metadata": {},
   "source": [
    "#### Número de compras"
   ]
  },
  {
   "cell_type": "code",
   "execution_count": 17,
   "id": "e8e22519",
   "metadata": {},
   "outputs": [
    {
     "data": {
      "text/plain": [
       "platform\n",
       "amazon         224\n",
       "android    5419986\n",
       "ios        2055518\n",
       "Name: iap_purchases, dtype: int64"
      ]
     },
     "execution_count": 17,
     "metadata": {},
     "output_type": "execute_result"
    }
   ],
   "source": [
    "df_plat_compras = df_game_2022.groupby('platform').iap_purchases.sum()\n",
    "df_plat_compras"
   ]
  },
  {
   "cell_type": "markdown",
   "id": "2cb337e0",
   "metadata": {},
   "source": [
    "Conclusão : Android é a sistema operacional onde os jogadores mais realizaram compras, cerca de 5.3 Mi de compras."
   ]
  },
  {
   "cell_type": "markdown",
   "id": "4f567bfb",
   "metadata": {},
   "source": [
    "#### Plataforma com maior revenue"
   ]
  },
  {
   "cell_type": "code",
   "execution_count": 18,
   "id": "2cf749b6",
   "metadata": {},
   "outputs": [
    {
     "name": "stderr",
     "output_type": "stream",
     "text": [
      "<ipython-input-18-eb6f24340110>:1: SettingWithCopyWarning: \n",
      "A value is trying to be set on a copy of a slice from a DataFrame.\n",
      "Try using .loc[row_indexer,col_indexer] = value instead\n",
      "\n",
      "See the caveats in the documentation: https://pandas.pydata.org/pandas-docs/stable/user_guide/indexing.html#returning-a-view-versus-a-copy\n",
      "  df_game_2022['revenue_total'] = df_game_2022['iap_revenue'] + df_game_2022['ads_revenue']\n"
     ]
    }
   ],
   "source": [
    "df_game_2022['revenue_total'] = df_game_2022['iap_revenue'] + df_game_2022['ads_revenue']"
   ]
  },
  {
   "cell_type": "code",
   "execution_count": 19,
   "id": "662476b1",
   "metadata": {},
   "outputs": [
    {
     "data": {
      "text/plain": [
       "668.85"
      ]
     },
     "execution_count": 19,
     "metadata": {},
     "output_type": "execute_result"
    }
   ],
   "source": [
    "round(df_game_2022.loc[df_game_2022['platform'] == 'amazon'].revenue_total.sum() ,2)"
   ]
  },
  {
   "cell_type": "code",
   "execution_count": 20,
   "id": "e6e758e0",
   "metadata": {},
   "outputs": [
    {
     "data": {
      "text/plain": [
       "15906425.92"
      ]
     },
     "execution_count": 20,
     "metadata": {},
     "output_type": "execute_result"
    }
   ],
   "source": [
    "round(df_game_2022.loc[df_game_2022['platform'] == 'android'].revenue_total.sum(),2)"
   ]
  },
  {
   "cell_type": "code",
   "execution_count": 21,
   "id": "80e5ce88",
   "metadata": {},
   "outputs": [
    {
     "data": {
      "text/plain": [
       "6043605.83"
      ]
     },
     "execution_count": 21,
     "metadata": {},
     "output_type": "execute_result"
    }
   ],
   "source": [
    "round(df_game_2022.loc[df_game_2022['platform'] == 'ios'].revenue_total.sum(),2)"
   ]
  },
  {
   "cell_type": "markdown",
   "id": "3eb2d51d",
   "metadata": {},
   "source": [
    "Conclusão : Android é a sistema operacional que trouxe mais revenue , cerca de BRL 15 Mi , IOS trouxe BRL 5.8 Mi"
   ]
  },
  {
   "cell_type": "markdown",
   "id": "778bb62d",
   "metadata": {},
   "source": [
    "#### Retorno médio do jogador por plataforma"
   ]
  },
  {
   "cell_type": "code",
   "execution_count": 22,
   "id": "42d59296",
   "metadata": {},
   "outputs": [
    {
     "data": {
      "text/plain": [
       "2.9745926398288525"
      ]
     },
     "execution_count": 22,
     "metadata": {},
     "output_type": "execute_result"
    }
   ],
   "source": [
    "round(df_game_2022.loc[df_game_2022['platform'] == 'android'].revenue_total.sum(),2) / df_game_2022.loc[df_game_2022['platform'] == 'android'].device_id.count()"
   ]
  },
  {
   "cell_type": "code",
   "execution_count": 23,
   "id": "8fb69962",
   "metadata": {},
   "outputs": [
    {
     "data": {
      "text/plain": [
       "2.9914723765739173"
      ]
     },
     "execution_count": 23,
     "metadata": {},
     "output_type": "execute_result"
    }
   ],
   "source": [
    "round(df_game_2022.loc[df_game_2022['platform'] == 'ios'].revenue_total.sum(),2) / df_game_2022.loc[df_game_2022['platform'] == 'ios'].device_id.count()"
   ]
  },
  {
   "cell_type": "markdown",
   "id": "9c5570d1",
   "metadata": {},
   "source": [
    "Conclusão : o ganho médio com IOS é levente maior que com Android"
   ]
  },
  {
   "cell_type": "markdown",
   "id": "eaaf2605",
   "metadata": {},
   "source": [
    "#### Ticket médio do jogador"
   ]
  },
  {
   "cell_type": "code",
   "execution_count": 24,
   "id": "bf715199",
   "metadata": {},
   "outputs": [
    {
     "data": {
      "text/plain": [
       "1.01356838705696"
      ]
     },
     "execution_count": 24,
     "metadata": {},
     "output_type": "execute_result"
    }
   ],
   "source": [
    "round(df_game_2022.loc[df_game_2022['platform'] == 'android'].iap_purchases.sum(),2) / df_game_2022.loc[df_game_2022['platform'] == 'android'].device_id.count()"
   ]
  },
  {
   "cell_type": "code",
   "execution_count": 25,
   "id": "c6b159f8",
   "metadata": {},
   "outputs": [
    {
     "data": {
      "text/plain": [
       "1.0174431439633556"
      ]
     },
     "execution_count": 25,
     "metadata": {},
     "output_type": "execute_result"
    }
   ],
   "source": [
    "round(df_game_2022.loc[df_game_2022['platform'] == 'ios'].iap_purchases.sum(),2) / df_game_2022.loc[df_game_2022['platform'] == 'ios'].device_id.count()"
   ]
  },
  {
   "cell_type": "code",
   "execution_count": 26,
   "id": "900514c8",
   "metadata": {},
   "outputs": [
    {
     "data": {
      "text/plain": [
       "1.0"
      ]
     },
     "execution_count": 26,
     "metadata": {},
     "output_type": "execute_result"
    }
   ],
   "source": [
    "round(df_game_2022.loc[df_game_2022['platform'] == 'amazon'].iap_purchases.sum(),2) / df_game_2022.loc[df_game_2022['platform'] == 'amazon'].device_id.count()"
   ]
  },
  {
   "cell_type": "markdown",
   "id": "29b033d1",
   "metadata": {},
   "source": [
    "Conclusão : o ticket médio dé praticamente o mesmo independente da plataforma "
   ]
  },
  {
   "cell_type": "markdown",
   "id": "3035b3c1",
   "metadata": {},
   "source": [
    "#### Impressoes de anuncio por jogador em cada plataforma"
   ]
  },
  {
   "cell_type": "code",
   "execution_count": 27,
   "id": "8f6c590e",
   "metadata": {},
   "outputs": [
    {
     "data": {
      "text/plain": [
       "13.333372292858439"
      ]
     },
     "execution_count": 27,
     "metadata": {},
     "output_type": "execute_result"
    }
   ],
   "source": [
    "round(df_game_2022.loc[df_game_2022['platform'] == 'android'].ad_impressions.sum(),2) / df_game_2022.loc[df_game_2022['platform'] == 'android'].device_id.count()"
   ]
  },
  {
   "cell_type": "code",
   "execution_count": 28,
   "id": "d304fc48",
   "metadata": {},
   "outputs": [
    {
     "data": {
      "text/plain": [
       "10.64888545041821"
      ]
     },
     "execution_count": 28,
     "metadata": {},
     "output_type": "execute_result"
    }
   ],
   "source": [
    "round(df_game_2022.loc[df_game_2022['platform'] == 'ios'].ad_impressions.sum(),2) / df_game_2022.loc[df_game_2022['platform'] == 'ios'].device_id.count()"
   ]
  },
  {
   "cell_type": "code",
   "execution_count": 29,
   "id": "905f225d",
   "metadata": {},
   "outputs": [
    {
     "data": {
      "text/plain": [
       "3.0"
      ]
     },
     "execution_count": 29,
     "metadata": {},
     "output_type": "execute_result"
    }
   ],
   "source": [
    "round(df_game_2022.loc[df_game_2022['platform'] == 'amazon'].ad_impressions.sum(),2) / df_game_2022.loc[df_game_2022['platform'] == 'amazon'].device_id.count()"
   ]
  },
  {
   "cell_type": "markdown",
   "id": "695f6d4d",
   "metadata": {},
   "source": [
    "Conclusão : Jogadores que utilziam como plataforma o android são mais impactados por anuncios"
   ]
  },
  {
   "cell_type": "code",
   "execution_count": 30,
   "id": "e2884516",
   "metadata": {},
   "outputs": [],
   "source": [
    "# quem fica mais tempo jogando ?"
   ]
  },
  {
   "cell_type": "markdown",
   "id": "df8fed56",
   "metadata": {},
   "source": [
    "## 2) Country "
   ]
  },
  {
   "cell_type": "markdown",
   "id": "36e53b80",
   "metadata": {},
   "source": [
    "#### País com maior número de dowloads"
   ]
  },
  {
   "cell_type": "code",
   "execution_count": 31,
   "id": "cc5472fd",
   "metadata": {},
   "outputs": [
    {
     "data": {
      "text/html": [
       "<div>\n",
       "<style scoped>\n",
       "    .dataframe tbody tr th:only-of-type {\n",
       "        vertical-align: middle;\n",
       "    }\n",
       "\n",
       "    .dataframe tbody tr th {\n",
       "        vertical-align: top;\n",
       "    }\n",
       "\n",
       "    .dataframe thead th {\n",
       "        text-align: right;\n",
       "    }\n",
       "</style>\n",
       "<table border=\"1\" class=\"dataframe\">\n",
       "  <thead>\n",
       "    <tr style=\"text-align: right;\">\n",
       "      <th></th>\n",
       "      <th>country</th>\n",
       "      <th>device_id</th>\n",
       "    </tr>\n",
       "  </thead>\n",
       "  <tbody>\n",
       "    <tr>\n",
       "      <th>221</th>\n",
       "      <td>United States</td>\n",
       "      <td>1564465</td>\n",
       "    </tr>\n",
       "    <tr>\n",
       "      <th>29</th>\n",
       "      <td>Brazil</td>\n",
       "      <td>609061</td>\n",
       "    </tr>\n",
       "    <tr>\n",
       "      <th>96</th>\n",
       "      <td>India</td>\n",
       "      <td>483780</td>\n",
       "    </tr>\n",
       "    <tr>\n",
       "      <th>78</th>\n",
       "      <td>Germany</td>\n",
       "      <td>455712</td>\n",
       "    </tr>\n",
       "    <tr>\n",
       "      <th>220</th>\n",
       "      <td>United Kingdom</td>\n",
       "      <td>358499</td>\n",
       "    </tr>\n",
       "    <tr>\n",
       "      <th>...</th>\n",
       "      <td>...</td>\n",
       "      <td>...</td>\n",
       "    </tr>\n",
       "    <tr>\n",
       "      <th>65</th>\n",
       "      <td>Eritrea</td>\n",
       "      <td>4</td>\n",
       "    </tr>\n",
       "    <tr>\n",
       "      <th>178</th>\n",
       "      <td>Saint-Barthélemy</td>\n",
       "      <td>3</td>\n",
       "    </tr>\n",
       "    <tr>\n",
       "      <th>190</th>\n",
       "      <td>Solomon Islands</td>\n",
       "      <td>2</td>\n",
       "    </tr>\n",
       "    <tr>\n",
       "      <th>110</th>\n",
       "      <td>Kiribati</td>\n",
       "      <td>2</td>\n",
       "    </tr>\n",
       "    <tr>\n",
       "      <th>141</th>\n",
       "      <td>Montserrat</td>\n",
       "      <td>2</td>\n",
       "    </tr>\n",
       "  </tbody>\n",
       "</table>\n",
       "<p>230 rows × 2 columns</p>\n",
       "</div>"
      ],
      "text/plain": [
       "              country  device_id\n",
       "221     United States    1564465\n",
       "29             Brazil     609061\n",
       "96              India     483780\n",
       "78            Germany     455712\n",
       "220    United Kingdom     358499\n",
       "..                ...        ...\n",
       "65            Eritrea          4\n",
       "178  Saint-Barthélemy          3\n",
       "190   Solomon Islands          2\n",
       "110          Kiribati          2\n",
       "141        Montserrat          2\n",
       "\n",
       "[230 rows x 2 columns]"
      ]
     },
     "execution_count": 31,
     "metadata": {},
     "output_type": "execute_result"
    }
   ],
   "source": [
    "df_pais_jogadores = df_game_2022.groupby('country').device_id.count()\n",
    "df_pais_jogadores = pd.DataFrame(df_pais_jogadores).reset_index() \n",
    "df_pais_jogadores = df_pais_jogadores.sort_values(\"device_id\" , ascending=False)\n",
    "df_pais_jogadores"
   ]
  },
  {
   "cell_type": "markdown",
   "id": "30406eff",
   "metadata": {},
   "source": [
    "Conclusão: EUA lideram em número de downloads, estando a mais que o dobro do segundo colocado, o Brasil"
   ]
  },
  {
   "cell_type": "code",
   "execution_count": 32,
   "id": "40c16fb1",
   "metadata": {},
   "outputs": [
    {
     "data": {
      "text/html": [
       "<div>\n",
       "<style scoped>\n",
       "    .dataframe tbody tr th:only-of-type {\n",
       "        vertical-align: middle;\n",
       "    }\n",
       "\n",
       "    .dataframe tbody tr th {\n",
       "        vertical-align: top;\n",
       "    }\n",
       "\n",
       "    .dataframe thead th {\n",
       "        text-align: right;\n",
       "    }\n",
       "</style>\n",
       "<table border=\"1\" class=\"dataframe\">\n",
       "  <thead>\n",
       "    <tr style=\"text-align: right;\">\n",
       "      <th></th>\n",
       "      <th>country</th>\n",
       "      <th>revenue_total</th>\n",
       "    </tr>\n",
       "  </thead>\n",
       "  <tbody>\n",
       "    <tr>\n",
       "      <th>221</th>\n",
       "      <td>United States</td>\n",
       "      <td>4.751085e+06</td>\n",
       "    </tr>\n",
       "    <tr>\n",
       "      <th>29</th>\n",
       "      <td>Brazil</td>\n",
       "      <td>1.787848e+06</td>\n",
       "    </tr>\n",
       "    <tr>\n",
       "      <th>96</th>\n",
       "      <td>India</td>\n",
       "      <td>1.419299e+06</td>\n",
       "    </tr>\n",
       "    <tr>\n",
       "      <th>78</th>\n",
       "      <td>Germany</td>\n",
       "      <td>1.365076e+06</td>\n",
       "    </tr>\n",
       "    <tr>\n",
       "      <th>220</th>\n",
       "      <td>United Kingdom</td>\n",
       "      <td>1.070884e+06</td>\n",
       "    </tr>\n",
       "    <tr>\n",
       "      <th>...</th>\n",
       "      <td>...</td>\n",
       "      <td>...</td>\n",
       "    </tr>\n",
       "    <tr>\n",
       "      <th>65</th>\n",
       "      <td>Eritrea</td>\n",
       "      <td>8.427658e+00</td>\n",
       "    </tr>\n",
       "    <tr>\n",
       "      <th>178</th>\n",
       "      <td>Saint-Barthélemy</td>\n",
       "      <td>7.583479e+00</td>\n",
       "    </tr>\n",
       "    <tr>\n",
       "      <th>110</th>\n",
       "      <td>Kiribati</td>\n",
       "      <td>5.324944e+00</td>\n",
       "    </tr>\n",
       "    <tr>\n",
       "      <th>190</th>\n",
       "      <td>Solomon Islands</td>\n",
       "      <td>4.197952e+00</td>\n",
       "    </tr>\n",
       "    <tr>\n",
       "      <th>141</th>\n",
       "      <td>Montserrat</td>\n",
       "      <td>4.050735e+00</td>\n",
       "    </tr>\n",
       "  </tbody>\n",
       "</table>\n",
       "<p>230 rows × 2 columns</p>\n",
       "</div>"
      ],
      "text/plain": [
       "              country  revenue_total\n",
       "221     United States   4.751085e+06\n",
       "29             Brazil   1.787848e+06\n",
       "96              India   1.419299e+06\n",
       "78            Germany   1.365076e+06\n",
       "220    United Kingdom   1.070884e+06\n",
       "..                ...            ...\n",
       "65            Eritrea   8.427658e+00\n",
       "178  Saint-Barthélemy   7.583479e+00\n",
       "110          Kiribati   5.324944e+00\n",
       "190   Solomon Islands   4.197952e+00\n",
       "141        Montserrat   4.050735e+00\n",
       "\n",
       "[230 rows x 2 columns]"
      ]
     },
     "execution_count": 32,
     "metadata": {},
     "output_type": "execute_result"
    }
   ],
   "source": [
    "df_pais_valor = df_game_2022.groupby('country').revenue_total.sum()\n",
    "df_pais_valor = pd.DataFrame(df_pais_valor).reset_index() \n",
    "df_pais_valor = df_pais_valor.sort_values(\"revenue_total\" , ascending=False)\n",
    "df_pais_valor"
   ]
  },
  {
   "cell_type": "markdown",
   "id": "03e1993c",
   "metadata": {},
   "source": [
    "Conclusão: EUA lideram em revenue"
   ]
  },
  {
   "cell_type": "markdown",
   "id": "aa2dcb30",
   "metadata": {},
   "source": [
    "## 3)Partner"
   ]
  },
  {
   "cell_type": "markdown",
   "id": "affd2d6f",
   "metadata": {},
   "source": [
    "#### Qual partner trouxe mais jogadores ?"
   ]
  },
  {
   "cell_type": "code",
   "execution_count": 33,
   "id": "bc7475a6",
   "metadata": {},
   "outputs": [
    {
     "data": {
      "text/plain": [
       "Paid       0.571598\n",
       "Organic    0.428402\n",
       "Name: partner, dtype: float64"
      ]
     },
     "execution_count": 33,
     "metadata": {},
     "output_type": "execute_result"
    }
   ],
   "source": [
    "df_partner = df_game_2022['partner'].value_counts() / df_game_2022.shape[0]\n",
    "df_partner"
   ]
  },
  {
   "cell_type": "markdown",
   "id": "b4cafe6c",
   "metadata": {},
   "source": [
    "Conclusão: Há mais jogadores de origem paga"
   ]
  },
  {
   "cell_type": "markdown",
   "id": "9d40bc61",
   "metadata": {},
   "source": [
    "#### Qual partner traz mais revenue ?"
   ]
  },
  {
   "cell_type": "code",
   "execution_count": 34,
   "id": "ec674f77",
   "metadata": {},
   "outputs": [
    {
     "data": {
      "text/plain": [
       "12553804.26"
      ]
     },
     "execution_count": 34,
     "metadata": {},
     "output_type": "execute_result"
    }
   ],
   "source": [
    "round(df_game_2022.loc[df_game_2022['partner'] == 'Paid'].revenue_total.sum(),2)"
   ]
  },
  {
   "cell_type": "code",
   "execution_count": 35,
   "id": "bde28189",
   "metadata": {},
   "outputs": [
    {
     "data": {
      "text/plain": [
       "9396896.34"
      ]
     },
     "execution_count": 35,
     "metadata": {},
     "output_type": "execute_result"
    }
   ],
   "source": [
    "round(df_game_2022.loc[df_game_2022['partner'] == 'Organic'].revenue_total.sum(),2)"
   ]
  },
  {
   "cell_type": "markdown",
   "id": "fe141e2a",
   "metadata": {},
   "source": [
    "Conclusão : Jogadores que vieram via user acquisitio gastam mais"
   ]
  },
  {
   "cell_type": "markdown",
   "id": "a68c8133",
   "metadata": {},
   "source": [
    "#### Qual retorno médio por jogador trazido por cada partner?"
   ]
  },
  {
   "cell_type": "code",
   "execution_count": 36,
   "id": "5072896e",
   "metadata": {},
   "outputs": [
    {
     "data": {
      "text/plain": [
       "2.980844147194356"
      ]
     },
     "execution_count": 36,
     "metadata": {},
     "output_type": "execute_result"
    }
   ],
   "source": [
    "round(df_game_2022.loc[df_game_2022['partner'] == 'Paid'].revenue_total.sum(),2) / df_game_2022.loc[df_game_2022['partner'] == 'Paid'].device_id.count()"
   ]
  },
  {
   "cell_type": "code",
   "execution_count": 37,
   "id": "fd4bac41",
   "metadata": {},
   "outputs": [
    {
     "data": {
      "text/plain": [
       "2.9770562142971873"
      ]
     },
     "execution_count": 37,
     "metadata": {},
     "output_type": "execute_result"
    }
   ],
   "source": [
    "round(df_game_2022.loc[df_game_2022['partner'] == 'Organic'].revenue_total.sum(),2) / df_game_2022.loc[df_game_2022['partner'] == 'Organic'].device_id.count()"
   ]
  },
  {
   "cell_type": "markdown",
   "id": "07c80a2c",
   "metadata": {},
   "source": [
    "Conclusão : O retorno médio por jogador é praticamente igual, idependente da origem dele"
   ]
  },
  {
   "cell_type": "code",
   "execution_count": null,
   "id": "fe0bd1c0",
   "metadata": {},
   "outputs": [],
   "source": []
  },
  {
   "cell_type": "code",
   "execution_count": 38,
   "id": "ad60300a",
   "metadata": {},
   "outputs": [],
   "source": [
    "# com dummies para categoricas\n",
    "df_game = pd.get_dummies(df_game , columns=['platform' , 'partner' , 'country'])"
   ]
  },
  {
   "cell_type": "code",
   "execution_count": 39,
   "id": "55619396",
   "metadata": {},
   "outputs": [],
   "source": [
    "'''\n",
    "# deixar no formato mes\n",
    "df_game['event_date'] = pd.to_datetime(df_game['event_date'],format=\"%Y-%m-%D\")\n",
    "df_game['event_date'] = [i.strftime('%Y-%m') for i in df_game['event_date']]\n",
    "df_game['creation_date'] = pd.to_datetime(df_game['creation_date'],format=\"%Y-%m-%D\")\n",
    "df_game['creation_date'] = [i.strftime('%Y-%m') for i in df_game['creation_date']]\n",
    "'''"
   ]
  },
  {
   "cell_type": "code",
   "execution_count": 41,
   "id": "fdcb8355",
   "metadata": {},
   "outputs": [],
   "source": [
    "#df_game_mes = df_game"
   ]
  },
  {
   "cell_type": "code",
   "execution_count": 42,
   "id": "85de7836",
   "metadata": {},
   "outputs": [],
   "source": [
    "#df_game_mes.to_csv('game_mes.csv', index=False)"
   ]
  },
  {
   "cell_type": "code",
   "execution_count": 44,
   "id": "abe65904",
   "metadata": {},
   "outputs": [],
   "source": [
    "#df_game_mes22 = df_game_mes.loc[df_game_mes['creation_date']>= '2022-01']"
   ]
  },
  {
   "cell_type": "code",
   "execution_count": 40,
   "id": "927d142b",
   "metadata": {},
   "outputs": [],
   "source": [
    "# agrupar por data de primeiro login\n",
    "#df_dt_login = df_game_.groupby('creation_date').sum()\n",
    "#df_dt_login"
   ]
  },
  {
   "cell_type": "code",
   "execution_count": 45,
   "id": "1742bbea",
   "metadata": {},
   "outputs": [],
   "source": [
    "#df_game_mes22.to_csv('game_mes22.csv', index=False)"
   ]
  },
  {
   "cell_type": "code",
   "execution_count": null,
   "id": "9c034b03",
   "metadata": {},
   "outputs": [],
   "source": []
  },
  {
   "cell_type": "code",
   "execution_count": null,
   "id": "8a1cc1a6",
   "metadata": {},
   "outputs": [],
   "source": []
  },
  {
   "cell_type": "code",
   "execution_count": null,
   "id": "787f9c5f",
   "metadata": {},
   "outputs": [],
   "source": []
  }
 ],
 "metadata": {
  "kernelspec": {
   "display_name": "Python 3",
   "language": "python",
   "name": "python3"
  },
  "language_info": {
   "codemirror_mode": {
    "name": "ipython",
    "version": 3
   },
   "file_extension": ".py",
   "mimetype": "text/x-python",
   "name": "python",
   "nbconvert_exporter": "python",
   "pygments_lexer": "ipython3",
   "version": "3.8.8"
  }
 },
 "nbformat": 4,
 "nbformat_minor": 5
}
