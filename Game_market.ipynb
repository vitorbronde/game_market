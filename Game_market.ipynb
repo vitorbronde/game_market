{
 "cells": [
  {
   "cell_type": "code",
   "execution_count": 131,
   "id": "eb893ec9",
   "metadata": {},
   "outputs": [],
   "source": [
    "import pandas as pd\n",
    "import numpy as np\n",
    "import seaborn as sns\n",
    "import matplotlib.pyplot as plt\n",
    "from matplotlib.ticker import PercentFormatter\n",
    "import plotly.graph_objects as go\n",
    "import plotly.express as px"
   ]
  },
  {
   "cell_type": "code",
   "execution_count": 199,
   "id": "8d4e4996",
   "metadata": {},
   "outputs": [
    {
     "data": {
      "text/html": [
       "<div>\n",
       "<style scoped>\n",
       "    .dataframe tbody tr th:only-of-type {\n",
       "        vertical-align: middle;\n",
       "    }\n",
       "\n",
       "    .dataframe tbody tr th {\n",
       "        vertical-align: top;\n",
       "    }\n",
       "\n",
       "    .dataframe thead th {\n",
       "        text-align: right;\n",
       "    }\n",
       "</style>\n",
       "<table border=\"1\" class=\"dataframe\">\n",
       "  <thead>\n",
       "    <tr style=\"text-align: right;\">\n",
       "      <th></th>\n",
       "      <th>Unnamed: 0</th>\n",
       "      <th>device_id</th>\n",
       "      <th>event_date</th>\n",
       "      <th>creation_date</th>\n",
       "      <th>app</th>\n",
       "      <th>platform</th>\n",
       "      <th>partner</th>\n",
       "      <th>country</th>\n",
       "      <th>iap_purchases</th>\n",
       "      <th>iap_revenue</th>\n",
       "      <th>ads_revenue</th>\n",
       "      <th>ad_impressions</th>\n",
       "    </tr>\n",
       "  </thead>\n",
       "  <tbody>\n",
       "    <tr>\n",
       "      <th>0</th>\n",
       "      <td>1</td>\n",
       "      <td>484c0f6c716b62fbdd651b48448632c6</td>\n",
       "      <td>2022-01-05</td>\n",
       "      <td>2020-12-31</td>\n",
       "      <td>Football Simulator</td>\n",
       "      <td>android</td>\n",
       "      <td>Organic</td>\n",
       "      <td>Canada</td>\n",
       "      <td>1</td>\n",
       "      <td>4,18164547135849</td>\n",
       "      <td>0,00268264452</td>\n",
       "      <td>6</td>\n",
       "    </tr>\n",
       "    <tr>\n",
       "      <th>1</th>\n",
       "      <td>2</td>\n",
       "      <td>54a09dd2892b768a6ae566e0f4ee61e1</td>\n",
       "      <td>2022-05-29</td>\n",
       "      <td>2022-05-01</td>\n",
       "      <td>Football Simulator</td>\n",
       "      <td>android</td>\n",
       "      <td>Paid</td>\n",
       "      <td>Pakistan</td>\n",
       "      <td>1</td>\n",
       "      <td>2,35950024395138</td>\n",
       "      <td>0,0652680554058738</td>\n",
       "      <td>3</td>\n",
       "    </tr>\n",
       "    <tr>\n",
       "      <th>2</th>\n",
       "      <td>3</td>\n",
       "      <td>be59fd534f61e87e6c617fa50edde27e</td>\n",
       "      <td>2022-04-02</td>\n",
       "      <td>2022-03-30</td>\n",
       "      <td>Football Simulator</td>\n",
       "      <td>ios</td>\n",
       "      <td>Organic</td>\n",
       "      <td>United States</td>\n",
       "      <td>1</td>\n",
       "      <td>2,22307474997593</td>\n",
       "      <td>0,03285518396</td>\n",
       "      <td>28</td>\n",
       "    </tr>\n",
       "    <tr>\n",
       "      <th>3</th>\n",
       "      <td>4</td>\n",
       "      <td>af4830573c2ac1d4efc538d16d645b31</td>\n",
       "      <td>2022-03-25</td>\n",
       "      <td>2022-03-25</td>\n",
       "      <td>Football Simulator</td>\n",
       "      <td>android</td>\n",
       "      <td>Organic</td>\n",
       "      <td>Argentina</td>\n",
       "      <td>1</td>\n",
       "      <td>3,93345382196093</td>\n",
       "      <td>0,00025961076</td>\n",
       "      <td>7</td>\n",
       "    </tr>\n",
       "    <tr>\n",
       "      <th>4</th>\n",
       "      <td>5</td>\n",
       "      <td>13c70063c611c94b1f5051e4eba6f5c0</td>\n",
       "      <td>2022-03-24</td>\n",
       "      <td>2022-03-12</td>\n",
       "      <td>Football Simulator</td>\n",
       "      <td>android</td>\n",
       "      <td>Paid</td>\n",
       "      <td>United States</td>\n",
       "      <td>1</td>\n",
       "      <td>3,23837452336857</td>\n",
       "      <td>0,00066344972</td>\n",
       "      <td>4</td>\n",
       "    </tr>\n",
       "  </tbody>\n",
       "</table>\n",
       "</div>"
      ],
      "text/plain": [
       "   Unnamed: 0                         device_id  event_date creation_date  \\\n",
       "0           1  484c0f6c716b62fbdd651b48448632c6  2022-01-05    2020-12-31   \n",
       "1           2  54a09dd2892b768a6ae566e0f4ee61e1  2022-05-29    2022-05-01   \n",
       "2           3  be59fd534f61e87e6c617fa50edde27e  2022-04-02    2022-03-30   \n",
       "3           4  af4830573c2ac1d4efc538d16d645b31  2022-03-25    2022-03-25   \n",
       "4           5  13c70063c611c94b1f5051e4eba6f5c0  2022-03-24    2022-03-12   \n",
       "\n",
       "                  app platform  partner        country  iap_purchases  \\\n",
       "0  Football Simulator  android  Organic         Canada              1   \n",
       "1  Football Simulator  android     Paid       Pakistan              1   \n",
       "2  Football Simulator      ios  Organic  United States              1   \n",
       "3  Football Simulator  android  Organic      Argentina              1   \n",
       "4  Football Simulator  android     Paid  United States              1   \n",
       "\n",
       "        iap_revenue         ads_revenue  ad_impressions  \n",
       "0  4,18164547135849       0,00268264452               6  \n",
       "1  2,35950024395138  0,0652680554058738               3  \n",
       "2  2,22307474997593       0,03285518396              28  \n",
       "3  3,93345382196093       0,00025961076               7  \n",
       "4  3,23837452336857       0,00066344972               4  "
      ]
     },
     "execution_count": 199,
     "metadata": {},
     "output_type": "execute_result"
    }
   ],
   "source": [
    "df_game = pd.read_csv('dados_case_sr.csv', sep=';', error_bad_lines=False)\n",
    "df_game.head()"
   ]
  },
  {
   "cell_type": "markdown",
   "id": "745a3119",
   "metadata": {},
   "source": [
    "## Verificando a necessidade de ajustes na base"
   ]
  },
  {
   "cell_type": "markdown",
   "id": "80d2784a",
   "metadata": {},
   "source": [
    "#### Analisando o shape da base:"
   ]
  },
  {
   "cell_type": "code",
   "execution_count": 202,
   "id": "d2df6266",
   "metadata": {},
   "outputs": [
    {
     "name": "stdout",
     "output_type": "stream",
     "text": [
      "9067690 X 12\n"
     ]
    }
   ],
   "source": [
    "print(df_game.shape[0], 'X' , df_game.shape[1])"
   ]
  },
  {
   "cell_type": "code",
   "execution_count": 203,
   "id": "977003dc",
   "metadata": {},
   "outputs": [
    {
     "name": "stdout",
     "output_type": "stream",
     "text": [
      "<class 'pandas.core.frame.DataFrame'>\n",
      "RangeIndex: 9067690 entries, 0 to 9067689\n",
      "Data columns (total 12 columns):\n",
      " #   Column          Dtype \n",
      "---  ------          ----- \n",
      " 0   Unnamed: 0      int64 \n",
      " 1   device_id       object\n",
      " 2   event_date      object\n",
      " 3   creation_date   object\n",
      " 4   app             object\n",
      " 5   platform        object\n",
      " 6   partner         object\n",
      " 7   country         object\n",
      " 8   iap_purchases   int64 \n",
      " 9   iap_revenue     object\n",
      " 10  ads_revenue     object\n",
      " 11  ad_impressions  int64 \n",
      "dtypes: int64(3), object(9)\n",
      "memory usage: 830.2+ MB\n"
     ]
    }
   ],
   "source": [
    "df_game.info()"
   ]
  },
  {
   "cell_type": "markdown",
   "id": "ebb6646b",
   "metadata": {},
   "source": [
    "#### Ajustes necessarios:\n",
    "* deletar primeira coluna, ela na verdade é somente um index\n",
    "* **event_date** e **creation_date** tem que ser ajustada para datetime , autalmente está sendo tratada como object\n",
    "* **iap_revenue** e **ads_revenue** estão como object , tem que deixar como float. Será necessario mudar a pontuação usada\n",
    "* deixar o resto como string"
   ]
  },
  {
   "cell_type": "markdown",
   "id": "461fa8c7",
   "metadata": {},
   "source": [
    "### Verificando a existencia de duplicadas"
   ]
  },
  {
   "cell_type": "code",
   "execution_count": 204,
   "id": "2e361fc2",
   "metadata": {},
   "outputs": [
    {
     "data": {
      "text/plain": [
       "Unnamed: 0            0\n",
       "device_id             0\n",
       "event_date            0\n",
       "creation_date         0\n",
       "app                   0\n",
       "platform              0\n",
       "partner               0\n",
       "country           20285\n",
       "iap_purchases         0\n",
       "iap_revenue           0\n",
       "ads_revenue           0\n",
       "ad_impressions        0\n",
       "dtype: int64"
      ]
     },
     "execution_count": 204,
     "metadata": {},
     "output_type": "execute_result"
    }
   ],
   "source": [
    "df_game.isna().sum()"
   ]
  },
  {
   "cell_type": "code",
   "execution_count": 205,
   "id": "a1b33ddd",
   "metadata": {},
   "outputs": [
    {
     "name": "stdout",
     "output_type": "stream",
     "text": [
      "Unnamed: 0        0.000000\n",
      "device_id         0.000000\n",
      "event_date        0.000000\n",
      "creation_date     0.000000\n",
      "app               0.000000\n",
      "platform          0.000000\n",
      "partner           0.000000\n",
      "country           0.223706\n",
      "iap_purchases     0.000000\n",
      "iap_revenue       0.000000\n",
      "ads_revenue       0.000000\n",
      "ad_impressions    0.000000\n",
      "dtype: float64\n"
     ]
    }
   ],
   "source": [
    "dados_nulos = df_game.isna().sum()\n",
    "dados_totais = df_game.shape[0]\n",
    "percentual_de_zeros = (dados_nulos / dados_totais)*100\n",
    "print(percentual_de_zeros)"
   ]
  },
  {
   "cell_type": "markdown",
   "id": "2453763c",
   "metadata": {},
   "source": [
    "Apenas a feature **Country** possui dados faltosos. Eles representam apenas 0,22% do total, logo não deverá ter tanto impacto deleta-los"
   ]
  },
  {
   "cell_type": "markdown",
   "id": "9390f2e2",
   "metadata": {},
   "source": [
    "#### Realizando ajustes "
   ]
  },
  {
   "cell_type": "code",
   "execution_count": 206,
   "id": "a2b131b4",
   "metadata": {},
   "outputs": [],
   "source": [
    "# Deletar coluna de axis\n",
    "df_game = df_game.drop('Unnamed: 0' , axis=1)"
   ]
  },
  {
   "cell_type": "code",
   "execution_count": 207,
   "id": "d3f13213",
   "metadata": {},
   "outputs": [
    {
     "data": {
      "text/html": [
       "<div>\n",
       "<style scoped>\n",
       "    .dataframe tbody tr th:only-of-type {\n",
       "        vertical-align: middle;\n",
       "    }\n",
       "\n",
       "    .dataframe tbody tr th {\n",
       "        vertical-align: top;\n",
       "    }\n",
       "\n",
       "    .dataframe thead th {\n",
       "        text-align: right;\n",
       "    }\n",
       "</style>\n",
       "<table border=\"1\" class=\"dataframe\">\n",
       "  <thead>\n",
       "    <tr style=\"text-align: right;\">\n",
       "      <th></th>\n",
       "      <th>device_id</th>\n",
       "      <th>event_date</th>\n",
       "      <th>creation_date</th>\n",
       "      <th>app</th>\n",
       "      <th>platform</th>\n",
       "      <th>partner</th>\n",
       "      <th>country</th>\n",
       "      <th>iap_purchases</th>\n",
       "      <th>iap_revenue</th>\n",
       "      <th>ads_revenue</th>\n",
       "      <th>ad_impressions</th>\n",
       "    </tr>\n",
       "  </thead>\n",
       "  <tbody>\n",
       "    <tr>\n",
       "      <th>0</th>\n",
       "      <td>484c0f6c716b62fbdd651b48448632c6</td>\n",
       "      <td>2022-01-05</td>\n",
       "      <td>2020-12-31</td>\n",
       "      <td>Football Simulator</td>\n",
       "      <td>android</td>\n",
       "      <td>Organic</td>\n",
       "      <td>Canada</td>\n",
       "      <td>1</td>\n",
       "      <td>4,18164547135849</td>\n",
       "      <td>0,00268264452</td>\n",
       "      <td>6</td>\n",
       "    </tr>\n",
       "    <tr>\n",
       "      <th>1</th>\n",
       "      <td>54a09dd2892b768a6ae566e0f4ee61e1</td>\n",
       "      <td>2022-05-29</td>\n",
       "      <td>2022-05-01</td>\n",
       "      <td>Football Simulator</td>\n",
       "      <td>android</td>\n",
       "      <td>Paid</td>\n",
       "      <td>Pakistan</td>\n",
       "      <td>1</td>\n",
       "      <td>2,35950024395138</td>\n",
       "      <td>0,0652680554058738</td>\n",
       "      <td>3</td>\n",
       "    </tr>\n",
       "    <tr>\n",
       "      <th>2</th>\n",
       "      <td>be59fd534f61e87e6c617fa50edde27e</td>\n",
       "      <td>2022-04-02</td>\n",
       "      <td>2022-03-30</td>\n",
       "      <td>Football Simulator</td>\n",
       "      <td>ios</td>\n",
       "      <td>Organic</td>\n",
       "      <td>United States</td>\n",
       "      <td>1</td>\n",
       "      <td>2,22307474997593</td>\n",
       "      <td>0,03285518396</td>\n",
       "      <td>28</td>\n",
       "    </tr>\n",
       "    <tr>\n",
       "      <th>3</th>\n",
       "      <td>af4830573c2ac1d4efc538d16d645b31</td>\n",
       "      <td>2022-03-25</td>\n",
       "      <td>2022-03-25</td>\n",
       "      <td>Football Simulator</td>\n",
       "      <td>android</td>\n",
       "      <td>Organic</td>\n",
       "      <td>Argentina</td>\n",
       "      <td>1</td>\n",
       "      <td>3,93345382196093</td>\n",
       "      <td>0,00025961076</td>\n",
       "      <td>7</td>\n",
       "    </tr>\n",
       "    <tr>\n",
       "      <th>4</th>\n",
       "      <td>13c70063c611c94b1f5051e4eba6f5c0</td>\n",
       "      <td>2022-03-24</td>\n",
       "      <td>2022-03-12</td>\n",
       "      <td>Football Simulator</td>\n",
       "      <td>android</td>\n",
       "      <td>Paid</td>\n",
       "      <td>United States</td>\n",
       "      <td>1</td>\n",
       "      <td>3,23837452336857</td>\n",
       "      <td>0,00066344972</td>\n",
       "      <td>4</td>\n",
       "    </tr>\n",
       "  </tbody>\n",
       "</table>\n",
       "</div>"
      ],
      "text/plain": [
       "                          device_id  event_date creation_date  \\\n",
       "0  484c0f6c716b62fbdd651b48448632c6  2022-01-05    2020-12-31   \n",
       "1  54a09dd2892b768a6ae566e0f4ee61e1  2022-05-29    2022-05-01   \n",
       "2  be59fd534f61e87e6c617fa50edde27e  2022-04-02    2022-03-30   \n",
       "3  af4830573c2ac1d4efc538d16d645b31  2022-03-25    2022-03-25   \n",
       "4  13c70063c611c94b1f5051e4eba6f5c0  2022-03-24    2022-03-12   \n",
       "\n",
       "                  app platform  partner        country  iap_purchases  \\\n",
       "0  Football Simulator  android  Organic         Canada              1   \n",
       "1  Football Simulator  android     Paid       Pakistan              1   \n",
       "2  Football Simulator      ios  Organic  United States              1   \n",
       "3  Football Simulator  android  Organic      Argentina              1   \n",
       "4  Football Simulator  android     Paid  United States              1   \n",
       "\n",
       "        iap_revenue         ads_revenue  ad_impressions  \n",
       "0  4,18164547135849       0,00268264452               6  \n",
       "1  2,35950024395138  0,0652680554058738               3  \n",
       "2  2,22307474997593       0,03285518396              28  \n",
       "3  3,93345382196093       0,00025961076               7  \n",
       "4  3,23837452336857       0,00066344972               4  "
      ]
     },
     "execution_count": 207,
     "metadata": {},
     "output_type": "execute_result"
    }
   ],
   "source": [
    "df_game.head()"
   ]
  },
  {
   "cell_type": "code",
   "execution_count": 208,
   "id": "55748312",
   "metadata": {},
   "outputs": [],
   "source": [
    "# Arrumando colunas de data\n",
    "df_game['event_date'] = pd.to_datetime(df_game['event_date'])\n",
    "df_game['creation_date'] = pd.to_datetime(df_game['creation_date'])"
   ]
  },
  {
   "cell_type": "code",
   "execution_count": null,
   "id": "cb2528d3",
   "metadata": {},
   "outputs": [],
   "source": []
  },
  {
   "cell_type": "code",
   "execution_count": 209,
   "id": "4645caec",
   "metadata": {},
   "outputs": [],
   "source": [
    "# Arrumando as valores iap_revenue e ads_revenue para formato de valor\n",
    "df_game['iap_revenue'] = df_game['iap_revenue'].str.replace(',' , '.').astype(float)\n",
    "df_game['ads_revenue'] = df_game['ads_revenue'].str.replace (',' , '.').astype(float)\n"
   ]
  },
  {
   "cell_type": "code",
   "execution_count": 210,
   "id": "ea40ae07",
   "metadata": {},
   "outputs": [],
   "source": [
    "# deletando linhas com country vazio\n",
    "df_game.dropna(inplace = True)"
   ]
  },
  {
   "cell_type": "code",
   "execution_count": 211,
   "id": "ba16aad9",
   "metadata": {},
   "outputs": [],
   "source": [
    "df_game['revenue_total'] = df_game['iap_revenue'] + df_game['ads_revenue']"
   ]
  },
  {
   "cell_type": "code",
   "execution_count": null,
   "id": "3d4338f7",
   "metadata": {},
   "outputs": [],
   "source": []
  },
  {
   "cell_type": "markdown",
   "id": "1f741473",
   "metadata": {},
   "source": [
    "#### Filtrando os paises com pouca participação ( usaremos pareto para filtrar)"
   ]
  },
  {
   "cell_type": "code",
   "execution_count": 212,
   "id": "79848195",
   "metadata": {},
   "outputs": [
    {
     "data": {
      "text/html": [
       "<div>\n",
       "<style scoped>\n",
       "    .dataframe tbody tr th:only-of-type {\n",
       "        vertical-align: middle;\n",
       "    }\n",
       "\n",
       "    .dataframe tbody tr th {\n",
       "        vertical-align: top;\n",
       "    }\n",
       "\n",
       "    .dataframe thead th {\n",
       "        text-align: right;\n",
       "    }\n",
       "</style>\n",
       "<table border=\"1\" class=\"dataframe\">\n",
       "  <thead>\n",
       "    <tr style=\"text-align: right;\">\n",
       "      <th></th>\n",
       "      <th>country</th>\n",
       "      <th>device_id</th>\n",
       "    </tr>\n",
       "  </thead>\n",
       "  <tbody>\n",
       "    <tr>\n",
       "      <th>223</th>\n",
       "      <td>United States</td>\n",
       "      <td>1986595</td>\n",
       "    </tr>\n",
       "    <tr>\n",
       "      <th>29</th>\n",
       "      <td>Brazil</td>\n",
       "      <td>697561</td>\n",
       "    </tr>\n",
       "    <tr>\n",
       "      <th>78</th>\n",
       "      <td>Germany</td>\n",
       "      <td>606476</td>\n",
       "    </tr>\n",
       "    <tr>\n",
       "      <th>96</th>\n",
       "      <td>India</td>\n",
       "      <td>526984</td>\n",
       "    </tr>\n",
       "    <tr>\n",
       "      <th>222</th>\n",
       "      <td>United Kingdom</td>\n",
       "      <td>490789</td>\n",
       "    </tr>\n",
       "    <tr>\n",
       "      <th>...</th>\n",
       "      <td>...</td>\n",
       "      <td>...</td>\n",
       "    </tr>\n",
       "    <tr>\n",
       "      <th>192</th>\n",
       "      <td>Solomon Islands</td>\n",
       "      <td>3</td>\n",
       "    </tr>\n",
       "    <tr>\n",
       "      <th>141</th>\n",
       "      <td>Montserrat</td>\n",
       "      <td>2</td>\n",
       "    </tr>\n",
       "    <tr>\n",
       "      <th>110</th>\n",
       "      <td>Kiribati</td>\n",
       "      <td>2</td>\n",
       "    </tr>\n",
       "    <tr>\n",
       "      <th>174</th>\n",
       "      <td>Saint Helena</td>\n",
       "      <td>2</td>\n",
       "    </tr>\n",
       "    <tr>\n",
       "      <th>229</th>\n",
       "      <td>Wallis and Futuna</td>\n",
       "      <td>1</td>\n",
       "    </tr>\n",
       "  </tbody>\n",
       "</table>\n",
       "<p>233 rows × 2 columns</p>\n",
       "</div>"
      ],
      "text/plain": [
       "               country  device_id\n",
       "223      United States    1986595\n",
       "29              Brazil     697561\n",
       "78             Germany     606476\n",
       "96               India     526984\n",
       "222     United Kingdom     490789\n",
       "..                 ...        ...\n",
       "192    Solomon Islands          3\n",
       "141         Montserrat          2\n",
       "110           Kiribati          2\n",
       "174       Saint Helena          2\n",
       "229  Wallis and Futuna          1\n",
       "\n",
       "[233 rows x 2 columns]"
      ]
     },
     "execution_count": 212,
     "metadata": {},
     "output_type": "execute_result"
    }
   ],
   "source": [
    "df_pais_jogadores = df_game.groupby('country').device_id.count()\n",
    "df_pais_jogadores = pd.DataFrame(df_pais_jogadores).reset_index() \n",
    "df_pais_jogadores = df_pais_jogadores.sort_values(\"device_id\" , ascending=False)\n",
    "df_pais_jogadores"
   ]
  },
  {
   "cell_type": "code",
   "execution_count": 213,
   "id": "89d1f565",
   "metadata": {},
   "outputs": [],
   "source": [
    "df_pais_jogadores['percent_acumulada'] = df_pais_jogadores['device_id'].cumsum() / df_pais_jogadores['device_id'].sum() *100"
   ]
  },
  {
   "cell_type": "code",
   "execution_count": 214,
   "id": "ce4a0583",
   "metadata": {},
   "outputs": [],
   "source": [
    "ajustar_paises = df_pais_jogadores.loc[df_pais_jogadores['percent_acumulada']>=81]\n",
    "ajustar_paises = ajustar_paises['country'].tolist()"
   ]
  },
  {
   "cell_type": "markdown",
   "id": "9947740f",
   "metadata": {},
   "source": [
    "##### Ajustando na base base geral"
   ]
  },
  {
   "cell_type": "code",
   "execution_count": 215,
   "id": "e06fa29c",
   "metadata": {},
   "outputs": [],
   "source": [
    "for n in df_game['country']:\n",
    "    if n in ajustar_paises:\n",
    "        df_game['country'] = df_game['country'].replace(n, 'outros')"
   ]
  },
  {
   "cell_type": "markdown",
   "id": "a9d4fe12",
   "metadata": {},
   "source": [
    "##### Criando a base de 2022 "
   ]
  },
  {
   "cell_type": "code",
   "execution_count": 217,
   "id": "fefa081f",
   "metadata": {},
   "outputs": [],
   "source": [
    "df_game_2022 = df_game.loc[df_game['creation_date']>= '2022-01-01']"
   ]
  },
  {
   "cell_type": "markdown",
   "id": "4ca1f969",
   "metadata": {},
   "source": [
    "## Analisando os dados"
   ]
  },
  {
   "cell_type": "markdown",
   "id": "795cb0b9",
   "metadata": {},
   "source": [
    "## 1) Plataforma"
   ]
  },
  {
   "cell_type": "markdown",
   "id": "c465a1ff",
   "metadata": {},
   "source": [
    "#### Número de jogadores"
   ]
  },
  {
   "cell_type": "code",
   "execution_count": 220,
   "id": "7bf0e021",
   "metadata": {},
   "outputs": [
    {
     "data": {
      "text/plain": [
       "android    0.725771\n",
       "ios        0.274199\n",
       "amazon     0.000030\n",
       "Name: platform, dtype: float64"
      ]
     },
     "execution_count": 220,
     "metadata": {},
     "output_type": "execute_result"
    }
   ],
   "source": [
    "df_plat = df_game_2022['platform'].value_counts() / df_game_2022.shape[0]\n",
    "df_plat"
   ]
  },
  {
   "cell_type": "code",
   "execution_count": 221,
   "id": "593a9b73",
   "metadata": {},
   "outputs": [
    {
     "data": {
      "text/plain": [
       "platform\n",
       "amazon         224\n",
       "android    5347430\n",
       "ios        2020278\n",
       "Name: device_id, dtype: int64"
      ]
     },
     "execution_count": 221,
     "metadata": {},
     "output_type": "execute_result"
    }
   ],
   "source": [
    "df_plat2 = df_game_2022.groupby('platform').device_id.count()\n",
    "df_plat2"
   ]
  },
  {
   "cell_type": "markdown",
   "id": "8b44da31",
   "metadata": {},
   "source": [
    "Conclusão : Android é a sistema operacional com mais dowloads, cerca de 72% (5 Mi devices) , seguido por IOS 27% (2 Mi devices). Amazon quase não é relevante (213 devices)"
   ]
  },
  {
   "cell_type": "markdown",
   "id": "8bea3086",
   "metadata": {},
   "source": [
    "#### Número de compras"
   ]
  },
  {
   "cell_type": "code",
   "execution_count": 223,
   "id": "e8e22519",
   "metadata": {},
   "outputs": [
    {
     "data": {
      "text/plain": [
       "platform\n",
       "amazon         224\n",
       "android    5419986\n",
       "ios        2055518\n",
       "Name: iap_purchases, dtype: int64"
      ]
     },
     "execution_count": 223,
     "metadata": {},
     "output_type": "execute_result"
    }
   ],
   "source": [
    "df_plat_compras = df_game_2022.groupby('platform').iap_purchases.sum()\n",
    "df_plat_compras"
   ]
  },
  {
   "cell_type": "markdown",
   "id": "2cb337e0",
   "metadata": {},
   "source": [
    "Conclusão : Android é a sistema operacional onde os jogadores mais realizaram compras, cerca de 5.4 Mi de compras."
   ]
  },
  {
   "cell_type": "markdown",
   "id": "4f567bfb",
   "metadata": {},
   "source": [
    "#### Plataforma com maior revenue"
   ]
  },
  {
   "cell_type": "code",
   "execution_count": 224,
   "id": "662476b1",
   "metadata": {},
   "outputs": [
    {
     "data": {
      "text/plain": [
       "668.85"
      ]
     },
     "execution_count": 224,
     "metadata": {},
     "output_type": "execute_result"
    }
   ],
   "source": [
    "round(df_game_2022.loc[df_game_2022['platform'] == 'amazon'].revenue_total.sum() ,2)"
   ]
  },
  {
   "cell_type": "code",
   "execution_count": 225,
   "id": "e6e758e0",
   "metadata": {},
   "outputs": [
    {
     "data": {
      "text/plain": [
       "15906425.92"
      ]
     },
     "execution_count": 225,
     "metadata": {},
     "output_type": "execute_result"
    }
   ],
   "source": [
    "round(df_game_2022.loc[df_game_2022['platform'] == 'android'].revenue_total.sum(),2)"
   ]
  },
  {
   "cell_type": "code",
   "execution_count": 226,
   "id": "80e5ce88",
   "metadata": {},
   "outputs": [
    {
     "data": {
      "text/plain": [
       "6043605.83"
      ]
     },
     "execution_count": 226,
     "metadata": {},
     "output_type": "execute_result"
    }
   ],
   "source": [
    "round(df_game_2022.loc[df_game_2022['platform'] == 'ios'].revenue_total.sum(),2)"
   ]
  },
  {
   "cell_type": "markdown",
   "id": "3eb2d51d",
   "metadata": {},
   "source": [
    "Conclusão : Android é a sistema operacional que trouxe mais revenue , cerca de BRL 15.9 Mi , IOS trouxe BRL 6 Mi"
   ]
  },
  {
   "cell_type": "markdown",
   "id": "778bb62d",
   "metadata": {},
   "source": [
    "#### Retorno médio do jogador por plataforma"
   ]
  },
  {
   "cell_type": "code",
   "execution_count": 227,
   "id": "42d59296",
   "metadata": {},
   "outputs": [
    {
     "data": {
      "text/plain": [
       "2.9745926398288525"
      ]
     },
     "execution_count": 227,
     "metadata": {},
     "output_type": "execute_result"
    }
   ],
   "source": [
    "round(df_game_2022.loc[df_game_2022['platform'] == 'android'].revenue_total.sum(),2) / df_game_2022.loc[df_game_2022['platform'] == 'android'].device_id.count()"
   ]
  },
  {
   "cell_type": "code",
   "execution_count": 228,
   "id": "8fb69962",
   "metadata": {},
   "outputs": [
    {
     "data": {
      "text/plain": [
       "2.9914723765739173"
      ]
     },
     "execution_count": 228,
     "metadata": {},
     "output_type": "execute_result"
    }
   ],
   "source": [
    "round(df_game_2022.loc[df_game_2022['platform'] == 'ios'].revenue_total.sum(),2) / df_game_2022.loc[df_game_2022['platform'] == 'ios'].device_id.count()"
   ]
  },
  {
   "cell_type": "markdown",
   "id": "9c5570d1",
   "metadata": {},
   "source": [
    "Conclusão : o ganho médio com IOS é levente maior que com Android"
   ]
  },
  {
   "cell_type": "markdown",
   "id": "eaaf2605",
   "metadata": {},
   "source": [
    "#### Ticket médio do jogador"
   ]
  },
  {
   "cell_type": "code",
   "execution_count": 229,
   "id": "bf715199",
   "metadata": {},
   "outputs": [
    {
     "data": {
      "text/plain": [
       "1.01356838705696"
      ]
     },
     "execution_count": 229,
     "metadata": {},
     "output_type": "execute_result"
    }
   ],
   "source": [
    "round(df_game_2022.loc[df_game_2022['platform'] == 'android'].iap_purchases.sum(),2) / df_game_2022.loc[df_game_2022['platform'] == 'android'].device_id.count()"
   ]
  },
  {
   "cell_type": "code",
   "execution_count": 230,
   "id": "c6b159f8",
   "metadata": {},
   "outputs": [
    {
     "data": {
      "text/plain": [
       "1.0174431439633556"
      ]
     },
     "execution_count": 230,
     "metadata": {},
     "output_type": "execute_result"
    }
   ],
   "source": [
    "round(df_game_2022.loc[df_game_2022['platform'] == 'ios'].iap_purchases.sum(),2) / df_game_2022.loc[df_game_2022['platform'] == 'ios'].device_id.count()"
   ]
  },
  {
   "cell_type": "code",
   "execution_count": 231,
   "id": "900514c8",
   "metadata": {},
   "outputs": [
    {
     "data": {
      "text/plain": [
       "1.0"
      ]
     },
     "execution_count": 231,
     "metadata": {},
     "output_type": "execute_result"
    }
   ],
   "source": [
    "round(df_game_2022.loc[df_game_2022['platform'] == 'amazon'].iap_purchases.sum(),2) / df_game_2022.loc[df_game_2022['platform'] == 'amazon'].device_id.count()"
   ]
  },
  {
   "cell_type": "markdown",
   "id": "29b033d1",
   "metadata": {},
   "source": [
    "Conclusão : o ticket médio dé praticamente o mesmo independente da plataforma "
   ]
  },
  {
   "cell_type": "markdown",
   "id": "3035b3c1",
   "metadata": {},
   "source": [
    "#### Impressoes de anuncio por jogador em cada plataforma"
   ]
  },
  {
   "cell_type": "code",
   "execution_count": 232,
   "id": "8f6c590e",
   "metadata": {},
   "outputs": [
    {
     "data": {
      "text/plain": [
       "13.333372292858439"
      ]
     },
     "execution_count": 232,
     "metadata": {},
     "output_type": "execute_result"
    }
   ],
   "source": [
    "round(df_game_2022.loc[df_game_2022['platform'] == 'android'].ad_impressions.sum(),2) / df_game_2022.loc[df_game_2022['platform'] == 'android'].device_id.count()"
   ]
  },
  {
   "cell_type": "code",
   "execution_count": 233,
   "id": "d304fc48",
   "metadata": {},
   "outputs": [
    {
     "data": {
      "text/plain": [
       "10.64888545041821"
      ]
     },
     "execution_count": 233,
     "metadata": {},
     "output_type": "execute_result"
    }
   ],
   "source": [
    "round(df_game_2022.loc[df_game_2022['platform'] == 'ios'].ad_impressions.sum(),2) / df_game_2022.loc[df_game_2022['platform'] == 'ios'].device_id.count()"
   ]
  },
  {
   "cell_type": "code",
   "execution_count": 234,
   "id": "905f225d",
   "metadata": {},
   "outputs": [
    {
     "data": {
      "text/plain": [
       "3.0"
      ]
     },
     "execution_count": 234,
     "metadata": {},
     "output_type": "execute_result"
    }
   ],
   "source": [
    "round(df_game_2022.loc[df_game_2022['platform'] == 'amazon'].ad_impressions.sum(),2) / df_game_2022.loc[df_game_2022['platform'] == 'amazon'].device_id.count()"
   ]
  },
  {
   "cell_type": "markdown",
   "id": "695f6d4d",
   "metadata": {},
   "source": [
    "Conclusão : Jogadores que utilziam como plataforma o android são mais impactados por anuncios"
   ]
  },
  {
   "cell_type": "code",
   "execution_count": 159,
   "id": "e2884516",
   "metadata": {},
   "outputs": [],
   "source": [
    "# quem fica mais tempo jogando ?"
   ]
  },
  {
   "cell_type": "markdown",
   "id": "df8fed56",
   "metadata": {},
   "source": [
    "## 2) Country "
   ]
  },
  {
   "cell_type": "markdown",
   "id": "36e53b80",
   "metadata": {},
   "source": [
    "#### País com maior número de dowloads"
   ]
  },
  {
   "cell_type": "code",
   "execution_count": 235,
   "id": "cc5472fd",
   "metadata": {},
   "outputs": [
    {
     "data": {
      "text/html": [
       "<div>\n",
       "<style scoped>\n",
       "    .dataframe tbody tr th:only-of-type {\n",
       "        vertical-align: middle;\n",
       "    }\n",
       "\n",
       "    .dataframe tbody tr th {\n",
       "        vertical-align: top;\n",
       "    }\n",
       "\n",
       "    .dataframe thead th {\n",
       "        text-align: right;\n",
       "    }\n",
       "</style>\n",
       "<table border=\"1\" class=\"dataframe\">\n",
       "  <thead>\n",
       "    <tr style=\"text-align: right;\">\n",
       "      <th></th>\n",
       "      <th>country</th>\n",
       "      <th>device_id</th>\n",
       "    </tr>\n",
       "  </thead>\n",
       "  <tbody>\n",
       "    <tr>\n",
       "      <th>18</th>\n",
       "      <td>United States</td>\n",
       "      <td>1564465</td>\n",
       "    </tr>\n",
       "    <tr>\n",
       "      <th>19</th>\n",
       "      <td>outros</td>\n",
       "      <td>1513875</td>\n",
       "    </tr>\n",
       "    <tr>\n",
       "      <th>2</th>\n",
       "      <td>Brazil</td>\n",
       "      <td>609061</td>\n",
       "    </tr>\n",
       "    <tr>\n",
       "      <th>7</th>\n",
       "      <td>India</td>\n",
       "      <td>483780</td>\n",
       "    </tr>\n",
       "    <tr>\n",
       "      <th>6</th>\n",
       "      <td>Germany</td>\n",
       "      <td>455712</td>\n",
       "    </tr>\n",
       "    <tr>\n",
       "      <th>17</th>\n",
       "      <td>United Kingdom</td>\n",
       "      <td>358499</td>\n",
       "    </tr>\n",
       "    <tr>\n",
       "      <th>9</th>\n",
       "      <td>Mexico</td>\n",
       "      <td>299765</td>\n",
       "    </tr>\n",
       "    <tr>\n",
       "      <th>8</th>\n",
       "      <td>Italy</td>\n",
       "      <td>265196</td>\n",
       "    </tr>\n",
       "    <tr>\n",
       "      <th>5</th>\n",
       "      <td>France</td>\n",
       "      <td>264786</td>\n",
       "    </tr>\n",
       "    <tr>\n",
       "      <th>12</th>\n",
       "      <td>Poland</td>\n",
       "      <td>223249</td>\n",
       "    </tr>\n",
       "    <tr>\n",
       "      <th>0</th>\n",
       "      <td>Argentina</td>\n",
       "      <td>178530</td>\n",
       "    </tr>\n",
       "    <tr>\n",
       "      <th>4</th>\n",
       "      <td>Colombia</td>\n",
       "      <td>168556</td>\n",
       "    </tr>\n",
       "    <tr>\n",
       "      <th>16</th>\n",
       "      <td>Turkey</td>\n",
       "      <td>153164</td>\n",
       "    </tr>\n",
       "    <tr>\n",
       "      <th>3</th>\n",
       "      <td>Canada</td>\n",
       "      <td>152092</td>\n",
       "    </tr>\n",
       "    <tr>\n",
       "      <th>14</th>\n",
       "      <td>Spain</td>\n",
       "      <td>147452</td>\n",
       "    </tr>\n",
       "    <tr>\n",
       "      <th>1</th>\n",
       "      <td>Australia</td>\n",
       "      <td>136625</td>\n",
       "    </tr>\n",
       "    <tr>\n",
       "      <th>11</th>\n",
       "      <td>Philippines</td>\n",
       "      <td>122303</td>\n",
       "    </tr>\n",
       "    <tr>\n",
       "      <th>15</th>\n",
       "      <td>Thailand</td>\n",
       "      <td>101211</td>\n",
       "    </tr>\n",
       "    <tr>\n",
       "      <th>13</th>\n",
       "      <td>Russian Federation</td>\n",
       "      <td>89249</td>\n",
       "    </tr>\n",
       "    <tr>\n",
       "      <th>10</th>\n",
       "      <td>Netherlands</td>\n",
       "      <td>80362</td>\n",
       "    </tr>\n",
       "  </tbody>\n",
       "</table>\n",
       "</div>"
      ],
      "text/plain": [
       "               country  device_id\n",
       "18       United States    1564465\n",
       "19              outros    1513875\n",
       "2               Brazil     609061\n",
       "7                India     483780\n",
       "6              Germany     455712\n",
       "17      United Kingdom     358499\n",
       "9               Mexico     299765\n",
       "8                Italy     265196\n",
       "5               France     264786\n",
       "12              Poland     223249\n",
       "0            Argentina     178530\n",
       "4             Colombia     168556\n",
       "16              Turkey     153164\n",
       "3               Canada     152092\n",
       "14               Spain     147452\n",
       "1            Australia     136625\n",
       "11         Philippines     122303\n",
       "15            Thailand     101211\n",
       "13  Russian Federation      89249\n",
       "10         Netherlands      80362"
      ]
     },
     "execution_count": 235,
     "metadata": {},
     "output_type": "execute_result"
    }
   ],
   "source": [
    "df_pais_jogadores = df_game_2022.groupby('country').device_id.count()\n",
    "df_pais_jogadores = pd.DataFrame(df_pais_jogadores).reset_index() \n",
    "df_pais_jogadores = df_pais_jogadores.sort_values(\"device_id\" , ascending=False)\n",
    "df_pais_jogadores"
   ]
  },
  {
   "cell_type": "markdown",
   "id": "30406eff",
   "metadata": {},
   "source": [
    "Conclusão: EUA lideram em número de downloads, ficando acima do que a soma de 230 paises. O Brasil fica em 3 lugar, com um pouco menos que a metade do numero dos EUA"
   ]
  },
  {
   "cell_type": "code",
   "execution_count": 237,
   "id": "40c16fb1",
   "metadata": {},
   "outputs": [
    {
     "data": {
      "text/html": [
       "<div>\n",
       "<style scoped>\n",
       "    .dataframe tbody tr th:only-of-type {\n",
       "        vertical-align: middle;\n",
       "    }\n",
       "\n",
       "    .dataframe tbody tr th {\n",
       "        vertical-align: top;\n",
       "    }\n",
       "\n",
       "    .dataframe thead th {\n",
       "        text-align: right;\n",
       "    }\n",
       "</style>\n",
       "<table border=\"1\" class=\"dataframe\">\n",
       "  <thead>\n",
       "    <tr style=\"text-align: right;\">\n",
       "      <th></th>\n",
       "      <th>country</th>\n",
       "      <th>revenue_total</th>\n",
       "    </tr>\n",
       "  </thead>\n",
       "  <tbody>\n",
       "    <tr>\n",
       "      <th>18</th>\n",
       "      <td>United States</td>\n",
       "      <td>4.751085e+06</td>\n",
       "    </tr>\n",
       "    <tr>\n",
       "      <th>19</th>\n",
       "      <td>outros</td>\n",
       "      <td>4.496616e+06</td>\n",
       "    </tr>\n",
       "    <tr>\n",
       "      <th>2</th>\n",
       "      <td>Brazil</td>\n",
       "      <td>1.787848e+06</td>\n",
       "    </tr>\n",
       "    <tr>\n",
       "      <th>7</th>\n",
       "      <td>India</td>\n",
       "      <td>1.419299e+06</td>\n",
       "    </tr>\n",
       "    <tr>\n",
       "      <th>6</th>\n",
       "      <td>Germany</td>\n",
       "      <td>1.365076e+06</td>\n",
       "    </tr>\n",
       "    <tr>\n",
       "      <th>17</th>\n",
       "      <td>United Kingdom</td>\n",
       "      <td>1.070884e+06</td>\n",
       "    </tr>\n",
       "    <tr>\n",
       "      <th>9</th>\n",
       "      <td>Mexico</td>\n",
       "      <td>8.816270e+05</td>\n",
       "    </tr>\n",
       "    <tr>\n",
       "      <th>5</th>\n",
       "      <td>France</td>\n",
       "      <td>7.885887e+05</td>\n",
       "    </tr>\n",
       "    <tr>\n",
       "      <th>8</th>\n",
       "      <td>Italy</td>\n",
       "      <td>7.858190e+05</td>\n",
       "    </tr>\n",
       "    <tr>\n",
       "      <th>12</th>\n",
       "      <td>Poland</td>\n",
       "      <td>6.595693e+05</td>\n",
       "    </tr>\n",
       "    <tr>\n",
       "      <th>0</th>\n",
       "      <td>Argentina</td>\n",
       "      <td>5.282170e+05</td>\n",
       "    </tr>\n",
       "    <tr>\n",
       "      <th>4</th>\n",
       "      <td>Colombia</td>\n",
       "      <td>4.984701e+05</td>\n",
       "    </tr>\n",
       "    <tr>\n",
       "      <th>3</th>\n",
       "      <td>Canada</td>\n",
       "      <td>4.557622e+05</td>\n",
       "    </tr>\n",
       "    <tr>\n",
       "      <th>16</th>\n",
       "      <td>Turkey</td>\n",
       "      <td>4.492851e+05</td>\n",
       "    </tr>\n",
       "    <tr>\n",
       "      <th>14</th>\n",
       "      <td>Spain</td>\n",
       "      <td>4.366242e+05</td>\n",
       "    </tr>\n",
       "    <tr>\n",
       "      <th>1</th>\n",
       "      <td>Australia</td>\n",
       "      <td>4.130623e+05</td>\n",
       "    </tr>\n",
       "    <tr>\n",
       "      <th>11</th>\n",
       "      <td>Philippines</td>\n",
       "      <td>3.615578e+05</td>\n",
       "    </tr>\n",
       "    <tr>\n",
       "      <th>15</th>\n",
       "      <td>Thailand</td>\n",
       "      <td>2.974146e+05</td>\n",
       "    </tr>\n",
       "    <tr>\n",
       "      <th>13</th>\n",
       "      <td>Russian Federation</td>\n",
       "      <td>2.648827e+05</td>\n",
       "    </tr>\n",
       "    <tr>\n",
       "      <th>10</th>\n",
       "      <td>Netherlands</td>\n",
       "      <td>2.390127e+05</td>\n",
       "    </tr>\n",
       "  </tbody>\n",
       "</table>\n",
       "</div>"
      ],
      "text/plain": [
       "               country  revenue_total\n",
       "18       United States   4.751085e+06\n",
       "19              outros   4.496616e+06\n",
       "2               Brazil   1.787848e+06\n",
       "7                India   1.419299e+06\n",
       "6              Germany   1.365076e+06\n",
       "17      United Kingdom   1.070884e+06\n",
       "9               Mexico   8.816270e+05\n",
       "5               France   7.885887e+05\n",
       "8                Italy   7.858190e+05\n",
       "12              Poland   6.595693e+05\n",
       "0            Argentina   5.282170e+05\n",
       "4             Colombia   4.984701e+05\n",
       "3               Canada   4.557622e+05\n",
       "16              Turkey   4.492851e+05\n",
       "14               Spain   4.366242e+05\n",
       "1            Australia   4.130623e+05\n",
       "11         Philippines   3.615578e+05\n",
       "15            Thailand   2.974146e+05\n",
       "13  Russian Federation   2.648827e+05\n",
       "10         Netherlands   2.390127e+05"
      ]
     },
     "execution_count": 237,
     "metadata": {},
     "output_type": "execute_result"
    }
   ],
   "source": [
    "df_pais_valor = df_game_2022.groupby('country').revenue_total.sum()\n",
    "df_pais_valor = pd.DataFrame(df_pais_valor).reset_index() \n",
    "df_pais_valor = df_pais_valor.sort_values(\"revenue_total\" , ascending=False)\n",
    "df_pais_valor"
   ]
  },
  {
   "cell_type": "markdown",
   "id": "03e1993c",
   "metadata": {},
   "source": [
    "Conclusão: EUA lideram em revenue"
   ]
  },
  {
   "cell_type": "markdown",
   "id": "aa2dcb30",
   "metadata": {},
   "source": [
    "## 3)Partner"
   ]
  },
  {
   "cell_type": "markdown",
   "id": "affd2d6f",
   "metadata": {},
   "source": [
    "#### Qual partner trouxe mais jogadores ?"
   ]
  },
  {
   "cell_type": "code",
   "execution_count": 238,
   "id": "bc7475a6",
   "metadata": {},
   "outputs": [
    {
     "data": {
      "text/plain": [
       "Paid       0.571598\n",
       "Organic    0.428402\n",
       "Name: partner, dtype: float64"
      ]
     },
     "execution_count": 238,
     "metadata": {},
     "output_type": "execute_result"
    }
   ],
   "source": [
    "df_partner = df_game_2022['partner'].value_counts() / df_game_2022.shape[0]\n",
    "df_partner"
   ]
  },
  {
   "cell_type": "markdown",
   "id": "b4cafe6c",
   "metadata": {},
   "source": [
    "Conclusão: Há mais jogadores de origem paga"
   ]
  },
  {
   "cell_type": "markdown",
   "id": "9d40bc61",
   "metadata": {},
   "source": [
    "#### Qual partner traz mais revenue ?"
   ]
  },
  {
   "cell_type": "code",
   "execution_count": 239,
   "id": "ec674f77",
   "metadata": {},
   "outputs": [
    {
     "data": {
      "text/plain": [
       "12553804.26"
      ]
     },
     "execution_count": 239,
     "metadata": {},
     "output_type": "execute_result"
    }
   ],
   "source": [
    "round(df_game_2022.loc[df_game_2022['partner'] == 'Paid'].revenue_total.sum(),2)"
   ]
  },
  {
   "cell_type": "code",
   "execution_count": 240,
   "id": "bde28189",
   "metadata": {},
   "outputs": [
    {
     "data": {
      "text/plain": [
       "9396896.34"
      ]
     },
     "execution_count": 240,
     "metadata": {},
     "output_type": "execute_result"
    }
   ],
   "source": [
    "round(df_game_2022.loc[df_game_2022['partner'] == 'Organic'].revenue_total.sum(),2)"
   ]
  },
  {
   "cell_type": "markdown",
   "id": "fe141e2a",
   "metadata": {},
   "source": [
    "Conclusão : Jogadores que vieram via **user acquisition** gastam mais"
   ]
  },
  {
   "cell_type": "markdown",
   "id": "a68c8133",
   "metadata": {},
   "source": [
    "#### Qual retorno médio por jogador trazido por cada partner?"
   ]
  },
  {
   "cell_type": "code",
   "execution_count": 241,
   "id": "5072896e",
   "metadata": {},
   "outputs": [
    {
     "data": {
      "text/plain": [
       "2.980844147194356"
      ]
     },
     "execution_count": 241,
     "metadata": {},
     "output_type": "execute_result"
    }
   ],
   "source": [
    "round(df_game_2022.loc[df_game_2022['partner'] == 'Paid'].revenue_total.sum(),2) / df_game_2022.loc[df_game_2022['partner'] == 'Paid'].device_id.count()"
   ]
  },
  {
   "cell_type": "code",
   "execution_count": 242,
   "id": "fd4bac41",
   "metadata": {},
   "outputs": [
    {
     "data": {
      "text/plain": [
       "2.9770562142971873"
      ]
     },
     "execution_count": 242,
     "metadata": {},
     "output_type": "execute_result"
    }
   ],
   "source": [
    "round(df_game_2022.loc[df_game_2022['partner'] == 'Organic'].revenue_total.sum(),2) / df_game_2022.loc[df_game_2022['partner'] == 'Organic'].device_id.count()"
   ]
  },
  {
   "cell_type": "markdown",
   "id": "07c80a2c",
   "metadata": {},
   "source": [
    "Conclusão : O retorno médio por jogador é praticamente igual, idependente da origem dele"
   ]
  },
  {
   "cell_type": "code",
   "execution_count": null,
   "id": "7549a274",
   "metadata": {},
   "outputs": [],
   "source": []
  },
  {
   "cell_type": "code",
   "execution_count": null,
   "id": "054ecdb4",
   "metadata": {},
   "outputs": [],
   "source": [
    "##### Criando bases com dummies"
   ]
  },
  {
   "cell_type": "code",
   "execution_count": 244,
   "id": "55619396",
   "metadata": {},
   "outputs": [],
   "source": [
    "\n",
    "# com dummies para categoricas\n",
    "df_game2 = pd.get_dummies(df_game , columns=['platform' , 'partner' , 'country'])\n",
    "\n",
    "# deixar no formato mes\n",
    "df_game2['event_date'] = pd.to_datetime(df_game2['event_date'],format=\"%Y-%m-%D\")\n",
    "df_game2['event_date'] = [i.strftime('%Y-%m') for i in df_game2['event_date']]\n",
    "df_game2['creation_date'] = pd.to_datetime(df_game2['creation_date'],format=\"%Y-%m-%D\")\n",
    "df_game2['creation_date'] = [i.strftime('%Y-%m') for i in df_game2['creation_date']]\n",
    "\n",
    "#criando base 2022\n",
    "df_game2_2022 = df_game2.loc[df_game2['creation_date']>= '2022-01']\n",
    "\n",
    "# criando novas bases\n",
    "df_game2.to_csv('game_mes.csv', index=False)\n",
    "df_game2_2022.to_csv('game_mes22.csv', index=False)"
   ]
  },
  {
   "cell_type": "code",
   "execution_count": 40,
   "id": "927d142b",
   "metadata": {},
   "outputs": [],
   "source": [
    "# agrupar por data de primeiro login\n",
    "#df_dt_login = df_game_.groupby('creation_date').sum()\n",
    "#df_dt_login"
   ]
  },
  {
   "cell_type": "markdown",
   "id": "d0cde553",
   "metadata": {},
   "source": [
    "- agrupar resultados por mes\n",
    "- fazer alguns graficos para analisar o movimento\n",
    "- analise distribuições \n",
    "- modelo de 3 meses    \n"
   ]
  },
  {
   "cell_type": "code",
   "execution_count": 5,
   "id": "787f9c5f",
   "metadata": {},
   "outputs": [
    {
     "data": {
      "text/html": [
       "<div>\n",
       "<style scoped>\n",
       "    .dataframe tbody tr th:only-of-type {\n",
       "        vertical-align: middle;\n",
       "    }\n",
       "\n",
       "    .dataframe tbody tr th {\n",
       "        vertical-align: top;\n",
       "    }\n",
       "\n",
       "    .dataframe thead th {\n",
       "        text-align: right;\n",
       "    }\n",
       "</style>\n",
       "<table border=\"1\" class=\"dataframe\">\n",
       "  <thead>\n",
       "    <tr style=\"text-align: right;\">\n",
       "      <th></th>\n",
       "      <th>device_id</th>\n",
       "      <th>event_date</th>\n",
       "      <th>creation_date</th>\n",
       "      <th>app</th>\n",
       "      <th>iap_purchases</th>\n",
       "      <th>iap_revenue</th>\n",
       "      <th>ads_revenue</th>\n",
       "      <th>ad_impressions</th>\n",
       "      <th>platform_amazon</th>\n",
       "      <th>platform_android</th>\n",
       "      <th>...</th>\n",
       "      <th>country_United States</th>\n",
       "      <th>country_Uruguay</th>\n",
       "      <th>country_Uzbekistan</th>\n",
       "      <th>country_Vanuatu</th>\n",
       "      <th>country_Venezuela</th>\n",
       "      <th>country_Vietnam</th>\n",
       "      <th>country_Wallis and Futuna</th>\n",
       "      <th>country_Yemen</th>\n",
       "      <th>country_Zambia</th>\n",
       "      <th>country_Zimbabwe</th>\n",
       "    </tr>\n",
       "  </thead>\n",
       "  <tbody>\n",
       "    <tr>\n",
       "      <th>0</th>\n",
       "      <td>54a09dd2892b768a6ae566e0f4ee61e1</td>\n",
       "      <td>2022-05</td>\n",
       "      <td>2022-05</td>\n",
       "      <td>Football Simulator</td>\n",
       "      <td>1</td>\n",
       "      <td>2.359500</td>\n",
       "      <td>0.065268</td>\n",
       "      <td>3</td>\n",
       "      <td>0</td>\n",
       "      <td>1</td>\n",
       "      <td>...</td>\n",
       "      <td>0</td>\n",
       "      <td>0</td>\n",
       "      <td>0</td>\n",
       "      <td>0</td>\n",
       "      <td>0</td>\n",
       "      <td>0</td>\n",
       "      <td>0</td>\n",
       "      <td>0</td>\n",
       "      <td>0</td>\n",
       "      <td>0</td>\n",
       "    </tr>\n",
       "    <tr>\n",
       "      <th>1</th>\n",
       "      <td>be59fd534f61e87e6c617fa50edde27e</td>\n",
       "      <td>2022-04</td>\n",
       "      <td>2022-03</td>\n",
       "      <td>Football Simulator</td>\n",
       "      <td>1</td>\n",
       "      <td>2.223075</td>\n",
       "      <td>0.032855</td>\n",
       "      <td>28</td>\n",
       "      <td>0</td>\n",
       "      <td>0</td>\n",
       "      <td>...</td>\n",
       "      <td>1</td>\n",
       "      <td>0</td>\n",
       "      <td>0</td>\n",
       "      <td>0</td>\n",
       "      <td>0</td>\n",
       "      <td>0</td>\n",
       "      <td>0</td>\n",
       "      <td>0</td>\n",
       "      <td>0</td>\n",
       "      <td>0</td>\n",
       "    </tr>\n",
       "    <tr>\n",
       "      <th>2</th>\n",
       "      <td>af4830573c2ac1d4efc538d16d645b31</td>\n",
       "      <td>2022-03</td>\n",
       "      <td>2022-03</td>\n",
       "      <td>Football Simulator</td>\n",
       "      <td>1</td>\n",
       "      <td>3.933454</td>\n",
       "      <td>0.000260</td>\n",
       "      <td>7</td>\n",
       "      <td>0</td>\n",
       "      <td>1</td>\n",
       "      <td>...</td>\n",
       "      <td>0</td>\n",
       "      <td>0</td>\n",
       "      <td>0</td>\n",
       "      <td>0</td>\n",
       "      <td>0</td>\n",
       "      <td>0</td>\n",
       "      <td>0</td>\n",
       "      <td>0</td>\n",
       "      <td>0</td>\n",
       "      <td>0</td>\n",
       "    </tr>\n",
       "    <tr>\n",
       "      <th>3</th>\n",
       "      <td>13c70063c611c94b1f5051e4eba6f5c0</td>\n",
       "      <td>2022-03</td>\n",
       "      <td>2022-03</td>\n",
       "      <td>Football Simulator</td>\n",
       "      <td>1</td>\n",
       "      <td>3.238375</td>\n",
       "      <td>0.000663</td>\n",
       "      <td>4</td>\n",
       "      <td>0</td>\n",
       "      <td>1</td>\n",
       "      <td>...</td>\n",
       "      <td>1</td>\n",
       "      <td>0</td>\n",
       "      <td>0</td>\n",
       "      <td>0</td>\n",
       "      <td>0</td>\n",
       "      <td>0</td>\n",
       "      <td>0</td>\n",
       "      <td>0</td>\n",
       "      <td>0</td>\n",
       "      <td>0</td>\n",
       "    </tr>\n",
       "    <tr>\n",
       "      <th>4</th>\n",
       "      <td>9910918abee08a5d5156c3f49e1d1cdb</td>\n",
       "      <td>2022-04</td>\n",
       "      <td>2022-03</td>\n",
       "      <td>Football Simulator</td>\n",
       "      <td>1</td>\n",
       "      <td>1.545516</td>\n",
       "      <td>0.006923</td>\n",
       "      <td>12</td>\n",
       "      <td>0</td>\n",
       "      <td>0</td>\n",
       "      <td>...</td>\n",
       "      <td>1</td>\n",
       "      <td>0</td>\n",
       "      <td>0</td>\n",
       "      <td>0</td>\n",
       "      <td>0</td>\n",
       "      <td>0</td>\n",
       "      <td>0</td>\n",
       "      <td>0</td>\n",
       "      <td>0</td>\n",
       "      <td>0</td>\n",
       "    </tr>\n",
       "  </tbody>\n",
       "</table>\n",
       "<p>5 rows × 246 columns</p>\n",
       "</div>"
      ],
      "text/plain": [
       "                          device_id event_date creation_date  \\\n",
       "0  54a09dd2892b768a6ae566e0f4ee61e1    2022-05       2022-05   \n",
       "1  be59fd534f61e87e6c617fa50edde27e    2022-04       2022-03   \n",
       "2  af4830573c2ac1d4efc538d16d645b31    2022-03       2022-03   \n",
       "3  13c70063c611c94b1f5051e4eba6f5c0    2022-03       2022-03   \n",
       "4  9910918abee08a5d5156c3f49e1d1cdb    2022-04       2022-03   \n",
       "\n",
       "                  app  iap_purchases  iap_revenue  ads_revenue  \\\n",
       "0  Football Simulator              1     2.359500     0.065268   \n",
       "1  Football Simulator              1     2.223075     0.032855   \n",
       "2  Football Simulator              1     3.933454     0.000260   \n",
       "3  Football Simulator              1     3.238375     0.000663   \n",
       "4  Football Simulator              1     1.545516     0.006923   \n",
       "\n",
       "   ad_impressions  platform_amazon  platform_android  ...  \\\n",
       "0               3                0                 1  ...   \n",
       "1              28                0                 0  ...   \n",
       "2               7                0                 1  ...   \n",
       "3               4                0                 1  ...   \n",
       "4              12                0                 0  ...   \n",
       "\n",
       "   country_United States  country_Uruguay  country_Uzbekistan  \\\n",
       "0                      0                0                   0   \n",
       "1                      1                0                   0   \n",
       "2                      0                0                   0   \n",
       "3                      1                0                   0   \n",
       "4                      1                0                   0   \n",
       "\n",
       "   country_Vanuatu  country_Venezuela  country_Vietnam  \\\n",
       "0                0                  0                0   \n",
       "1                0                  0                0   \n",
       "2                0                  0                0   \n",
       "3                0                  0                0   \n",
       "4                0                  0                0   \n",
       "\n",
       "   country_Wallis and Futuna  country_Yemen  country_Zambia  country_Zimbabwe  \n",
       "0                          0              0               0                 0  \n",
       "1                          0              0               0                 0  \n",
       "2                          0              0               0                 0  \n",
       "3                          0              0               0                 0  \n",
       "4                          0              0               0                 0  \n",
       "\n",
       "[5 rows x 246 columns]"
      ]
     },
     "execution_count": 5,
     "metadata": {},
     "output_type": "execute_result"
    }
   ],
   "source": [
    "df_game_mes22 = pd.read_csv('game_mes22.csv', sep=',', error_bad_lines=False)\n",
    "df_game_mes22.head()"
   ]
  },
  {
   "cell_type": "code",
   "execution_count": null,
   "id": "e706cb42",
   "metadata": {},
   "outputs": [],
   "source": [
    "#df_dt_login = df_game_.groupby('creation_date').sum()\n",
    "#df_dt_login"
   ]
  }
 ],
 "metadata": {
  "kernelspec": {
   "display_name": "Python 3",
   "language": "python",
   "name": "python3"
  },
  "language_info": {
   "codemirror_mode": {
    "name": "ipython",
    "version": 3
   },
   "file_extension": ".py",
   "mimetype": "text/x-python",
   "name": "python",
   "nbconvert_exporter": "python",
   "pygments_lexer": "ipython3",
   "version": "3.8.8"
  }
 },
 "nbformat": 4,
 "nbformat_minor": 5
}
